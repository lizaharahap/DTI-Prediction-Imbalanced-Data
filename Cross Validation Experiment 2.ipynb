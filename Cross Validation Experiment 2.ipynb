{
 "cells": [
  {
   "cell_type": "code",
   "execution_count": 1,
   "id": "c289f5eb",
   "metadata": {},
   "outputs": [],
   "source": [
    "import random\n",
    "import math\n",
    "import copy\n",
    "import time\n",
    "import json\n",
    "import datetime\n",
    "import numpy as np\n",
    "import pandas as pd\n",
    "\n",
    "from sklearn.preprocessing import StandardScaler\n",
    "from sklearn.ensemble import RandomForestClassifier, GradientBoostingClassifier\n",
    "from sklearn.svm import SVC\n",
    "from sklearn.linear_model import LogisticRegression\n",
    "from sklearn.pipeline import make_pipeline\n",
    "\n",
    "from sklearn.model_selection import KFold, train_test_split\n",
    "from sklearn.metrics import f1_score,balanced_accuracy_score,roc_auc_score\n",
    "\n",
    "from imblearn.over_sampling import SMOTE,RandomOverSampler,ADASYN\n",
    "from imblearn.under_sampling import RandomUnderSampler,RepeatedEditedNearestNeighbours,AllKNN,CondensedNearestNeighbour,EditedNearestNeighbours,TomekLinks\n",
    "from imblearn.combine import SMOTEENN,SMOTETomek\n",
    "from imblearn.pipeline import make_pipeline as pipe_imblearn\n",
    "from imblearn.metrics import geometric_mean_score\n",
    "\n",
    "from oversampling_aco import OVRS_ACO\n",
    "\n",
    "import warnings\n",
    "warnings.filterwarnings('ignore')"
   ]
  },
  {
   "cell_type": "markdown",
   "id": "ea35b53a",
   "metadata": {},
   "source": [
    "# Dataset"
   ]
  },
  {
   "cell_type": "code",
   "execution_count": 2,
   "id": "81f9df41",
   "metadata": {},
   "outputs": [],
   "source": [
    "df = pd.read_csv(\"data/NR_AB.csv\").drop('Unnamed: 0',axis=1)"
   ]
  },
  {
   "cell_type": "code",
   "execution_count": 3,
   "id": "8e14005b",
   "metadata": {},
   "outputs": [],
   "source": [
    "X = df.drop(['label','drug_no','protein_no'],axis=1)\n",
    "y = df['label']"
   ]
  },
  {
   "cell_type": "code",
   "execution_count": 4,
   "id": "4325d4ca",
   "metadata": {},
   "outputs": [
    {
     "data": {
      "text/html": [
       "<div>\n",
       "<style scoped>\n",
       "    .dataframe tbody tr th:only-of-type {\n",
       "        vertical-align: middle;\n",
       "    }\n",
       "\n",
       "    .dataframe tbody tr th {\n",
       "        vertical-align: top;\n",
       "    }\n",
       "\n",
       "    .dataframe thead th {\n",
       "        text-align: right;\n",
       "    }\n",
       "</style>\n",
       "<table border=\"1\" class=\"dataframe\">\n",
       "  <thead>\n",
       "    <tr style=\"text-align: right;\">\n",
       "      <th></th>\n",
       "      <th>fp2_0</th>\n",
       "      <th>fp2_1</th>\n",
       "      <th>fp2_2</th>\n",
       "      <th>fp2_3</th>\n",
       "      <th>fp2_4</th>\n",
       "      <th>fp2_5</th>\n",
       "      <th>fp2_6</th>\n",
       "      <th>fp2_7</th>\n",
       "      <th>fp2_8</th>\n",
       "      <th>fp2_9</th>\n",
       "      <th>...</th>\n",
       "      <th>DPC_390</th>\n",
       "      <th>DPC_391</th>\n",
       "      <th>DPC_392</th>\n",
       "      <th>DPC_393</th>\n",
       "      <th>DPC_394</th>\n",
       "      <th>DPC_395</th>\n",
       "      <th>DPC_396</th>\n",
       "      <th>DPC_397</th>\n",
       "      <th>DPC_398</th>\n",
       "      <th>DPC_399</th>\n",
       "    </tr>\n",
       "  </thead>\n",
       "  <tbody>\n",
       "    <tr>\n",
       "      <th>0</th>\n",
       "      <td>0.0</td>\n",
       "      <td>0.0</td>\n",
       "      <td>0.0</td>\n",
       "      <td>0.0</td>\n",
       "      <td>0.0</td>\n",
       "      <td>0.0</td>\n",
       "      <td>0.0</td>\n",
       "      <td>0.0</td>\n",
       "      <td>0.0</td>\n",
       "      <td>0.0</td>\n",
       "      <td>...</td>\n",
       "      <td>0.000000</td>\n",
       "      <td>0.487207</td>\n",
       "      <td>0.000000</td>\n",
       "      <td>0.0</td>\n",
       "      <td>1.000000</td>\n",
       "      <td>0.517058</td>\n",
       "      <td>0.000000</td>\n",
       "      <td>0.000000</td>\n",
       "      <td>0.0</td>\n",
       "      <td>0.0</td>\n",
       "    </tr>\n",
       "    <tr>\n",
       "      <th>1</th>\n",
       "      <td>0.0</td>\n",
       "      <td>0.0</td>\n",
       "      <td>0.0</td>\n",
       "      <td>0.0</td>\n",
       "      <td>0.0</td>\n",
       "      <td>0.0</td>\n",
       "      <td>0.0</td>\n",
       "      <td>0.0</td>\n",
       "      <td>0.0</td>\n",
       "      <td>0.0</td>\n",
       "      <td>...</td>\n",
       "      <td>0.364478</td>\n",
       "      <td>0.384680</td>\n",
       "      <td>0.382155</td>\n",
       "      <td>0.0</td>\n",
       "      <td>0.263187</td>\n",
       "      <td>0.408249</td>\n",
       "      <td>0.388047</td>\n",
       "      <td>0.000000</td>\n",
       "      <td>0.0</td>\n",
       "      <td>1.0</td>\n",
       "    </tr>\n",
       "    <tr>\n",
       "      <th>2</th>\n",
       "      <td>0.0</td>\n",
       "      <td>0.0</td>\n",
       "      <td>0.0</td>\n",
       "      <td>0.0</td>\n",
       "      <td>0.0</td>\n",
       "      <td>0.0</td>\n",
       "      <td>0.0</td>\n",
       "      <td>0.0</td>\n",
       "      <td>0.0</td>\n",
       "      <td>0.0</td>\n",
       "      <td>...</td>\n",
       "      <td>0.000000</td>\n",
       "      <td>0.431947</td>\n",
       "      <td>0.858223</td>\n",
       "      <td>0.0</td>\n",
       "      <td>0.295526</td>\n",
       "      <td>0.458412</td>\n",
       "      <td>0.000000</td>\n",
       "      <td>0.663516</td>\n",
       "      <td>0.0</td>\n",
       "      <td>0.0</td>\n",
       "    </tr>\n",
       "    <tr>\n",
       "      <th>3</th>\n",
       "      <td>0.0</td>\n",
       "      <td>0.0</td>\n",
       "      <td>0.0</td>\n",
       "      <td>0.0</td>\n",
       "      <td>0.0</td>\n",
       "      <td>0.0</td>\n",
       "      <td>0.0</td>\n",
       "      <td>0.0</td>\n",
       "      <td>0.0</td>\n",
       "      <td>0.0</td>\n",
       "      <td>...</td>\n",
       "      <td>0.000000</td>\n",
       "      <td>0.000000</td>\n",
       "      <td>0.000000</td>\n",
       "      <td>0.0</td>\n",
       "      <td>0.000000</td>\n",
       "      <td>0.287322</td>\n",
       "      <td>0.000000</td>\n",
       "      <td>0.831754</td>\n",
       "      <td>0.0</td>\n",
       "      <td>0.0</td>\n",
       "    </tr>\n",
       "    <tr>\n",
       "      <th>4</th>\n",
       "      <td>0.0</td>\n",
       "      <td>0.0</td>\n",
       "      <td>0.0</td>\n",
       "      <td>0.0</td>\n",
       "      <td>0.0</td>\n",
       "      <td>0.0</td>\n",
       "      <td>0.0</td>\n",
       "      <td>0.0</td>\n",
       "      <td>0.0</td>\n",
       "      <td>0.0</td>\n",
       "      <td>...</td>\n",
       "      <td>0.427022</td>\n",
       "      <td>0.000000</td>\n",
       "      <td>0.000000</td>\n",
       "      <td>0.0</td>\n",
       "      <td>0.616700</td>\n",
       "      <td>0.478304</td>\n",
       "      <td>0.000000</td>\n",
       "      <td>0.000000</td>\n",
       "      <td>0.0</td>\n",
       "      <td>0.0</td>\n",
       "    </tr>\n",
       "  </tbody>\n",
       "</table>\n",
       "<p>5 rows × 676 columns</p>\n",
       "</div>"
      ],
      "text/plain": [
       "   fp2_0  fp2_1  fp2_2  fp2_3  fp2_4  fp2_5  fp2_6  fp2_7  fp2_8  fp2_9  ...  \\\n",
       "0    0.0    0.0    0.0    0.0    0.0    0.0    0.0    0.0    0.0    0.0  ...   \n",
       "1    0.0    0.0    0.0    0.0    0.0    0.0    0.0    0.0    0.0    0.0  ...   \n",
       "2    0.0    0.0    0.0    0.0    0.0    0.0    0.0    0.0    0.0    0.0  ...   \n",
       "3    0.0    0.0    0.0    0.0    0.0    0.0    0.0    0.0    0.0    0.0  ...   \n",
       "4    0.0    0.0    0.0    0.0    0.0    0.0    0.0    0.0    0.0    0.0  ...   \n",
       "\n",
       "    DPC_390   DPC_391   DPC_392  DPC_393   DPC_394   DPC_395   DPC_396  \\\n",
       "0  0.000000  0.487207  0.000000      0.0  1.000000  0.517058  0.000000   \n",
       "1  0.364478  0.384680  0.382155      0.0  0.263187  0.408249  0.388047   \n",
       "2  0.000000  0.431947  0.858223      0.0  0.295526  0.458412  0.000000   \n",
       "3  0.000000  0.000000  0.000000      0.0  0.000000  0.287322  0.000000   \n",
       "4  0.427022  0.000000  0.000000      0.0  0.616700  0.478304  0.000000   \n",
       "\n",
       "    DPC_397  DPC_398  DPC_399  \n",
       "0  0.000000      0.0      0.0  \n",
       "1  0.000000      0.0      1.0  \n",
       "2  0.663516      0.0      0.0  \n",
       "3  0.831754      0.0      0.0  \n",
       "4  0.000000      0.0      0.0  \n",
       "\n",
       "[5 rows x 676 columns]"
      ]
     },
     "execution_count": 4,
     "metadata": {},
     "output_type": "execute_result"
    }
   ],
   "source": [
    "X.head()"
   ]
  },
  {
   "cell_type": "markdown",
   "id": "a04d9263",
   "metadata": {},
   "source": [
    "# Train Test Split"
   ]
  },
  {
   "cell_type": "code",
   "execution_count": 5,
   "id": "774a06b7",
   "metadata": {},
   "outputs": [],
   "source": [
    "random_state = 42"
   ]
  },
  {
   "cell_type": "code",
   "execution_count": 6,
   "id": "5d4b92d6",
   "metadata": {},
   "outputs": [],
   "source": [
    "X_train, X_test, y_train, y_test = train_test_split(X, y, test_size=0.3,random_state = random_state)"
   ]
  },
  {
   "cell_type": "markdown",
   "id": "3b7759ff",
   "metadata": {},
   "source": [
    "# Experimentation\n",
    "\n",
    "The experiments conducted here are as follows:\n",
    "- baseline (compare several classifier)\n",
    "- oversampling with standard oversampling (compare several oversampling method)\n",
    "- oversampling with smote until the minority class become majority\n",
    "- oversampling with smote aco\n",
    "- smote aco tuning\n",
    "\n",
    "All experiments are evaluated using cross validation with F1-score\n",
    "\n",
    "lets go!"
   ]
  },
  {
   "cell_type": "code",
   "execution_count": 7,
   "id": "bdd4b9e3",
   "metadata": {},
   "outputs": [],
   "source": [
    "n_ovrs_target = [1000,1500,2000]\n",
    "ovrs_target = 1"
   ]
  },
  {
   "cell_type": "code",
   "execution_count": 32,
   "id": "a7cf4959",
   "metadata": {},
   "outputs": [],
   "source": [
    "model_rf = RandomForestClassifier(random_state = random_state)\n",
    "model_svm = SVC(random_state=random_state)\n",
    "model_gb = GradientBoostingClassifier(random_state = random_state)\n",
    "model_lr = LogisticRegression(random_state=random_state)\n",
    "\n",
    "pipeline_rf = make_pipeline(model_rf)\n",
    "pipeline_svm = make_pipeline(model_svm)\n",
    "pipeline_gb = make_pipeline(model_gb)\n",
    "pipeline_lr = make_pipeline(model_lr)\n",
    "\n",
    "smote = SMOTE(random_state=random_state,k_neighbors=11, n_jobs=-1)\n",
    "ro = RandomOverSampler(random_state=random_state)\n",
    "adasyn = ADASYN(random_state=random_state, n_jobs=-1)"
   ]
  },
  {
   "cell_type": "markdown",
   "id": "748f1770",
   "metadata": {},
   "source": [
    "## Baseline"
   ]
  },
  {
   "cell_type": "code",
   "execution_count": 9,
   "id": "603abd9f",
   "metadata": {},
   "outputs": [
    {
     "data": {
      "text/html": [
       "<style>#sk-container-id-1 {color: black;background-color: white;}#sk-container-id-1 pre{padding: 0;}#sk-container-id-1 div.sk-toggleable {background-color: white;}#sk-container-id-1 label.sk-toggleable__label {cursor: pointer;display: block;width: 100%;margin-bottom: 0;padding: 0.3em;box-sizing: border-box;text-align: center;}#sk-container-id-1 label.sk-toggleable__label-arrow:before {content: \"▸\";float: left;margin-right: 0.25em;color: #696969;}#sk-container-id-1 label.sk-toggleable__label-arrow:hover:before {color: black;}#sk-container-id-1 div.sk-estimator:hover label.sk-toggleable__label-arrow:before {color: black;}#sk-container-id-1 div.sk-toggleable__content {max-height: 0;max-width: 0;overflow: hidden;text-align: left;background-color: #f0f8ff;}#sk-container-id-1 div.sk-toggleable__content pre {margin: 0.2em;color: black;border-radius: 0.25em;background-color: #f0f8ff;}#sk-container-id-1 input.sk-toggleable__control:checked~div.sk-toggleable__content {max-height: 200px;max-width: 100%;overflow: auto;}#sk-container-id-1 input.sk-toggleable__control:checked~label.sk-toggleable__label-arrow:before {content: \"▾\";}#sk-container-id-1 div.sk-estimator input.sk-toggleable__control:checked~label.sk-toggleable__label {background-color: #d4ebff;}#sk-container-id-1 div.sk-label input.sk-toggleable__control:checked~label.sk-toggleable__label {background-color: #d4ebff;}#sk-container-id-1 input.sk-hidden--visually {border: 0;clip: rect(1px 1px 1px 1px);clip: rect(1px, 1px, 1px, 1px);height: 1px;margin: -1px;overflow: hidden;padding: 0;position: absolute;width: 1px;}#sk-container-id-1 div.sk-estimator {font-family: monospace;background-color: #f0f8ff;border: 1px dotted black;border-radius: 0.25em;box-sizing: border-box;margin-bottom: 0.5em;}#sk-container-id-1 div.sk-estimator:hover {background-color: #d4ebff;}#sk-container-id-1 div.sk-parallel-item::after {content: \"\";width: 100%;border-bottom: 1px solid gray;flex-grow: 1;}#sk-container-id-1 div.sk-label:hover label.sk-toggleable__label {background-color: #d4ebff;}#sk-container-id-1 div.sk-serial::before {content: \"\";position: absolute;border-left: 1px solid gray;box-sizing: border-box;top: 0;bottom: 0;left: 50%;z-index: 0;}#sk-container-id-1 div.sk-serial {display: flex;flex-direction: column;align-items: center;background-color: white;padding-right: 0.2em;padding-left: 0.2em;position: relative;}#sk-container-id-1 div.sk-item {position: relative;z-index: 1;}#sk-container-id-1 div.sk-parallel {display: flex;align-items: stretch;justify-content: center;background-color: white;position: relative;}#sk-container-id-1 div.sk-item::before, #sk-container-id-1 div.sk-parallel-item::before {content: \"\";position: absolute;border-left: 1px solid gray;box-sizing: border-box;top: 0;bottom: 0;left: 50%;z-index: -1;}#sk-container-id-1 div.sk-parallel-item {display: flex;flex-direction: column;z-index: 1;position: relative;background-color: white;}#sk-container-id-1 div.sk-parallel-item:first-child::after {align-self: flex-end;width: 50%;}#sk-container-id-1 div.sk-parallel-item:last-child::after {align-self: flex-start;width: 50%;}#sk-container-id-1 div.sk-parallel-item:only-child::after {width: 0;}#sk-container-id-1 div.sk-dashed-wrapped {border: 1px dashed gray;margin: 0 0.4em 0.5em 0.4em;box-sizing: border-box;padding-bottom: 0.4em;background-color: white;}#sk-container-id-1 div.sk-label label {font-family: monospace;font-weight: bold;display: inline-block;line-height: 1.2em;}#sk-container-id-1 div.sk-label-container {text-align: center;}#sk-container-id-1 div.sk-container {/* jupyter's `normalize.less` sets `[hidden] { display: none; }` but bootstrap.min.css set `[hidden] { display: none !important; }` so we also need the `!important` here to be able to override the default hidden behavior on the sphinx rendered scikit-learn.org. See: https://github.com/scikit-learn/scikit-learn/issues/21755 */display: inline-block !important;position: relative;}#sk-container-id-1 div.sk-text-repr-fallback {display: none;}</style><div id=\"sk-container-id-1\" class=\"sk-top-container\"><div class=\"sk-text-repr-fallback\"><pre>Pipeline(steps=[(&#x27;logisticregression&#x27;, LogisticRegression(random_state=42))])</pre><b>In a Jupyter environment, please rerun this cell to show the HTML representation or trust the notebook. <br />On GitHub, the HTML representation is unable to render, please try loading this page with nbviewer.org.</b></div><div class=\"sk-container\" hidden><div class=\"sk-item sk-dashed-wrapped\"><div class=\"sk-label-container\"><div class=\"sk-label sk-toggleable\"><input class=\"sk-toggleable__control sk-hidden--visually\" id=\"sk-estimator-id-1\" type=\"checkbox\" ><label for=\"sk-estimator-id-1\" class=\"sk-toggleable__label sk-toggleable__label-arrow\">Pipeline</label><div class=\"sk-toggleable__content\"><pre>Pipeline(steps=[(&#x27;logisticregression&#x27;, LogisticRegression(random_state=42))])</pre></div></div></div><div class=\"sk-serial\"><div class=\"sk-item\"><div class=\"sk-estimator sk-toggleable\"><input class=\"sk-toggleable__control sk-hidden--visually\" id=\"sk-estimator-id-2\" type=\"checkbox\" ><label for=\"sk-estimator-id-2\" class=\"sk-toggleable__label sk-toggleable__label-arrow\">LogisticRegression</label><div class=\"sk-toggleable__content\"><pre>LogisticRegression(random_state=42)</pre></div></div></div></div></div></div></div>"
      ],
      "text/plain": [
       "Pipeline(steps=[('logisticregression', LogisticRegression(random_state=42))])"
      ]
     },
     "execution_count": 9,
     "metadata": {},
     "output_type": "execute_result"
    }
   ],
   "source": [
    "pipeline_rf.fit(X_train,y_train)\n",
    "pipeline_svm.fit(X_train,y_train)\n",
    "pipeline_gb.fit(X_train,y_train)\n",
    "pipeline_lr.fit(X_train,y_train)"
   ]
  },
  {
   "cell_type": "code",
   "execution_count": 10,
   "id": "490f106b",
   "metadata": {},
   "outputs": [
    {
     "name": "stdout",
     "output_type": "stream",
     "text": [
      "rf\n",
      "f1 =  0.29411764705882354\n",
      "gm =  0.4627334677513418\n",
      "bas =  0.6011768551814318\n",
      "\n",
      "svm\n",
      "f1 =  0.0\n",
      "gm =  0.0\n",
      "bas =  0.5\n",
      "\n",
      "gb\n",
      "f1 =  0.30303030303030304\n",
      "gm =  0.46332181314822213\n",
      "bas =  0.602429988013512\n",
      "\n",
      "lr\n",
      "f1 =  0.0\n",
      "gm =  0.0\n",
      "bas =  0.49122807017543857\n"
     ]
    }
   ],
   "source": [
    "print(\"rf\")\n",
    "print(\"f1 = \", f1_score(y_test, pipeline_rf.predict(X_test)))\n",
    "print(\"gm = \", geometric_mean_score(y_test, pipeline_rf.predict(X_test)))\n",
    "print(\"bas = \", balanced_accuracy_score(y_test, pipeline_rf.predict(X_test)))\n",
    "\n",
    "print(\"\")\n",
    "\n",
    "print(\"svm\")\n",
    "print(\"f1 = \", f1_score(y_test, pipeline_svm.predict(X_test)))\n",
    "print(\"gm = \", geometric_mean_score(y_test, pipeline_svm.predict(X_test)))\n",
    "print(\"bas = \", balanced_accuracy_score(y_test, pipeline_svm.predict(X_test)))\n",
    "\n",
    "print(\"\")\n",
    "\n",
    "print(\"gb\")\n",
    "print(\"f1 = \", f1_score(y_test, pipeline_gb.predict(X_test)))\n",
    "print(\"gm = \", geometric_mean_score(y_test, pipeline_gb.predict(X_test)))\n",
    "print(\"bas = \", balanced_accuracy_score(y_test, pipeline_gb.predict(X_test)))\n",
    "\n",
    "print(\"\")\n",
    "\n",
    "print(\"lr\")\n",
    "print(\"f1 = \", f1_score(y_test, pipeline_lr.predict(X_test)))\n",
    "print(\"gm = \", geometric_mean_score(y_test, pipeline_lr.predict(X_test)))\n",
    "print(\"bas = \", balanced_accuracy_score(y_test, pipeline_lr.predict(X_test)))"
   ]
  },
  {
   "cell_type": "markdown",
   "id": "cdf88f77",
   "metadata": {},
   "source": [
    "### Proceed to oversampling experiment with best baseline classifier"
   ]
  },
  {
   "cell_type": "code",
   "execution_count": 11,
   "id": "0b4c7eb3",
   "metadata": {},
   "outputs": [],
   "source": [
    "pipeline_smote = pipe_imblearn(smote,GradientBoostingClassifier(random_state = random_state))\n",
    "pipeline_ro = pipe_imblearn(ro,GradientBoostingClassifier(random_state = random_state))\n",
    "pipeline_adasyn = pipe_imblearn(adasyn,GradientBoostingClassifier(random_state = random_state))\n",
    "\n",
    "#component inside pipeline will also be fitted, so careful when you use variabel for the model"
   ]
  },
  {
   "cell_type": "markdown",
   "id": "879f1e50",
   "metadata": {},
   "source": [
    "## standard Oversampling"
   ]
  },
  {
   "cell_type": "code",
   "execution_count": 12,
   "id": "839dfbd7",
   "metadata": {},
   "outputs": [
    {
     "data": {
      "text/html": [
       "<style>#sk-container-id-2 {color: black;background-color: white;}#sk-container-id-2 pre{padding: 0;}#sk-container-id-2 div.sk-toggleable {background-color: white;}#sk-container-id-2 label.sk-toggleable__label {cursor: pointer;display: block;width: 100%;margin-bottom: 0;padding: 0.3em;box-sizing: border-box;text-align: center;}#sk-container-id-2 label.sk-toggleable__label-arrow:before {content: \"▸\";float: left;margin-right: 0.25em;color: #696969;}#sk-container-id-2 label.sk-toggleable__label-arrow:hover:before {color: black;}#sk-container-id-2 div.sk-estimator:hover label.sk-toggleable__label-arrow:before {color: black;}#sk-container-id-2 div.sk-toggleable__content {max-height: 0;max-width: 0;overflow: hidden;text-align: left;background-color: #f0f8ff;}#sk-container-id-2 div.sk-toggleable__content pre {margin: 0.2em;color: black;border-radius: 0.25em;background-color: #f0f8ff;}#sk-container-id-2 input.sk-toggleable__control:checked~div.sk-toggleable__content {max-height: 200px;max-width: 100%;overflow: auto;}#sk-container-id-2 input.sk-toggleable__control:checked~label.sk-toggleable__label-arrow:before {content: \"▾\";}#sk-container-id-2 div.sk-estimator input.sk-toggleable__control:checked~label.sk-toggleable__label {background-color: #d4ebff;}#sk-container-id-2 div.sk-label input.sk-toggleable__control:checked~label.sk-toggleable__label {background-color: #d4ebff;}#sk-container-id-2 input.sk-hidden--visually {border: 0;clip: rect(1px 1px 1px 1px);clip: rect(1px, 1px, 1px, 1px);height: 1px;margin: -1px;overflow: hidden;padding: 0;position: absolute;width: 1px;}#sk-container-id-2 div.sk-estimator {font-family: monospace;background-color: #f0f8ff;border: 1px dotted black;border-radius: 0.25em;box-sizing: border-box;margin-bottom: 0.5em;}#sk-container-id-2 div.sk-estimator:hover {background-color: #d4ebff;}#sk-container-id-2 div.sk-parallel-item::after {content: \"\";width: 100%;border-bottom: 1px solid gray;flex-grow: 1;}#sk-container-id-2 div.sk-label:hover label.sk-toggleable__label {background-color: #d4ebff;}#sk-container-id-2 div.sk-serial::before {content: \"\";position: absolute;border-left: 1px solid gray;box-sizing: border-box;top: 0;bottom: 0;left: 50%;z-index: 0;}#sk-container-id-2 div.sk-serial {display: flex;flex-direction: column;align-items: center;background-color: white;padding-right: 0.2em;padding-left: 0.2em;position: relative;}#sk-container-id-2 div.sk-item {position: relative;z-index: 1;}#sk-container-id-2 div.sk-parallel {display: flex;align-items: stretch;justify-content: center;background-color: white;position: relative;}#sk-container-id-2 div.sk-item::before, #sk-container-id-2 div.sk-parallel-item::before {content: \"\";position: absolute;border-left: 1px solid gray;box-sizing: border-box;top: 0;bottom: 0;left: 50%;z-index: -1;}#sk-container-id-2 div.sk-parallel-item {display: flex;flex-direction: column;z-index: 1;position: relative;background-color: white;}#sk-container-id-2 div.sk-parallel-item:first-child::after {align-self: flex-end;width: 50%;}#sk-container-id-2 div.sk-parallel-item:last-child::after {align-self: flex-start;width: 50%;}#sk-container-id-2 div.sk-parallel-item:only-child::after {width: 0;}#sk-container-id-2 div.sk-dashed-wrapped {border: 1px dashed gray;margin: 0 0.4em 0.5em 0.4em;box-sizing: border-box;padding-bottom: 0.4em;background-color: white;}#sk-container-id-2 div.sk-label label {font-family: monospace;font-weight: bold;display: inline-block;line-height: 1.2em;}#sk-container-id-2 div.sk-label-container {text-align: center;}#sk-container-id-2 div.sk-container {/* jupyter's `normalize.less` sets `[hidden] { display: none; }` but bootstrap.min.css set `[hidden] { display: none !important; }` so we also need the `!important` here to be able to override the default hidden behavior on the sphinx rendered scikit-learn.org. See: https://github.com/scikit-learn/scikit-learn/issues/21755 */display: inline-block !important;position: relative;}#sk-container-id-2 div.sk-text-repr-fallback {display: none;}</style><div id=\"sk-container-id-2\" class=\"sk-top-container\"><div class=\"sk-text-repr-fallback\"><pre>Pipeline(steps=[(&#x27;adasyn&#x27;, ADASYN(n_jobs=-1, random_state=42)),\n",
       "                (&#x27;gradientboostingclassifier&#x27;,\n",
       "                 GradientBoostingClassifier(random_state=42))])</pre><b>In a Jupyter environment, please rerun this cell to show the HTML representation or trust the notebook. <br />On GitHub, the HTML representation is unable to render, please try loading this page with nbviewer.org.</b></div><div class=\"sk-container\" hidden><div class=\"sk-item sk-dashed-wrapped\"><div class=\"sk-label-container\"><div class=\"sk-label sk-toggleable\"><input class=\"sk-toggleable__control sk-hidden--visually\" id=\"sk-estimator-id-3\" type=\"checkbox\" ><label for=\"sk-estimator-id-3\" class=\"sk-toggleable__label sk-toggleable__label-arrow\">Pipeline</label><div class=\"sk-toggleable__content\"><pre>Pipeline(steps=[(&#x27;adasyn&#x27;, ADASYN(n_jobs=-1, random_state=42)),\n",
       "                (&#x27;gradientboostingclassifier&#x27;,\n",
       "                 GradientBoostingClassifier(random_state=42))])</pre></div></div></div><div class=\"sk-serial\"><div class=\"sk-item\"><div class=\"sk-estimator sk-toggleable\"><input class=\"sk-toggleable__control sk-hidden--visually\" id=\"sk-estimator-id-4\" type=\"checkbox\" ><label for=\"sk-estimator-id-4\" class=\"sk-toggleable__label sk-toggleable__label-arrow\">ADASYN</label><div class=\"sk-toggleable__content\"><pre>ADASYN(n_jobs=-1, random_state=42)</pre></div></div></div><div class=\"sk-item\"><div class=\"sk-estimator sk-toggleable\"><input class=\"sk-toggleable__control sk-hidden--visually\" id=\"sk-estimator-id-5\" type=\"checkbox\" ><label for=\"sk-estimator-id-5\" class=\"sk-toggleable__label sk-toggleable__label-arrow\">GradientBoostingClassifier</label><div class=\"sk-toggleable__content\"><pre>GradientBoostingClassifier(random_state=42)</pre></div></div></div></div></div></div></div>"
      ],
      "text/plain": [
       "Pipeline(steps=[('adasyn', ADASYN(n_jobs=-1, random_state=42)),\n",
       "                ('gradientboostingclassifier',\n",
       "                 GradientBoostingClassifier(random_state=42))])"
      ]
     },
     "execution_count": 12,
     "metadata": {},
     "output_type": "execute_result"
    }
   ],
   "source": [
    "pipeline_smote.fit(X_train,y_train)\n",
    "pipeline_ro.fit(X_train,y_train)\n",
    "pipeline_adasyn.fit(X_train,y_train)"
   ]
  },
  {
   "cell_type": "code",
   "execution_count": 13,
   "id": "d13e7088",
   "metadata": {},
   "outputs": [
    {
     "name": "stdout",
     "output_type": "stream",
     "text": [
      "smote\n",
      "f1 =  0.3783783783783784\n",
      "gm =  0.5468165968051549\n",
      "bas =  0.6434019832189168\n",
      "\n",
      "random oversampler\n",
      "f1 =  0.2950819672131147\n",
      "gm =  0.602381673809458\n",
      "bas =  0.6593113217827177\n",
      "\n",
      "adasyn\n",
      "f1 =  0.3888888888888889\n",
      "gm =  0.5475136227054583\n",
      "bas =  0.644655116050997\n"
     ]
    }
   ],
   "source": [
    "print(\"smote\")\n",
    "print(\"f1 = \", f1_score(y_test, pipeline_smote.predict(X_test)))\n",
    "print(\"gm = \", geometric_mean_score(y_test, pipeline_smote.predict(X_test)))\n",
    "print(\"bas = \", balanced_accuracy_score(y_test, pipeline_smote.predict(X_test)))\n",
    "\n",
    "print(\"\")\n",
    "\n",
    "print(\"random oversampler\")\n",
    "print(\"f1 = \", f1_score(y_test, pipeline_ro.predict(X_test)))\n",
    "print(\"gm = \", geometric_mean_score(y_test, pipeline_ro.predict(X_test)))\n",
    "print(\"bas = \", balanced_accuracy_score(y_test, pipeline_ro.predict(X_test)))\n",
    "\n",
    "print(\"\")\n",
    "\n",
    "print(\"adasyn\")\n",
    "print(\"f1 = \", f1_score(y_test, pipeline_adasyn.predict(X_test)))\n",
    "print(\"gm = \", geometric_mean_score(y_test, pipeline_adasyn.predict(X_test)))\n",
    "print(\"bas = \", balanced_accuracy_score(y_test, pipeline_adasyn.predict(X_test)))\n"
   ]
  },
  {
   "cell_type": "markdown",
   "id": "c6025b10",
   "metadata": {},
   "source": [
    "### Proceed to oversampling with best oversampler until the minority class become majority experiment"
   ]
  },
  {
   "cell_type": "markdown",
   "id": "31fd265c",
   "metadata": {},
   "source": [
    "## oversampling until the minority class become majority"
   ]
  },
  {
   "cell_type": "markdown",
   "id": "2c005aed",
   "metadata": {},
   "source": [
    "### SMOTE"
   ]
  },
  {
   "cell_type": "code",
   "execution_count": 14,
   "id": "89f60143",
   "metadata": {},
   "outputs": [
    {
     "name": "stdout",
     "output_type": "stream",
     "text": [
      "n =  1000\n",
      "f1 =  0.3783783783783784\n",
      "gm =  0.5468165968051549\n",
      "bas =  0.6434019832189168\n",
      "\n",
      "n =  1500\n",
      "f1 =  0.4210526315789474\n",
      "gm =  0.5845715310418845\n",
      "bas =  0.6651411136536994\n",
      "\n",
      "n =  2000\n",
      "f1 =  0.3902439024390244\n",
      "gm =  0.5823303539814302\n",
      "bas =  0.6613817151574588\n",
      "\n"
     ]
    }
   ],
   "source": [
    "for n in n_ovrs_target:\n",
    "    pipeline_smote_2 = pipe_imblearn(SMOTE(sampling_strategy={ovrs_target:n},k_neighbors = 11,random_state=random_state,\n",
    "                                          n_jobs=-1),\n",
    "                                     GradientBoostingClassifier(random_state = random_state))\n",
    "    \n",
    "    pipeline_smote_2.fit(X_train,y_train)\n",
    "    \n",
    "    print(\"n = \",n)\n",
    "    print(\"f1 = \", f1_score(y_test, pipeline_smote_2.predict(X_test),pos_label=1))\n",
    "    print(\"gm = \", geometric_mean_score(y_test, pipeline_smote_2.predict(X_test)))\n",
    "    print(\"bas = \", balanced_accuracy_score(y_test, pipeline_smote_2.predict(X_test)))\n",
    "    \n",
    "    print(\"\")"
   ]
  },
  {
   "cell_type": "markdown",
   "id": "6547b97c",
   "metadata": {},
   "source": [
    "### Random Oversampler"
   ]
  },
  {
   "cell_type": "code",
   "execution_count": 14,
   "id": "77e101df",
   "metadata": {},
   "outputs": [
    {
     "name": "stdout",
     "output_type": "stream",
     "text": [
      "n =  1000\n",
      "f1 =  0.3272727272727273\n",
      "gm =  0.6072462077680217\n",
      "bas =  0.6668301187751988\n",
      "\n",
      "n =  1500\n",
      "f1 =  0.28125\n",
      "gm =  0.5999346155939866\n",
      "bas =  0.655551923286477\n",
      "\n",
      "n =  2000\n",
      "f1 =  0.25352112676056343\n",
      "gm =  0.5941856228734856\n",
      "bas =  0.6467799934619156\n",
      "\n"
     ]
    }
   ],
   "source": [
    "for n in n_ovrs_target:\n",
    "    pipeline_ro_2 = pipe_imblearn(RandomOverSampler(sampling_strategy={ovrs_target:n},random_state=random_state),\n",
    "                                  GradientBoostingClassifier(random_state = random_state))\n",
    "    \n",
    "    pipeline_ro_2.fit(X_train,y_train)\n",
    "    \n",
    "    print(\"n = \",n)\n",
    "    print(\"f1 = \", f1_score(y_test, pipeline_ro_2.predict(X_test),pos_label=1))\n",
    "    print(\"gm = \", geometric_mean_score(y_test, pipeline_ro_2.predict(X_test)))\n",
    "    print(\"bas = \", balanced_accuracy_score(y_test, pipeline_ro_2.predict(X_test)))\n",
    "    \n",
    "    print(\"\")"
   ]
  },
  {
   "cell_type": "markdown",
   "id": "e966a853",
   "metadata": {},
   "source": [
    "### Adasyn"
   ]
  },
  {
   "cell_type": "code",
   "execution_count": 48,
   "id": "3dc42bc4",
   "metadata": {},
   "outputs": [
    {
     "name": "stdout",
     "output_type": "stream",
     "text": [
      "n =  1000\n",
      "f1 =  0.3783783783783784\n",
      "gm =  0.5468165968051549\n",
      "bas =  0.6434019832189168\n",
      "\n",
      "n =  1500\n",
      "f1 =  0.30434782608695654\n",
      "gm =  0.540502915795298\n",
      "bas =  0.6321237877301951\n",
      "\n",
      "n =  2000\n",
      "f1 =  0.2978723404255319\n",
      "gm =  0.5397968372237237\n",
      "bas =  0.6308706548981149\n",
      "\n"
     ]
    }
   ],
   "source": [
    "for n in n_ovrs_target:\n",
    "    pipeline_adasyn_2 = pipe_imblearn(ADASYN(sampling_strategy={ovrs_target:n},random_state=random_state, n_jobs=-1),\n",
    "                                     GradientBoostingClassifier(random_state = random_state))\n",
    "    \n",
    "    pipeline_adasyn_2.fit(X_train,y_train)\n",
    "    \n",
    "    print(\"n = \",n)\n",
    "    print(\"f1 = \", f1_score(y_test, pipeline_adasyn_2.predict(X_test),pos_label=1))\n",
    "    print(\"gm = \", geometric_mean_score(y_test, pipeline_adasyn_2.predict(X_test)))\n",
    "    print(\"bas = \", balanced_accuracy_score(y_test, pipeline_adasyn_2.predict(X_test)))\n",
    "    \n",
    "    print(\"\")"
   ]
  },
  {
   "cell_type": "markdown",
   "id": "f08dd75d",
   "metadata": {},
   "source": [
    "## oversampling + undersampling (1)"
   ]
  },
  {
   "cell_type": "markdown",
   "id": "adf7d118",
   "metadata": {},
   "source": [
    "### Random Undersampling"
   ]
  },
  {
   "cell_type": "code",
   "execution_count": 18,
   "id": "f8f750eb",
   "metadata": {},
   "outputs": [
    {
     "name": "stdout",
     "output_type": "stream",
     "text": [
      "n =  1000\n",
      "f1 =  0.39999999999999997\n",
      "gm =  0.5830783701587431\n",
      "bas =  0.662634847989539\n",
      "\n",
      "n =  1500\n",
      "f1 =  0.2352941176470588\n",
      "gm =  0.41335449368831884\n",
      "bas =  0.578184591914569\n",
      "\n",
      "n =  2000\n",
      "f1 =  0.29411764705882354\n",
      "gm =  0.4627334677513418\n",
      "bas =  0.6011768551814318\n",
      "\n"
     ]
    }
   ],
   "source": [
    "for n in n_ovrs_target:\n",
    "    pipeline_smote_3 = pipe_imblearn(SMOTE(sampling_strategy={ovrs_target:n},k_neighbors = 11,random_state=random_state,\n",
    "                                          n_jobs=-1),\n",
    "                                      RandomUnderSampler(random_state=random_state),\n",
    "                                     GradientBoostingClassifier(random_state = random_state))\n",
    "    \n",
    "    pipeline_smote_3.fit(X_train,y_train)\n",
    "    \n",
    "    print(\"n = \",n)\n",
    "    print(\"f1 = \", f1_score(y_test, pipeline_smote_3.predict(X_test),pos_label=1))\n",
    "    print(\"gm = \", geometric_mean_score(y_test, pipeline_smote_3.predict(X_test)))\n",
    "    print(\"bas = \", balanced_accuracy_score(y_test, pipeline_smote_3.predict(X_test)))\n",
    "    \n",
    "    print(\"\")"
   ]
  },
  {
   "cell_type": "code",
   "execution_count": 19,
   "id": "3131f7e5",
   "metadata": {},
   "outputs": [
    {
     "name": "stdout",
     "output_type": "stream",
     "text": [
      "n =  1000\n",
      "f1 =  0.28571428571428575\n",
      "gm =  0.5709925327756588\n",
      "bas =  0.6425847226762558\n",
      "\n",
      "n =  1500\n",
      "f1 =  0.38461538461538464\n",
      "gm =  0.6434894520877869\n",
      "bas =  0.6935817805383022\n",
      "\n",
      "n =  2000\n",
      "f1 =  0.3829787234042554\n",
      "gm =  0.6136722725186375\n",
      "bas =  0.6768551814318404\n",
      "\n"
     ]
    }
   ],
   "source": [
    "for n in n_ovrs_target:\n",
    "    pipeline_ro_3 = pipe_imblearn(RandomOverSampler(sampling_strategy={ovrs_target:n},random_state=random_state),\n",
    "                                      RandomUnderSampler(random_state=random_state),\n",
    "                                     GradientBoostingClassifier(random_state = random_state))\n",
    "    \n",
    "    pipeline_ro_3.fit(X_train,y_train)\n",
    "    \n",
    "    print(\"n = \",n)\n",
    "    print(\"f1 = \", f1_score(y_test, pipeline_ro_3.predict(X_test),pos_label=1))\n",
    "    print(\"gm = \", geometric_mean_score(y_test, pipeline_ro_3.predict(X_test)))\n",
    "    print(\"bas = \", balanced_accuracy_score(y_test, pipeline_ro_3.predict(X_test)))\n",
    "    \n",
    "    print(\"\")"
   ]
  },
  {
   "cell_type": "code",
   "execution_count": 20,
   "id": "cb0050f3",
   "metadata": {},
   "outputs": [
    {
     "name": "stdout",
     "output_type": "stream",
     "text": [
      "n =  1000\n",
      "f1 =  0.358974358974359\n",
      "gm =  0.5454198726931428\n",
      "bas =  0.6408957175547565\n",
      "\n",
      "n =  1500\n",
      "f1 =  0.2857142857142857\n",
      "gm =  0.46214437334604436\n",
      "bas =  0.5999237223493517\n",
      "\n",
      "n =  2000\n",
      "f1 =  0.33333333333333337\n",
      "gm =  0.5062537962114355\n",
      "bas =  0.6216628527841342\n",
      "\n"
     ]
    }
   ],
   "source": [
    "for n in n_ovrs_target:\n",
    "    pipeline_adasyn_3 = pipe_imblearn(ADASYN(sampling_strategy={ovrs_target:n},random_state=random_state, n_jobs=-1),\n",
    "                                      RandomUnderSampler(random_state=random_state),\n",
    "                                     GradientBoostingClassifier(random_state = random_state))\n",
    "    \n",
    "    pipeline_adasyn_3.fit(X_train,y_train)\n",
    "    \n",
    "    print(\"n = \",n)\n",
    "    print(\"f1 = \", f1_score(y_test, pipeline_adasyn_3.predict(X_test),pos_label=1))\n",
    "    print(\"gm = \", geometric_mean_score(y_test, pipeline_adasyn_3.predict(X_test)))\n",
    "    print(\"bas = \", balanced_accuracy_score(y_test, pipeline_adasyn_3.predict(X_test)))\n",
    "    \n",
    "    print(\"\")"
   ]
  },
  {
   "cell_type": "markdown",
   "id": "2006d25e",
   "metadata": {},
   "source": [
    "### RepeatedEditedNearestNeighbours"
   ]
  },
  {
   "cell_type": "code",
   "execution_count": 24,
   "id": "18bf9f5a",
   "metadata": {},
   "outputs": [
    {
     "name": "stdout",
     "output_type": "stream",
     "text": [
      "n =  1000\n",
      "f1 =  0.4324324324324324\n",
      "gm =  0.5853166830729254\n",
      "bas =  0.6663942464857797\n",
      "\n",
      "n =  1500\n",
      "f1 =  0.3243243243243243\n",
      "gm =  0.5056076519835918\n",
      "bas =  0.6204097199520541\n",
      "\n",
      "n =  2000\n",
      "f1 =  0.37209302325581395\n",
      "gm =  0.5808314316653852\n",
      "bas =  0.6588754494932985\n",
      "\n"
     ]
    }
   ],
   "source": [
    "for n in n_ovrs_target:\n",
    "    pipeline_smote_3 = pipe_imblearn(SMOTE(sampling_strategy={ovrs_target:n},k_neighbors = 11,random_state=random_state,\n",
    "                                          n_jobs=-1),\n",
    "                                      RepeatedEditedNearestNeighbours(n_neighbors=11,n_jobs=-1),\n",
    "                                     GradientBoostingClassifier(random_state = random_state))\n",
    "    \n",
    "    pipeline_smote_3.fit(X_train,y_train)\n",
    "    \n",
    "    print(\"n = \",n)\n",
    "    print(\"f1 = \", f1_score(y_test, pipeline_smote_3.predict(X_test),pos_label=1))\n",
    "    print(\"gm = \", geometric_mean_score(y_test, pipeline_smote_3.predict(X_test)))\n",
    "    print(\"bas = \", balanced_accuracy_score(y_test, pipeline_smote_3.predict(X_test)))\n",
    "    \n",
    "    print(\"\")"
   ]
  },
  {
   "cell_type": "code",
   "execution_count": 25,
   "id": "1fc06689",
   "metadata": {},
   "outputs": [
    {
     "name": "stdout",
     "output_type": "stream",
     "text": [
      "n =  1000\n",
      "f1 =  0.30434782608695654\n",
      "gm =  0.540502915795298\n",
      "bas =  0.6321237877301951\n",
      "\n",
      "n =  1500\n",
      "f1 =  0.2692307692307692\n",
      "gm =  0.5362524992429568\n",
      "bas =  0.6246049907377138\n",
      "\n",
      "n =  2000\n",
      "f1 =  0.2950819672131147\n",
      "gm =  0.602381673809458\n",
      "bas =  0.6593113217827177\n",
      "\n"
     ]
    }
   ],
   "source": [
    "for n in n_ovrs_target:\n",
    "    pipeline_ro_3 = pipe_imblearn(RandomOverSampler(sampling_strategy={ovrs_target:n},random_state=random_state),\n",
    "                                  RepeatedEditedNearestNeighbours(n_neighbors=11,n_jobs=-1),\n",
    "                                  GradientBoostingClassifier(random_state = random_state))\n",
    "    \n",
    "    pipeline_ro_3.fit(X_train,y_train)\n",
    "    \n",
    "    print(\"n = \",n)\n",
    "    print(\"f1 = \", f1_score(y_test, pipeline_ro_3.predict(X_test),pos_label=1))\n",
    "    print(\"gm = \", geometric_mean_score(y_test, pipeline_ro_3.predict(X_test)))\n",
    "    print(\"bas = \", balanced_accuracy_score(y_test, pipeline_ro_3.predict(X_test)))\n",
    "    \n",
    "    print(\"\")"
   ]
  },
  {
   "cell_type": "code",
   "execution_count": 26,
   "id": "2cfeadc4",
   "metadata": {},
   "outputs": [
    {
     "name": "stdout",
     "output_type": "stream",
     "text": [
      "n =  1000\n",
      "f1 =  0.3243243243243243\n",
      "gm =  0.5056076519835918\n",
      "bas =  0.6204097199520541\n",
      "\n",
      "n =  1500\n",
      "f1 =  0.31578947368421056\n",
      "gm =  0.5049606809546978\n",
      "bas =  0.6191565871199738\n",
      "\n",
      "n =  2000\n",
      "f1 =  0.2926829268292683\n",
      "gm =  0.5030147751387087\n",
      "bas =  0.6153971886237333\n",
      "\n"
     ]
    }
   ],
   "source": [
    "for n in n_ovrs_target:\n",
    "    pipeline_adasyn_3 = pipe_imblearn(ADASYN(sampling_strategy={ovrs_target:n},random_state=random_state, n_jobs=-1),\n",
    "                                      RepeatedEditedNearestNeighbours(n_neighbors=11,n_jobs=-1),\n",
    "                                      GradientBoostingClassifier(random_state = random_state))\n",
    "    \n",
    "    pipeline_adasyn_3.fit(X_train,y_train)\n",
    "    \n",
    "    print(\"n = \",n)\n",
    "    print(\"f1 = \", f1_score(y_test, pipeline_adasyn_3.predict(X_test),pos_label=1))\n",
    "    print(\"gm = \", geometric_mean_score(y_test, pipeline_adasyn_3.predict(X_test)))\n",
    "    print(\"bas = \", balanced_accuracy_score(y_test, pipeline_adasyn_3.predict(X_test)))\n",
    "    \n",
    "    print(\"\")"
   ]
  },
  {
   "cell_type": "markdown",
   "id": "7ae4a536",
   "metadata": {},
   "source": [
    "## AllKNN"
   ]
  },
  {
   "cell_type": "code",
   "execution_count": 30,
   "id": "6947c798",
   "metadata": {},
   "outputs": [
    {
     "name": "stdout",
     "output_type": "stream",
     "text": [
      "n =  1000\n",
      "f1 =  0.411764705882353\n",
      "gm =  0.5489050191618057\n",
      "bas =  0.6471613817151575\n",
      "\n",
      "n =  1500\n",
      "f1 =  0.3243243243243243\n",
      "gm =  0.5056076519835918\n",
      "bas =  0.6204097199520541\n",
      "\n",
      "n =  2000\n",
      "f1 =  0.41025641025641024\n",
      "gm =  0.5838254279541227\n",
      "bas =  0.6638879808216193\n",
      "\n"
     ]
    }
   ],
   "source": [
    "for n in n_ovrs_target:\n",
    "    pipeline_smote_3 = pipe_imblearn(SMOTE(sampling_strategy={ovrs_target:n},k_neighbors = 11,random_state=random_state,\n",
    "                                          n_jobs=-1),\n",
    "                                      AllKNN(n_neighbors=11,n_jobs=-1),\n",
    "                                     GradientBoostingClassifier(random_state = random_state))\n",
    "    \n",
    "    pipeline_smote_3.fit(X_train,y_train)\n",
    "    \n",
    "    print(\"n = \",n)\n",
    "    print(\"f1 = \", f1_score(y_test, pipeline_smote_3.predict(X_test),pos_label=1))\n",
    "    print(\"gm = \", geometric_mean_score(y_test, pipeline_smote_3.predict(X_test)))\n",
    "    print(\"bas = \", balanced_accuracy_score(y_test, pipeline_smote_3.predict(X_test)))\n",
    "    \n",
    "    print(\"\")"
   ]
  },
  {
   "cell_type": "code",
   "execution_count": 31,
   "id": "bd11f8db",
   "metadata": {},
   "outputs": [
    {
     "name": "stdout",
     "output_type": "stream",
     "text": [
      "n =  1000\n",
      "f1 =  0.2962962962962963\n",
      "gm =  0.572517215150111\n",
      "bas =  0.6450909883404162\n",
      "\n",
      "n =  1500\n",
      "f1 =  0.2692307692307692\n",
      "gm =  0.5362524992429568\n",
      "bas =  0.6246049907377138\n",
      "\n",
      "n =  2000\n",
      "f1 =  0.2950819672131147\n",
      "gm =  0.602381673809458\n",
      "bas =  0.6593113217827177\n",
      "\n"
     ]
    }
   ],
   "source": [
    "for n in n_ovrs_target:\n",
    "    pipeline_ro_3 = pipe_imblearn(RandomOverSampler(sampling_strategy={ovrs_target:n},random_state=random_state),\n",
    "                                  AllKNN(n_neighbors=11,n_jobs=-1),\n",
    "                                  GradientBoostingClassifier(random_state = random_state))\n",
    "    \n",
    "    pipeline_ro_3.fit(X_train,y_train)\n",
    "    \n",
    "    print(\"n = \",n)\n",
    "    print(\"f1 = \", f1_score(y_test, pipeline_ro_3.predict(X_test),pos_label=1))\n",
    "    print(\"gm = \", geometric_mean_score(y_test, pipeline_ro_3.predict(X_test)))\n",
    "    print(\"bas = \", balanced_accuracy_score(y_test, pipeline_ro_3.predict(X_test)))\n",
    "    \n",
    "    print(\"\")"
   ]
  },
  {
   "cell_type": "code",
   "execution_count": 32,
   "id": "3d1111f0",
   "metadata": {},
   "outputs": [
    {
     "name": "stdout",
     "output_type": "stream",
     "text": [
      "n =  1000\n",
      "f1 =  0.27027027027027023\n",
      "gm =  0.4609639260200955\n",
      "bas =  0.5974174566851912\n",
      "\n",
      "n =  1500\n",
      "f1 =  0.3\n",
      "gm =  0.503664245745094\n",
      "bas =  0.6166503214558134\n",
      "\n",
      "n =  2000\n",
      "f1 =  0.24390243902439024\n",
      "gm =  0.45859391583923576\n",
      "bas =  0.5924049253568704\n",
      "\n"
     ]
    }
   ],
   "source": [
    "for n in n_ovrs_target:\n",
    "    pipeline_adasyn_3 = pipe_imblearn(ADASYN(sampling_strategy={ovrs_target:n},random_state=random_state, n_jobs=-1),\n",
    "                                      AllKNN(n_neighbors=11,n_jobs=-1),\n",
    "                                      GradientBoostingClassifier(random_state = random_state))\n",
    "    \n",
    "    pipeline_adasyn_3.fit(X_train,y_train)\n",
    "    \n",
    "    print(\"n = \",n)\n",
    "    print(\"f1 = \", f1_score(y_test, pipeline_adasyn_3.predict(X_test),pos_label=1))\n",
    "    print(\"gm = \", geometric_mean_score(y_test, pipeline_adasyn_3.predict(X_test)))\n",
    "    print(\"bas = \", balanced_accuracy_score(y_test, pipeline_adasyn_3.predict(X_test)))\n",
    "    \n",
    "    print(\"\")"
   ]
  },
  {
   "cell_type": "markdown",
   "id": "8446254e",
   "metadata": {},
   "source": [
    "### Condensed nearest neighbors"
   ]
  },
  {
   "cell_type": "code",
   "execution_count": 36,
   "id": "a5ccb566",
   "metadata": {},
   "outputs": [
    {
     "name": "stdout",
     "output_type": "stream",
     "text": [
      "n =  1000\n",
      "f1 =  0.30303030303030304\n",
      "gm =  0.46332181314822213\n",
      "bas =  0.602429988013512\n",
      "\n",
      "n =  1500\n",
      "f1 =  0.37500000000000006\n",
      "gm =  0.508830168047262\n",
      "bas =  0.626675384112455\n",
      "\n",
      "n =  2000\n",
      "f1 =  0.3448275862068966\n",
      "gm =  0.4656677613771991\n",
      "bas =  0.6074425193418328\n",
      "\n"
     ]
    }
   ],
   "source": [
    "for n in n_ovrs_target:\n",
    "    pipeline_smote_3 = pipe_imblearn(SMOTE(sampling_strategy={ovrs_target:n},k_neighbors = 11,random_state=random_state,\n",
    "                                          n_jobs=-1),\n",
    "                                      CondensedNearestNeighbour(n_neighbors=11,random_state=random_state,n_jobs=-1),\n",
    "                                     GradientBoostingClassifier(random_state = random_state))\n",
    "    \n",
    "    pipeline_smote_3.fit(X_train,y_train)\n",
    "    \n",
    "    print(\"n = \",n)\n",
    "    print(\"f1 = \", f1_score(y_test, pipeline_smote_3.predict(X_test),pos_label=1))\n",
    "    print(\"gm = \", geometric_mean_score(y_test, pipeline_smote_3.predict(X_test)))\n",
    "    print(\"bas = \", balanced_accuracy_score(y_test, pipeline_smote_3.predict(X_test)))\n",
    "    \n",
    "    print(\"\")"
   ]
  },
  {
   "cell_type": "code",
   "execution_count": 37,
   "id": "c61ee3c9",
   "metadata": {},
   "outputs": [
    {
     "name": "stdout",
     "output_type": "stream",
     "text": [
      "n =  1000\n",
      "f1 =  0.29411764705882354\n",
      "gm =  0.4627334677513418\n",
      "bas =  0.6011768551814318\n",
      "\n",
      "n =  1500\n",
      "f1 =  0.2857142857142857\n",
      "gm =  0.46214437334604436\n",
      "bas =  0.5999237223493517\n",
      "\n",
      "n =  2000\n",
      "f1 =  0.2857142857142857\n",
      "gm =  0.46214437334604436\n",
      "bas =  0.5999237223493517\n",
      "\n"
     ]
    }
   ],
   "source": [
    "for n in n_ovrs_target:\n",
    "    pipeline_ro_3 = pipe_imblearn(RandomOverSampler(sampling_strategy={ovrs_target:n},random_state=random_state),\n",
    "                                  CondensedNearestNeighbour(n_neighbors=11,random_state=random_state,n_jobs=-1),\n",
    "                                  GradientBoostingClassifier(random_state = random_state))\n",
    "    \n",
    "    pipeline_ro_3.fit(X_train,y_train)\n",
    "    \n",
    "    print(\"n = \",n)\n",
    "    print(\"f1 = \", f1_score(y_test, pipeline_ro_3.predict(X_test),pos_label=1))\n",
    "    print(\"gm = \", geometric_mean_score(y_test, pipeline_ro_3.predict(X_test)))\n",
    "    print(\"bas = \", balanced_accuracy_score(y_test, pipeline_ro_3.predict(X_test)))\n",
    "    \n",
    "    print(\"\")"
   ]
  },
  {
   "cell_type": "code",
   "execution_count": 38,
   "id": "33e1c39d",
   "metadata": {},
   "outputs": [
    {
     "name": "stdout",
     "output_type": "stream",
     "text": [
      "n =  1000\n",
      "f1 =  0.26666666666666666\n",
      "gm =  0.4154580924834697\n",
      "bas =  0.5831971232428899\n",
      "\n",
      "n =  1500\n",
      "f1 =  0.3225806451612903\n",
      "gm =  0.46449626829771634\n",
      "bas =  0.6049362536776725\n",
      "\n",
      "n =  2000\n",
      "f1 =  0.26666666666666666\n",
      "gm =  0.4154580924834697\n",
      "bas =  0.5831971232428899\n",
      "\n"
     ]
    }
   ],
   "source": [
    "for n in n_ovrs_target:\n",
    "    pipeline_adasyn_3 = pipe_imblearn(ADASYN(sampling_strategy={ovrs_target:n},random_state=random_state, n_jobs=-1),\n",
    "                                      CondensedNearestNeighbour(n_neighbors=11,random_state=random_state,n_jobs=-1),\n",
    "                                      GradientBoostingClassifier(random_state = random_state))\n",
    "    \n",
    "    pipeline_adasyn_3.fit(X_train,y_train)\n",
    "    \n",
    "    print(\"n = \",n)\n",
    "    print(\"f1 = \", f1_score(y_test, pipeline_adasyn_3.predict(X_test),pos_label=1))\n",
    "    print(\"gm = \", geometric_mean_score(y_test, pipeline_adasyn_3.predict(X_test)))\n",
    "    print(\"bas = \", balanced_accuracy_score(y_test, pipeline_adasyn_3.predict(X_test)))\n",
    "    \n",
    "    print(\"\")"
   ]
  },
  {
   "cell_type": "markdown",
   "id": "124b9d86",
   "metadata": {},
   "source": [
    "## oversampling + undersampling (2)"
   ]
  },
  {
   "cell_type": "code",
   "execution_count": 46,
   "id": "80dd940e",
   "metadata": {},
   "outputs": [
    {
     "name": "stdout",
     "output_type": "stream",
     "text": [
      "n =  1000\n",
      "f1 =  0.4324324324324324\n",
      "gm =  0.5853166830729254\n",
      "bas =  0.6663942464857797\n",
      "n =  1500\n",
      "f1 =  0.30769230769230765\n",
      "gm =  0.5043128799427031\n",
      "bas =  0.6179034542878936\n",
      "n =  2000\n",
      "f1 =  0.358974358974359\n",
      "gm =  0.5454198726931428\n",
      "bas =  0.6408957175547565\n"
     ]
    }
   ],
   "source": [
    "for n in n_ovrs_target:\n",
    "    pipeline_smote_4 = pipe_imblearn(SMOTEENN(smote = SMOTE(sampling_strategy={ovrs_target:n},k_neighbors = 11,\n",
    "                                                            random_state=random_state,\n",
    "                                                            n_jobs=-1),\n",
    "                                              enn = EditedNearestNeighbours(n_neighbors=11,n_jobs=-1),\n",
    "                                              random_state=random_state,n_jobs=-1),\n",
    "                                     GradientBoostingClassifier(random_state = random_state))\n",
    "\n",
    "    pipeline_smote_4.fit(X_train,y_train)\n",
    "\n",
    "    print(\"n = \",n)\n",
    "    print(\"f1 = \", f1_score(y_test, pipeline_smote_4.predict(X_test),pos_label=1))\n",
    "    print(\"gm = \", geometric_mean_score(y_test, pipeline_smote_4.predict(X_test)))\n",
    "    print(\"bas = \", balanced_accuracy_score(y_test, pipeline_smote_4.predict(X_test)))"
   ]
  },
  {
   "cell_type": "code",
   "execution_count": 53,
   "id": "985afba6",
   "metadata": {},
   "outputs": [
    {
     "name": "stdout",
     "output_type": "stream",
     "text": [
      "n =  1000\n",
      "f1 =  0.3783783783783784\n",
      "gm =  0.5468165968051549\n",
      "bas =  0.6434019832189168\n",
      "n =  1500\n",
      "f1 =  0.41025641025641024\n",
      "gm =  0.5838254279541227\n",
      "bas =  0.6638879808216193\n",
      "n =  2000\n",
      "f1 =  0.3902439024390244\n",
      "gm =  0.5823303539814302\n",
      "bas =  0.6613817151574588\n"
     ]
    }
   ],
   "source": [
    "for n in n_ovrs_target:\n",
    "    pipeline_smote_4 = pipe_imblearn(SMOTETomek(smote = SMOTE(sampling_strategy={ovrs_target:n},k_neighbors = 11,\n",
    "                                                              random_state=random_state,\n",
    "                                                              n_jobs=-1),\n",
    "                                                tomek = TomekLinks(n_jobs=-1),\n",
    "                                                random_state=random_state,n_jobs=-1),\n",
    "                                     GradientBoostingClassifier(random_state = random_state))\n",
    "\n",
    "    pipeline_smote_4.fit(X_train,y_train)\n",
    "\n",
    "    print(\"n = \",n)\n",
    "    print(\"f1 = \", f1_score(y_test, pipeline_smote_4.predict(X_test),pos_label=1))\n",
    "    print(\"gm = \", geometric_mean_score(y_test, pipeline_smote_4.predict(X_test)))\n",
    "    print(\"bas = \", balanced_accuracy_score(y_test, pipeline_smote_4.predict(X_test)))"
   ]
  },
  {
   "cell_type": "code",
   "execution_count": 39,
   "id": "00a7cef2",
   "metadata": {},
   "outputs": [],
   "source": [
    "# function to undersampling only on the syntetic data"
   ]
  },
  {
   "cell_type": "markdown",
   "id": "7f877a2a",
   "metadata": {},
   "source": [
    "## oversampling with aco"
   ]
  },
  {
   "cell_type": "markdown",
   "id": "42f3ecf7",
   "metadata": {},
   "source": [
    "### SMOTE"
   ]
  },
  {
   "cell_type": "code",
   "execution_count": 21,
   "id": "43a91006",
   "metadata": {},
   "outputs": [
    {
     "ename": "KeyboardInterrupt",
     "evalue": "",
     "output_type": "error",
     "traceback": [
      "\u001b[1;31m---------------------------------------------------------------------------\u001b[0m",
      "\u001b[1;31mKeyboardInterrupt\u001b[0m                         Traceback (most recent call last)",
      "Cell \u001b[1;32mIn[21], line 9\u001b[0m\n\u001b[0;32m      3\u001b[0m ovrs_aco \u001b[38;5;241m=\u001b[39m OVRS_ACO(random_state\u001b[38;5;241m=\u001b[39mrandom_state)\n\u001b[0;32m      4\u001b[0m ovrs_aco\u001b[38;5;241m.\u001b[39mset_model(X_train, y_train,ovrs_target\u001b[38;5;241m=\u001b[39movrs_target,n_ovrs_target\u001b[38;5;241m=\u001b[39mn,\n\u001b[0;32m      5\u001b[0m                     model \u001b[38;5;241m=\u001b[39m GradientBoostingClassifier(random_state \u001b[38;5;241m=\u001b[39m random_state),\n\u001b[0;32m      6\u001b[0m                     oversampler \u001b[38;5;241m=\u001b[39mSMOTE(sampling_strategy\u001b[38;5;241m=\u001b[39m{ovrs_target:n},k_neighbors \u001b[38;5;241m=\u001b[39m \u001b[38;5;241m11\u001b[39m,random_state\u001b[38;5;241m=\u001b[39mrandom_state,\n\u001b[0;32m      7\u001b[0m                                       n_jobs\u001b[38;5;241m=\u001b[39m\u001b[38;5;241m-\u001b[39m\u001b[38;5;241m1\u001b[39m))\n\u001b[1;32m----> 9\u001b[0m new_X_train,new_y_train,fitness,fitness_history \u001b[38;5;241m=\u001b[39m ovrs_aco\u001b[38;5;241m.\u001b[39mconstruct_solution()\n\u001b[0;32m     11\u001b[0m histories[\u001b[38;5;124mf\u001b[39m\u001b[38;5;124m\"\u001b[39m\u001b[38;5;132;01m{\u001b[39;00mn\u001b[38;5;132;01m}\u001b[39;00m\u001b[38;5;124m\"\u001b[39m] \u001b[38;5;241m=\u001b[39m fitness_history\n\u001b[0;32m     13\u001b[0m pipeline_ovrs_aco \u001b[38;5;241m=\u001b[39m make_pipeline(GradientBoostingClassifier(random_state \u001b[38;5;241m=\u001b[39m random_state))\n",
      "File \u001b[1;32m~\\Documents\\kuliah\\tesis lija\\DTI-Prediction-Imbalanced-Data\\oversampling_aco.py:149\u001b[0m, in \u001b[0;36mOVRS_ACO.construct_solution\u001b[1;34m(self)\u001b[0m\n\u001b[0;32m    146\u001b[0m kf_new_y_train \u001b[38;5;241m=\u001b[39m pd\u001b[38;5;241m.\u001b[39mconcat([kf_y_train\u001b[38;5;241m.\u001b[39mcopy(),chosen_y_smote])\n\u001b[0;32m    148\u001b[0m pipeline \u001b[38;5;241m=\u001b[39m make_pipeline(\u001b[38;5;28mself\u001b[39m\u001b[38;5;241m.\u001b[39mmodel)\n\u001b[1;32m--> 149\u001b[0m pipeline\u001b[38;5;241m.\u001b[39mfit(kf_new_X_train,kf_new_y_train)\n\u001b[0;32m    150\u001b[0m fitness \u001b[38;5;241m=\u001b[39m f1_score(kf_y_test,pipeline\u001b[38;5;241m.\u001b[39mpredict(kf_X_test),pos_label\u001b[38;5;241m=\u001b[39m\u001b[38;5;241m1\u001b[39m)\n\u001b[0;32m    152\u001b[0m fold_results\u001b[38;5;241m.\u001b[39mappend(fitness)\n",
      "File \u001b[1;32m~\\anaconda3\\Lib\\site-packages\\sklearn\\pipeline.py:405\u001b[0m, in \u001b[0;36mPipeline.fit\u001b[1;34m(self, X, y, **fit_params)\u001b[0m\n\u001b[0;32m    403\u001b[0m     \u001b[38;5;28;01mif\u001b[39;00m \u001b[38;5;28mself\u001b[39m\u001b[38;5;241m.\u001b[39m_final_estimator \u001b[38;5;241m!=\u001b[39m \u001b[38;5;124m\"\u001b[39m\u001b[38;5;124mpassthrough\u001b[39m\u001b[38;5;124m\"\u001b[39m:\n\u001b[0;32m    404\u001b[0m         fit_params_last_step \u001b[38;5;241m=\u001b[39m fit_params_steps[\u001b[38;5;28mself\u001b[39m\u001b[38;5;241m.\u001b[39msteps[\u001b[38;5;241m-\u001b[39m\u001b[38;5;241m1\u001b[39m][\u001b[38;5;241m0\u001b[39m]]\n\u001b[1;32m--> 405\u001b[0m         \u001b[38;5;28mself\u001b[39m\u001b[38;5;241m.\u001b[39m_final_estimator\u001b[38;5;241m.\u001b[39mfit(Xt, y, \u001b[38;5;241m*\u001b[39m\u001b[38;5;241m*\u001b[39mfit_params_last_step)\n\u001b[0;32m    407\u001b[0m \u001b[38;5;28;01mreturn\u001b[39;00m \u001b[38;5;28mself\u001b[39m\n",
      "File \u001b[1;32m~\\anaconda3\\Lib\\site-packages\\sklearn\\ensemble\\_gb.py:538\u001b[0m, in \u001b[0;36mBaseGradientBoosting.fit\u001b[1;34m(self, X, y, sample_weight, monitor)\u001b[0m\n\u001b[0;32m    535\u001b[0m     \u001b[38;5;28mself\u001b[39m\u001b[38;5;241m.\u001b[39m_resize_state()\n\u001b[0;32m    537\u001b[0m \u001b[38;5;66;03m# fit the boosting stages\u001b[39;00m\n\u001b[1;32m--> 538\u001b[0m n_stages \u001b[38;5;241m=\u001b[39m \u001b[38;5;28mself\u001b[39m\u001b[38;5;241m.\u001b[39m_fit_stages(\n\u001b[0;32m    539\u001b[0m     X,\n\u001b[0;32m    540\u001b[0m     y,\n\u001b[0;32m    541\u001b[0m     raw_predictions,\n\u001b[0;32m    542\u001b[0m     sample_weight,\n\u001b[0;32m    543\u001b[0m     \u001b[38;5;28mself\u001b[39m\u001b[38;5;241m.\u001b[39m_rng,\n\u001b[0;32m    544\u001b[0m     X_val,\n\u001b[0;32m    545\u001b[0m     y_val,\n\u001b[0;32m    546\u001b[0m     sample_weight_val,\n\u001b[0;32m    547\u001b[0m     begin_at_stage,\n\u001b[0;32m    548\u001b[0m     monitor,\n\u001b[0;32m    549\u001b[0m )\n\u001b[0;32m    551\u001b[0m \u001b[38;5;66;03m# change shape of arrays after fit (early-stopping or additional ests)\u001b[39;00m\n\u001b[0;32m    552\u001b[0m \u001b[38;5;28;01mif\u001b[39;00m n_stages \u001b[38;5;241m!=\u001b[39m \u001b[38;5;28mself\u001b[39m\u001b[38;5;241m.\u001b[39mestimators_\u001b[38;5;241m.\u001b[39mshape[\u001b[38;5;241m0\u001b[39m]:\n",
      "File \u001b[1;32m~\\anaconda3\\Lib\\site-packages\\sklearn\\ensemble\\_gb.py:615\u001b[0m, in \u001b[0;36mBaseGradientBoosting._fit_stages\u001b[1;34m(self, X, y, raw_predictions, sample_weight, random_state, X_val, y_val, sample_weight_val, begin_at_stage, monitor)\u001b[0m\n\u001b[0;32m    608\u001b[0m     old_oob_score \u001b[38;5;241m=\u001b[39m loss_(\n\u001b[0;32m    609\u001b[0m         y[\u001b[38;5;241m~\u001b[39msample_mask],\n\u001b[0;32m    610\u001b[0m         raw_predictions[\u001b[38;5;241m~\u001b[39msample_mask],\n\u001b[0;32m    611\u001b[0m         sample_weight[\u001b[38;5;241m~\u001b[39msample_mask],\n\u001b[0;32m    612\u001b[0m     )\n\u001b[0;32m    614\u001b[0m \u001b[38;5;66;03m# fit next stage of trees\u001b[39;00m\n\u001b[1;32m--> 615\u001b[0m raw_predictions \u001b[38;5;241m=\u001b[39m \u001b[38;5;28mself\u001b[39m\u001b[38;5;241m.\u001b[39m_fit_stage(\n\u001b[0;32m    616\u001b[0m     i,\n\u001b[0;32m    617\u001b[0m     X,\n\u001b[0;32m    618\u001b[0m     y,\n\u001b[0;32m    619\u001b[0m     raw_predictions,\n\u001b[0;32m    620\u001b[0m     sample_weight,\n\u001b[0;32m    621\u001b[0m     sample_mask,\n\u001b[0;32m    622\u001b[0m     random_state,\n\u001b[0;32m    623\u001b[0m     X_csc,\n\u001b[0;32m    624\u001b[0m     X_csr,\n\u001b[0;32m    625\u001b[0m )\n\u001b[0;32m    627\u001b[0m \u001b[38;5;66;03m# track deviance (= loss)\u001b[39;00m\n\u001b[0;32m    628\u001b[0m \u001b[38;5;28;01mif\u001b[39;00m do_oob:\n",
      "File \u001b[1;32m~\\anaconda3\\Lib\\site-packages\\sklearn\\ensemble\\_gb.py:257\u001b[0m, in \u001b[0;36mBaseGradientBoosting._fit_stage\u001b[1;34m(self, i, X, y, raw_predictions, sample_weight, sample_mask, random_state, X_csc, X_csr)\u001b[0m\n\u001b[0;32m    254\u001b[0m     sample_weight \u001b[38;5;241m=\u001b[39m sample_weight \u001b[38;5;241m*\u001b[39m sample_mask\u001b[38;5;241m.\u001b[39mastype(np\u001b[38;5;241m.\u001b[39mfloat64)\n\u001b[0;32m    256\u001b[0m X \u001b[38;5;241m=\u001b[39m X_csr \u001b[38;5;28;01mif\u001b[39;00m X_csr \u001b[38;5;129;01mis\u001b[39;00m \u001b[38;5;129;01mnot\u001b[39;00m \u001b[38;5;28;01mNone\u001b[39;00m \u001b[38;5;28;01melse\u001b[39;00m X\n\u001b[1;32m--> 257\u001b[0m tree\u001b[38;5;241m.\u001b[39mfit(X, residual, sample_weight\u001b[38;5;241m=\u001b[39msample_weight, check_input\u001b[38;5;241m=\u001b[39m\u001b[38;5;28;01mFalse\u001b[39;00m)\n\u001b[0;32m    259\u001b[0m \u001b[38;5;66;03m# update tree leaves\u001b[39;00m\n\u001b[0;32m    260\u001b[0m loss\u001b[38;5;241m.\u001b[39mupdate_terminal_regions(\n\u001b[0;32m    261\u001b[0m     tree\u001b[38;5;241m.\u001b[39mtree_,\n\u001b[0;32m    262\u001b[0m     X,\n\u001b[1;32m   (...)\u001b[0m\n\u001b[0;32m    269\u001b[0m     k\u001b[38;5;241m=\u001b[39mk,\n\u001b[0;32m    270\u001b[0m )\n",
      "File \u001b[1;32m~\\anaconda3\\Lib\\site-packages\\sklearn\\tree\\_classes.py:1247\u001b[0m, in \u001b[0;36mDecisionTreeRegressor.fit\u001b[1;34m(self, X, y, sample_weight, check_input)\u001b[0m\n\u001b[0;32m   1218\u001b[0m \u001b[38;5;28;01mdef\u001b[39;00m \u001b[38;5;21mfit\u001b[39m(\u001b[38;5;28mself\u001b[39m, X, y, sample_weight\u001b[38;5;241m=\u001b[39m\u001b[38;5;28;01mNone\u001b[39;00m, check_input\u001b[38;5;241m=\u001b[39m\u001b[38;5;28;01mTrue\u001b[39;00m):\n\u001b[0;32m   1219\u001b[0m \u001b[38;5;250m    \u001b[39m\u001b[38;5;124;03m\"\"\"Build a decision tree regressor from the training set (X, y).\u001b[39;00m\n\u001b[0;32m   1220\u001b[0m \n\u001b[0;32m   1221\u001b[0m \u001b[38;5;124;03m    Parameters\u001b[39;00m\n\u001b[1;32m   (...)\u001b[0m\n\u001b[0;32m   1244\u001b[0m \u001b[38;5;124;03m        Fitted estimator.\u001b[39;00m\n\u001b[0;32m   1245\u001b[0m \u001b[38;5;124;03m    \"\"\"\u001b[39;00m\n\u001b[1;32m-> 1247\u001b[0m     \u001b[38;5;28msuper\u001b[39m()\u001b[38;5;241m.\u001b[39mfit(\n\u001b[0;32m   1248\u001b[0m         X,\n\u001b[0;32m   1249\u001b[0m         y,\n\u001b[0;32m   1250\u001b[0m         sample_weight\u001b[38;5;241m=\u001b[39msample_weight,\n\u001b[0;32m   1251\u001b[0m         check_input\u001b[38;5;241m=\u001b[39mcheck_input,\n\u001b[0;32m   1252\u001b[0m     )\n\u001b[0;32m   1253\u001b[0m     \u001b[38;5;28;01mreturn\u001b[39;00m \u001b[38;5;28mself\u001b[39m\n",
      "File \u001b[1;32m~\\anaconda3\\Lib\\site-packages\\sklearn\\tree\\_classes.py:379\u001b[0m, in \u001b[0;36mBaseDecisionTree.fit\u001b[1;34m(self, X, y, sample_weight, check_input)\u001b[0m\n\u001b[0;32m    368\u001b[0m \u001b[38;5;28;01melse\u001b[39;00m:\n\u001b[0;32m    369\u001b[0m     builder \u001b[38;5;241m=\u001b[39m BestFirstTreeBuilder(\n\u001b[0;32m    370\u001b[0m         splitter,\n\u001b[0;32m    371\u001b[0m         min_samples_split,\n\u001b[1;32m   (...)\u001b[0m\n\u001b[0;32m    376\u001b[0m         \u001b[38;5;28mself\u001b[39m\u001b[38;5;241m.\u001b[39mmin_impurity_decrease,\n\u001b[0;32m    377\u001b[0m     )\n\u001b[1;32m--> 379\u001b[0m builder\u001b[38;5;241m.\u001b[39mbuild(\u001b[38;5;28mself\u001b[39m\u001b[38;5;241m.\u001b[39mtree_, X, y, sample_weight)\n\u001b[0;32m    381\u001b[0m \u001b[38;5;28;01mif\u001b[39;00m \u001b[38;5;28mself\u001b[39m\u001b[38;5;241m.\u001b[39mn_outputs_ \u001b[38;5;241m==\u001b[39m \u001b[38;5;241m1\u001b[39m \u001b[38;5;129;01mand\u001b[39;00m is_classifier(\u001b[38;5;28mself\u001b[39m):\n\u001b[0;32m    382\u001b[0m     \u001b[38;5;28mself\u001b[39m\u001b[38;5;241m.\u001b[39mn_classes_ \u001b[38;5;241m=\u001b[39m \u001b[38;5;28mself\u001b[39m\u001b[38;5;241m.\u001b[39mn_classes_[\u001b[38;5;241m0\u001b[39m]\n",
      "\u001b[1;31mKeyboardInterrupt\u001b[0m: "
     ]
    }
   ],
   "source": [
    "histories = {}\n",
    "for n in n_ovrs_target:\n",
    "    ovrs_aco = OVRS_ACO(random_state=random_state)\n",
    "    ovrs_aco.set_model(X_train, y_train,ovrs_target=ovrs_target,n_ovrs_target=n,\n",
    "                        model = GradientBoostingClassifier(random_state = random_state),\n",
    "                        oversampler =SMOTE(sampling_strategy={ovrs_target:n},k_neighbors = 11,random_state=random_state,\n",
    "                                          n_jobs=-1))\n",
    "\n",
    "    new_X_train,new_y_train,fitness,fitness_history = ovrs_aco.construct_solution()\n",
    "    \n",
    "    histories[f\"{n}\"] = fitness_history\n",
    "    \n",
    "    pipeline_ovrs_aco = make_pipeline(GradientBoostingClassifier(random_state = random_state))\n",
    "    \n",
    "    pipeline_ovrs_aco.fit(new_X_train,new_y_train)\n",
    "    \n",
    "    print(\"n = \",n)\n",
    "    print(\"f1 = \", f1_score(y_test, pipeline_ovrs_aco.predict(X_test)))\n",
    "    print(\"gm = \", geometric_mean_score(y_test, pipeline_ovrs_aco.predict(X_test)))\n",
    "    print(\"bas = \", balanced_accuracy_score(y_test, pipeline_ovrs_aco.predict(X_test)))\n",
    "    \n",
    "    print(\"\")\n",
    "    \n",
    "    new_dataset = new_X_train.copy()\n",
    "    new_dataset['label'] = new_y_train\n",
    "    new_dataset.to_csv(f\"data/ovrs_aco_smote_data_{n}.csv\")"
   ]
  },
  {
   "cell_type": "code",
   "execution_count": 30,
   "id": "3cd0e935",
   "metadata": {},
   "outputs": [
    {
     "data": {
      "text/plain": [
       "{}"
      ]
     },
     "execution_count": 30,
     "metadata": {},
     "output_type": "execute_result"
    }
   ],
   "source": [
    "histories"
   ]
  },
  {
   "cell_type": "code",
   "execution_count": 37,
   "id": "6b180697",
   "metadata": {},
   "outputs": [
    {
     "data": {
      "text/html": [
       "<div>\n",
       "<style scoped>\n",
       "    .dataframe tbody tr th:only-of-type {\n",
       "        vertical-align: middle;\n",
       "    }\n",
       "\n",
       "    .dataframe tbody tr th {\n",
       "        vertical-align: top;\n",
       "    }\n",
       "\n",
       "    .dataframe thead th {\n",
       "        text-align: right;\n",
       "    }\n",
       "</style>\n",
       "<table border=\"1\" class=\"dataframe\">\n",
       "  <thead>\n",
       "    <tr style=\"text-align: right;\">\n",
       "      <th></th>\n",
       "      <th>fp2_0</th>\n",
       "      <th>fp2_1</th>\n",
       "      <th>fp2_2</th>\n",
       "      <th>fp2_3</th>\n",
       "      <th>fp2_4</th>\n",
       "      <th>fp2_5</th>\n",
       "      <th>fp2_6</th>\n",
       "      <th>fp2_7</th>\n",
       "      <th>fp2_8</th>\n",
       "      <th>fp2_9</th>\n",
       "      <th>...</th>\n",
       "      <th>DPC_391</th>\n",
       "      <th>DPC_392</th>\n",
       "      <th>DPC_393</th>\n",
       "      <th>DPC_394</th>\n",
       "      <th>DPC_395</th>\n",
       "      <th>DPC_396</th>\n",
       "      <th>DPC_397</th>\n",
       "      <th>DPC_398</th>\n",
       "      <th>DPC_399</th>\n",
       "      <th>label</th>\n",
       "    </tr>\n",
       "  </thead>\n",
       "  <tbody>\n",
       "    <tr>\n",
       "      <th>0</th>\n",
       "      <td>0.0</td>\n",
       "      <td>0.0</td>\n",
       "      <td>0.0</td>\n",
       "      <td>0.000000</td>\n",
       "      <td>0.0</td>\n",
       "      <td>0.000000</td>\n",
       "      <td>0.0</td>\n",
       "      <td>0.000000</td>\n",
       "      <td>0.0</td>\n",
       "      <td>0.0</td>\n",
       "      <td>...</td>\n",
       "      <td>0.000000</td>\n",
       "      <td>0.000000</td>\n",
       "      <td>0.000000</td>\n",
       "      <td>0.616700</td>\n",
       "      <td>0.478304</td>\n",
       "      <td>0.000000</td>\n",
       "      <td>0.000000</td>\n",
       "      <td>0.0</td>\n",
       "      <td>0.0</td>\n",
       "      <td>0</td>\n",
       "    </tr>\n",
       "    <tr>\n",
       "      <th>1</th>\n",
       "      <td>0.0</td>\n",
       "      <td>0.0</td>\n",
       "      <td>0.0</td>\n",
       "      <td>0.285714</td>\n",
       "      <td>0.0</td>\n",
       "      <td>0.000000</td>\n",
       "      <td>0.0</td>\n",
       "      <td>0.000000</td>\n",
       "      <td>0.0</td>\n",
       "      <td>0.0</td>\n",
       "      <td>...</td>\n",
       "      <td>0.883946</td>\n",
       "      <td>0.000000</td>\n",
       "      <td>0.678917</td>\n",
       "      <td>0.302386</td>\n",
       "      <td>0.938104</td>\n",
       "      <td>0.445841</td>\n",
       "      <td>0.678917</td>\n",
       "      <td>0.0</td>\n",
       "      <td>0.0</td>\n",
       "      <td>0</td>\n",
       "    </tr>\n",
       "    <tr>\n",
       "      <th>2</th>\n",
       "      <td>0.0</td>\n",
       "      <td>0.0</td>\n",
       "      <td>0.0</td>\n",
       "      <td>0.000000</td>\n",
       "      <td>0.0</td>\n",
       "      <td>0.000000</td>\n",
       "      <td>0.0</td>\n",
       "      <td>0.000000</td>\n",
       "      <td>0.0</td>\n",
       "      <td>0.0</td>\n",
       "      <td>...</td>\n",
       "      <td>0.000000</td>\n",
       "      <td>0.486081</td>\n",
       "      <td>0.751606</td>\n",
       "      <td>0.334761</td>\n",
       "      <td>0.000000</td>\n",
       "      <td>0.000000</td>\n",
       "      <td>0.000000</td>\n",
       "      <td>0.0</td>\n",
       "      <td>0.0</td>\n",
       "      <td>0</td>\n",
       "    </tr>\n",
       "    <tr>\n",
       "      <th>3</th>\n",
       "      <td>0.1</td>\n",
       "      <td>0.0</td>\n",
       "      <td>0.0</td>\n",
       "      <td>0.000000</td>\n",
       "      <td>0.0</td>\n",
       "      <td>0.000000</td>\n",
       "      <td>0.0</td>\n",
       "      <td>0.166667</td>\n",
       "      <td>0.0</td>\n",
       "      <td>0.0</td>\n",
       "      <td>...</td>\n",
       "      <td>0.000000</td>\n",
       "      <td>0.982684</td>\n",
       "      <td>0.759740</td>\n",
       "      <td>0.338384</td>\n",
       "      <td>0.524892</td>\n",
       "      <td>0.748377</td>\n",
       "      <td>0.000000</td>\n",
       "      <td>0.0</td>\n",
       "      <td>0.0</td>\n",
       "      <td>1</td>\n",
       "    </tr>\n",
       "    <tr>\n",
       "      <th>4</th>\n",
       "      <td>0.2</td>\n",
       "      <td>0.0</td>\n",
       "      <td>0.0</td>\n",
       "      <td>0.428571</td>\n",
       "      <td>0.0</td>\n",
       "      <td>0.333333</td>\n",
       "      <td>0.0</td>\n",
       "      <td>0.166667</td>\n",
       "      <td>0.0</td>\n",
       "      <td>0.0</td>\n",
       "      <td>...</td>\n",
       "      <td>0.431947</td>\n",
       "      <td>0.858223</td>\n",
       "      <td>0.000000</td>\n",
       "      <td>0.295526</td>\n",
       "      <td>0.458412</td>\n",
       "      <td>0.000000</td>\n",
       "      <td>0.663516</td>\n",
       "      <td>0.0</td>\n",
       "      <td>0.0</td>\n",
       "      <td>1</td>\n",
       "    </tr>\n",
       "  </tbody>\n",
       "</table>\n",
       "<p>5 rows × 677 columns</p>\n",
       "</div>"
      ],
      "text/plain": [
       "   fp2_0  fp2_1  fp2_2     fp2_3  fp2_4     fp2_5  fp2_6     fp2_7  fp2_8  \\\n",
       "0    0.0    0.0    0.0  0.000000    0.0  0.000000    0.0  0.000000    0.0   \n",
       "1    0.0    0.0    0.0  0.285714    0.0  0.000000    0.0  0.000000    0.0   \n",
       "2    0.0    0.0    0.0  0.000000    0.0  0.000000    0.0  0.000000    0.0   \n",
       "3    0.1    0.0    0.0  0.000000    0.0  0.000000    0.0  0.166667    0.0   \n",
       "4    0.2    0.0    0.0  0.428571    0.0  0.333333    0.0  0.166667    0.0   \n",
       "\n",
       "   fp2_9  ...   DPC_391   DPC_392   DPC_393   DPC_394   DPC_395   DPC_396  \\\n",
       "0    0.0  ...  0.000000  0.000000  0.000000  0.616700  0.478304  0.000000   \n",
       "1    0.0  ...  0.883946  0.000000  0.678917  0.302386  0.938104  0.445841   \n",
       "2    0.0  ...  0.000000  0.486081  0.751606  0.334761  0.000000  0.000000   \n",
       "3    0.0  ...  0.000000  0.982684  0.759740  0.338384  0.524892  0.748377   \n",
       "4    0.0  ...  0.431947  0.858223  0.000000  0.295526  0.458412  0.000000   \n",
       "\n",
       "    DPC_397  DPC_398  DPC_399  label  \n",
       "0  0.000000      0.0      0.0      0  \n",
       "1  0.678917      0.0      0.0      0  \n",
       "2  0.000000      0.0      0.0      0  \n",
       "3  0.000000      0.0      0.0      1  \n",
       "4  0.663516      0.0      0.0      1  \n",
       "\n",
       "[5 rows x 677 columns]"
      ]
     },
     "execution_count": 37,
     "metadata": {},
     "output_type": "execute_result"
    }
   ],
   "source": [
    "df = pd.read_csv(\"data/ovrs_aco_smote_data_2000.xls\").drop(\"Unnamed: 0\",axis=1)\n",
    "df.head()"
   ]
  },
  {
   "cell_type": "code",
   "execution_count": 38,
   "id": "699e43c0",
   "metadata": {},
   "outputs": [],
   "source": [
    "X_train = df.drop('label',axis=1)\n",
    "y_train = df['label']"
   ]
  },
  {
   "cell_type": "code",
   "execution_count": 39,
   "id": "bfb3c1c3",
   "metadata": {},
   "outputs": [
    {
     "name": "stdout",
     "output_type": "stream",
     "text": [
      "gb\n",
      "f1 =  0.3783783783783784\n",
      "gm =  0.5468165968051549\n",
      "bas =  0.6434019832189168\n"
     ]
    }
   ],
   "source": [
    "print(\"gb\")\n",
    "pipeline_gb.fit(X_train,y_train)\n",
    "\n",
    "print(\"f1 = \", f1_score(y_test, pipeline_gb.predict(X_test)))\n",
    "print(\"gm = \", geometric_mean_score(y_test, pipeline_gb.predict(X_test)))\n",
    "print(\"bas = \", balanced_accuracy_score(y_test, pipeline_gb.predict(X_test)))"
   ]
  },
  {
   "cell_type": "code",
   "execution_count": null,
   "id": "8bb70ea0",
   "metadata": {},
   "outputs": [],
   "source": []
  },
  {
   "cell_type": "markdown",
   "id": "03d25d61",
   "metadata": {},
   "source": [
    "### Random Oversampler"
   ]
  },
  {
   "cell_type": "code",
   "execution_count": null,
   "id": "b0e8a6de",
   "metadata": {},
   "outputs": [],
   "source": [
    "histories = {}\n",
    "for n in n_ovrs_target:\n",
    "    ovrs_aco = OVRS_ACO(random_state=random_state)\n",
    "    ovrs_aco.set_model(X_train, y_train,ovrs_target=ovrs_target,n_ovrs_target=n,\n",
    "                        model = GradientBoostingClassifier(random_state = random_state),\n",
    "                        oversampler =RandomOverSampler(random_state=random_state))\n",
    "\n",
    "    new_X_train,new_y_train,fitness,fitness_history = ovrs_aco.construct_solution()\n",
    "    \n",
    "    histories[f\"{n}\"] = fitness_history\n",
    "    \n",
    "    pipeline_ovrs_aco = make_pipeline(GradientBoostingClassifier(random_state = random_state))\n",
    "    \n",
    "    pipeline_ovrs_aco.fit(new_X_train,new_y_train)\n",
    "    \n",
    "    print(\"n = \",n)\n",
    "    print(\"f1 = \", f1_score(y_test, pipeline_ovrs_aco.predict(X_test)))\n",
    "    print(\"gm = \", geometric_mean_score(y_test, pipeline_ovrs_aco.predict(X_test)))\n",
    "    print(\"bas = \", balanced_accuracy_score(y_test, pipeline_ovrs_aco.predict(X_test)))\n",
    "    \n",
    "    print(\"\")\n",
    "    \n",
    "    new_dataset = new_X_train.copy()\n",
    "    new_dataset['label'] = new_y_train\n",
    "    new_dataset.to_csv(f\"data/ovrs_aco_ro_data_{n}.csv\")"
   ]
  },
  {
   "cell_type": "code",
   "execution_count": null,
   "id": "d78d8365",
   "metadata": {},
   "outputs": [],
   "source": [
    "histories"
   ]
  },
  {
   "cell_type": "markdown",
   "id": "ea2465dd",
   "metadata": {},
   "source": [
    "### Adasyn"
   ]
  },
  {
   "cell_type": "code",
   "execution_count": 9,
   "id": "f6549978",
   "metadata": {},
   "outputs": [
    {
     "name": "stdout",
     "output_type": "stream",
     "text": [
      "n =  1000\n",
      "f1 =  0.33333333333333337\n",
      "gm =  0.5062537962114355\n",
      "bas =  0.6216628527841342\n",
      "\n",
      "n =  1500\n",
      "f1 =  0.3684210526315789\n",
      "gm =  0.5461186812727502\n",
      "bas =  0.6421488503868367\n",
      "\n",
      "n =  2000\n",
      "f1 =  0.34146341463414637\n",
      "gm =  0.5440195626221882\n",
      "bas =  0.638389451890596\n",
      "\n"
     ]
    }
   ],
   "source": [
    "histories = {}\n",
    "for n in n_ovrs_target:\n",
    "    ovrs_aco = OVRS_ACO(random_state=random_state,kfold=3)\n",
    "    ovrs_aco.set_model(X_train, y_train,ovrs_target=ovrs_target,n_ovrs_target=n,\n",
    "                        model = GradientBoostingClassifier(random_state = random_state),\n",
    "                        oversampler =ADASYN(sampling_strategy={ovrs_target:n},random_state=random_state, n_jobs=-1))\n",
    "\n",
    "    new_X_train,new_y_train,fitness,fitness_history = ovrs_aco.construct_solution()\n",
    "    \n",
    "    histories[f\"{n}\"] = fitness_history\n",
    "    \n",
    "    pipeline_ovrs_aco = make_pipeline(GradientBoostingClassifier(random_state = random_state))\n",
    "    \n",
    "    pipeline_ovrs_aco.fit(new_X_train,new_y_train)\n",
    "    \n",
    "    print(\"n = \",n)\n",
    "    print(\"f1 = \", f1_score(y_test, pipeline_ovrs_aco.predict(X_test)))\n",
    "    print(\"gm = \", geometric_mean_score(y_test, pipeline_ovrs_aco.predict(X_test)))\n",
    "    print(\"bas = \", balanced_accuracy_score(y_test, pipeline_ovrs_aco.predict(X_test)))\n",
    "    \n",
    "    print(\"\")\n",
    "    \n",
    "    new_dataset = new_X_train.copy()\n",
    "    new_dataset['label'] = new_y_train\n",
    "    new_dataset.to_csv(f\"data/ovrs_aco_adasyn_data_{n}.csv\")"
   ]
  },
  {
   "cell_type": "code",
   "execution_count": 10,
   "id": "c9741aaf",
   "metadata": {},
   "outputs": [
    {
     "data": {
      "text/plain": [
       "{'1000': [0.2849431270483902,\n",
       "  0.6403663003663004,\n",
       "  0.635859264729251,\n",
       "  0.6424000276210334,\n",
       "  0.6551539738152313,\n",
       "  0.6325379639274162,\n",
       "  0.6767086834733893,\n",
       "  0.6441698936627943,\n",
       "  0.6535714285714287,\n",
       "  0.6594446989029205,\n",
       "  0.6481083300048818],\n",
       " '1500': [0.2849431270483902,\n",
       "  0.6369690335207576,\n",
       "  0.6424112692908087,\n",
       "  0.6710155744638503,\n",
       "  0.6439627805145046,\n",
       "  0.6386288885055489,\n",
       "  0.6479706252002266,\n",
       "  0.6451872903044936,\n",
       "  0.6617703533026112,\n",
       "  0.62805823209049],\n",
       " '2000': [0.2849431270483902,\n",
       "  0.6453970798553014,\n",
       "  0.6419157088122606,\n",
       "  0.630144326333074,\n",
       "  0.6512912261678865,\n",
       "  0.6757135612865837,\n",
       "  0.6479411764705882,\n",
       "  0.6273467432950193,\n",
       "  0.62938922695515,\n",
       "  0.6286678528057837,\n",
       "  0.6307677177454054]}"
      ]
     },
     "execution_count": 10,
     "metadata": {},
     "output_type": "execute_result"
    }
   ],
   "source": [
    "histories"
   ]
  },
  {
   "cell_type": "code",
   "execution_count": null,
   "id": "973cab54",
   "metadata": {},
   "outputs": [],
   "source": []
  },
  {
   "cell_type": "code",
   "execution_count": 66,
   "id": "46e4331d",
   "metadata": {},
   "outputs": [],
   "source": [
    "kf = KFold(n_splits=5,random_state=random_state,shuffle=True)\n",
    "kf.get_n_splits(X_train)\n",
    "fold_results = []\n",
    "X_train = X_train.reset_index(drop=True)\n",
    "y_train = y_train.reset_index(drop=True)\n",
    "for train_index,test_index in kf.split(X_train):\n",
    "    kf_X_train, kf_X_test = X_train.loc[train_index], X_train.loc[test_index]\n",
    "    kf_y_train, kf_y_test = y_train.loc[train_index], y_train.loc[test_index]\n",
    "\n",
    "    pipeline =  pipe_imblearn(SMOTE(k_neighbors = 11,random_state=random_state,\n",
    "                                    n_jobs=-1),\n",
    "                              GradientBoostingClassifier(random_state = random_state))\n",
    "    pipeline.fit(kf_X_train,kf_y_train)\n",
    "    best_fitness = f1_score(kf_y_test,pipeline.predict(kf_X_test),pos_label=1)\n",
    "\n",
    "    fold_results.append(best_fitness)\n",
    "\n",
    "best_fitness = np.mean(fold_results)"
   ]
  },
  {
   "cell_type": "code",
   "execution_count": 67,
   "id": "33d9debd",
   "metadata": {},
   "outputs": [
    {
     "data": {
      "text/plain": [
       "[0.125, 0.39999999999999997, 0.31999999999999995, 0.4166666666666667, 0.4]"
      ]
     },
     "execution_count": 67,
     "metadata": {},
     "output_type": "execute_result"
    }
   ],
   "source": [
    "fold_results"
   ]
  },
  {
   "cell_type": "code",
   "execution_count": 68,
   "id": "fa1307a4",
   "metadata": {},
   "outputs": [
    {
     "data": {
      "text/plain": [
       "0.3323333333333333"
      ]
     },
     "execution_count": 68,
     "metadata": {},
     "output_type": "execute_result"
    }
   ],
   "source": [
    "best_fitness"
   ]
  },
  {
   "cell_type": "code",
   "execution_count": null,
   "id": "e315134a",
   "metadata": {},
   "outputs": [],
   "source": []
  }
 ],
 "metadata": {
  "kernelspec": {
   "display_name": "Python 3 (ipykernel)",
   "language": "python",
   "name": "python3"
  },
  "language_info": {
   "codemirror_mode": {
    "name": "ipython",
    "version": 3
   },
   "file_extension": ".py",
   "mimetype": "text/x-python",
   "name": "python",
   "nbconvert_exporter": "python",
   "pygments_lexer": "ipython3",
   "version": "3.11.3"
  }
 },
 "nbformat": 4,
 "nbformat_minor": 5
}
