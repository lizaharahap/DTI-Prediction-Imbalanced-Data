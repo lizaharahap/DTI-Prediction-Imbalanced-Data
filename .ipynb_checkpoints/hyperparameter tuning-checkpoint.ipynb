{
 "cells": [
  {
   "cell_type": "code",
   "execution_count": 3,
   "id": "87d76545",
   "metadata": {},
   "outputs": [],
   "source": [
    "import random\n",
    "import math\n",
    "import copy\n",
    "import time\n",
    "import json\n",
    "import datetime\n",
    "import numpy as np\n",
    "import pandas as pd\n",
    "\n",
    "from sklearn.preprocessing import StandardScaler\n",
    "from sklearn.ensemble import RandomForestClassifier, GradientBoostingClassifier\n",
    "from sklearn.svm import SVC\n",
    "from sklearn.linear_model import LogisticRegression\n",
    "from sklearn.pipeline import make_pipeline\n",
    "\n",
    "from sklearn.model_selection import KFold, train_test_split\n",
    "from sklearn.metrics import f1_score,balanced_accuracy_score\n",
    "\n",
    "from imblearn.over_sampling import SMOTE,RandomOverSampler,ADASYN\n",
    "from imblearn.pipeline import make_pipeline as pipe_imblearn\n",
    "from imblearn.metrics import geometric_mean_score\n",
    "\n",
    "from oversampling_aco import OVRS_ACO\n",
    "\n",
    "import warnings\n",
    "warnings.filterwarnings('ignore')"
   ]
  },
  {
   "cell_type": "markdown",
   "id": "7807b488",
   "metadata": {},
   "source": [
    "# Dataset"
   ]
  },
  {
   "cell_type": "code",
   "execution_count": 4,
   "id": "3dbc0512",
   "metadata": {},
   "outputs": [],
   "source": [
    "df = pd.read_csv(\"data/NR_AB.csv\").drop('Unnamed: 0',axis=1)"
   ]
  },
  {
   "cell_type": "code",
   "execution_count": 5,
   "id": "e705fe99",
   "metadata": {},
   "outputs": [],
   "source": [
    "X = df.drop(['label','drug_no','protein_no'],axis=1)\n",
    "y = df['label']"
   ]
  },
  {
   "cell_type": "markdown",
   "id": "90cda30b",
   "metadata": {},
   "source": [
    "# Train Test Split"
   ]
  },
  {
   "cell_type": "code",
   "execution_count": 6,
   "id": "775dfa4a",
   "metadata": {},
   "outputs": [],
   "source": [
    "random_state = 42"
   ]
  },
  {
   "cell_type": "code",
   "execution_count": 7,
   "id": "83426b83",
   "metadata": {},
   "outputs": [],
   "source": [
    "X_train, X_test, y_train, y_test = train_test_split(X, y, test_size=0.3,random_state = random_state)"
   ]
  },
  {
   "cell_type": "markdown",
   "id": "7c549aea",
   "metadata": {},
   "source": [
    "# Tuning"
   ]
  },
  {
   "cell_type": "code",
   "execution_count": 22,
   "id": "a3e48ad2",
   "metadata": {},
   "outputs": [],
   "source": [
    "target = 1\n",
    "n_ovrs = 2000"
   ]
  },
  {
   "cell_type": "code",
   "execution_count": 24,
   "id": "f55e8d72",
   "metadata": {},
   "outputs": [],
   "source": [
    "model = GradientBoostingClassifier(random_state = random_state)\n",
    "oversampler = ADASYN(sampling_strategy={target:n_ovrs},random_state=random_state, n_jobs=-1)"
   ]
  },
  {
   "cell_type": "code",
   "execution_count": 21,
   "id": "bc2f1b33",
   "metadata": {},
   "outputs": [],
   "source": [
    "init_pheromone_test = [np.round(i,1) for i in np.arange(0.1,1,0.1)] + [1]\n",
    "rho_test = [np.round(i,1) for i in np.arange(0.1,1,0.1)] + [1]\n",
    "num_ant_test = [20,30,40,50]"
   ]
  },
  {
   "cell_type": "markdown",
   "id": "ed656b4e",
   "metadata": {},
   "source": [
    "## init_pheromone"
   ]
  },
  {
   "cell_type": "code",
   "execution_count": null,
   "id": "f97b728c",
   "metadata": {},
   "outputs": [],
   "source": [
    "test_results = []\n",
    "for test_case in init_pheromone_test:\n",
    "    ovrs_aco = OVRS_ACO(init_pheromone=test_case,rho=0.8,num_ant=20,max_iter=1,max_idem=10,kfold=5,random_state=random_state)\n",
    "    ovrs_aco.set_model(X_train, y_train,\n",
    "                       ovrs_target=target, n_ovrs_target=n_ovrs,\n",
    "                       model = model, oversampler = oversampler)\n",
    "\n",
    "    new_X_train,new_y_train,fitness,fitness_history = ovrs_aco.construct_solution()\n",
    "    \n",
    "    model_ovrs_aco = model\n",
    "    \n",
    "    model_ovrs_aco.fit(new_X_train,new_y_train)\n",
    "    \n",
    "    f1 = f1_score(y_test, model_ovrs_aco.predict(X_test))\n",
    "    test_results.append(f1)\n",
    "    \n",
    "    print(\"test case = \",test_case)\n",
    "    print(\"f1 = \", f1)\n",
    "    print(\"gm = \", geometric_mean_score(y_test, model_ovrs_aco.predict(X_test)))\n",
    "    print(\"bas = \", balanced_accuracy_score(y_test, model_ovrs_aco.predict(X_test)))\n",
    "    \n",
    "    print(\"\")"
   ]
  },
  {
   "cell_type": "code",
   "execution_count": null,
   "id": "95cd2d89",
   "metadata": {},
   "outputs": [],
   "source": [
    "best_test_case = np.argmax(test_results)\n",
    "best_init_pheromone = init_pheromone_test[best_test_case] "
   ]
  },
  {
   "cell_type": "markdown",
   "id": "b9381a58",
   "metadata": {},
   "source": [
    "## rho"
   ]
  },
  {
   "cell_type": "code",
   "execution_count": null,
   "id": "8402d0ab",
   "metadata": {},
   "outputs": [],
   "source": [
    "test_results = []\n",
    "for test_case in rho_test:\n",
    "    ovrs_aco = OVRS_ACO(init_pheromone=best_init_pheromone,rho=test_case,num_ant=20,max_iter=100,max_idem=10,kfold=5,random_state=random_state)\n",
    "    ovrs_aco.set_model(X_train, y_train,\n",
    "                       ovrs_target=target, n_ovrs_target=n_ovrs,\n",
    "                       model = model, oversampler = oversampler)\n",
    "\n",
    "    new_X_train,new_y_train,fitness,fitness_history = ovrs_aco.construct_solution()\n",
    "    \n",
    "    model_ovrs_aco = model\n",
    "    \n",
    "    model_ovrs_aco.fit(new_X_train,new_y_train)\n",
    "    \n",
    "    f1 = f1_score(y_test, model_ovrs_aco.predict(X_test))\n",
    "    test_results.append(f1)\n",
    "    \n",
    "    print(\"test case = \",test_case)\n",
    "    print(\"f1 = \", f1)\n",
    "    print(\"gm = \", geometric_mean_score(y_test, model_ovrs_aco.predict(X_test)))\n",
    "    print(\"bas = \", balanced_accuracy_score(y_test, model_ovrs_aco.predict(X_test)))\n",
    "    \n",
    "    print(\"\")"
   ]
  },
  {
   "cell_type": "code",
   "execution_count": null,
   "id": "9b6cb263",
   "metadata": {},
   "outputs": [],
   "source": [
    "best_test_case = np.argmax(test_results)\n",
    "best_rho = rho_test[best_test_case] "
   ]
  },
  {
   "cell_type": "markdown",
   "id": "311c8c44",
   "metadata": {},
   "source": [
    "## num_ant"
   ]
  },
  {
   "cell_type": "code",
   "execution_count": null,
   "id": "583acdbe",
   "metadata": {},
   "outputs": [],
   "source": [
    "test_results = []\n",
    "for test_case in num_ant_test:\n",
    "    ovrs_aco = OVRS_ACO(init_pheromone=best_init_pheromone,rho=best_rho,num_ant=test_case,max_iter=100,max_idem=10,kfold=5,random_state=random_state)\n",
    "    ovrs_aco.set_model(X_train, y_train,\n",
    "                       ovrs_target=target, n_ovrs_target=n_ovrs,\n",
    "                       model = model, oversampler = oversampler)\n",
    "\n",
    "    new_X_train,new_y_train,fitness,fitness_history = ovrs_aco.construct_solution()\n",
    "    \n",
    "    model_ovrs_aco = model\n",
    "    \n",
    "    model_ovrs_aco.fit(new_X_train,new_y_train)\n",
    "    \n",
    "    f1 = f1_score(y_test, model_ovrs_aco.predict(X_test))\n",
    "    test_results.append(f1)\n",
    "    \n",
    "    print(\"test case = \",test_case)\n",
    "    print(\"f1 = \", f1)\n",
    "    print(\"gm = \", geometric_mean_score(y_test, model_ovrs_aco.predict(X_test)))\n",
    "    print(\"bas = \", balanced_accuracy_score(y_test, model_ovrs_aco.predict(X_test)))\n",
    "    \n",
    "    print(\"\")"
   ]
  },
  {
   "cell_type": "code",
   "execution_count": null,
   "id": "1f303bf6",
   "metadata": {},
   "outputs": [],
   "source": [
    "best_test_case = np.argmax(test_results)\n",
    "best_num_ant = num_ant_test[best_test_case] "
   ]
  },
  {
   "cell_type": "markdown",
   "id": "e50212af",
   "metadata": {},
   "source": [
    "## Results"
   ]
  },
  {
   "cell_type": "code",
   "execution_count": null,
   "id": "4c40f9dd",
   "metadata": {},
   "outputs": [],
   "source": [
    "print(\"best init pheromone = \",best_init_pheromone)\n",
    "print(\"best rho = \",best_rho)\n",
    "print(\"best num_ant = \",best_num_ant)"
   ]
  }
 ],
 "metadata": {
  "kernelspec": {
   "display_name": "Python 3 (ipykernel)",
   "language": "python",
   "name": "python3"
  },
  "language_info": {
   "codemirror_mode": {
    "name": "ipython",
    "version": 3
   },
   "file_extension": ".py",
   "mimetype": "text/x-python",
   "name": "python",
   "nbconvert_exporter": "python",
   "pygments_lexer": "ipython3",
   "version": "3.11.3"
  }
 },
 "nbformat": 4,
 "nbformat_minor": 5
}
