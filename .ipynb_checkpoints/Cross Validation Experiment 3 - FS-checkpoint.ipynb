{
 "cells": [
  {
   "cell_type": "code",
   "execution_count": 3,
   "id": "c289f5eb",
   "metadata": {},
   "outputs": [],
   "source": [
    "import random\n",
    "import math\n",
    "import copy\n",
    "import time\n",
    "import json\n",
    "import datetime\n",
    "import numpy as np\n",
    "import pandas as pd\n",
    "\n",
    "from sklearn.preprocessing import StandardScaler\n",
    "from sklearn.decomposition import PCA\n",
    "from skrebate import ReliefF\n",
    "from sklearn.linear_model import Lasso,ElasticNet\n",
    "\n",
    "from sklearn.ensemble import RandomForestClassifier, GradientBoostingClassifier\n",
    "from sklearn.svm import SVC\n",
    "from sklearn.linear_model import LogisticRegression\n",
    "from sklearn.pipeline import make_pipeline\n",
    "\n",
    "from sklearn.model_selection import KFold, train_test_split\n",
    "from sklearn.metrics import f1_score,balanced_accuracy_score\n",
    "\n",
    "from imblearn.over_sampling import SMOTE,RandomOverSampler,ADASYN\n",
    "from imblearn.under_sampling import RandomUnderSampler,RepeatedEditedNearestNeighbours,AllKNN,CondensedNearestNeighbour,EditedNearestNeighbours,TomekLinks\n",
    "from imblearn.combine import SMOTEENN,SMOTETomek\n",
    "from imblearn.pipeline import make_pipeline as pipe_imblearn\n",
    "from imblearn.metrics import geometric_mean_score\n",
    "\n",
    "from oversampling_aco import OVRS_ACO\n",
    "\n",
    "import warnings\n",
    "warnings.filterwarnings('ignore')"
   ]
  },
  {
   "cell_type": "markdown",
   "id": "ea35b53a",
   "metadata": {},
   "source": [
    "# Dataset"
   ]
  },
  {
   "cell_type": "code",
   "execution_count": 4,
   "id": "81f9df41",
   "metadata": {},
   "outputs": [],
   "source": [
    "df = pd.read_csv(\"data/NR_AB.csv\").drop('Unnamed: 0',axis=1)"
   ]
  },
  {
   "cell_type": "code",
   "execution_count": 5,
   "id": "8e14005b",
   "metadata": {},
   "outputs": [],
   "source": [
    "X = df.drop(['label','drug_no','protein_no'],axis=1)\n",
    "y = df['label']"
   ]
  },
  {
   "cell_type": "code",
   "execution_count": 6,
   "id": "4325d4ca",
   "metadata": {},
   "outputs": [
    {
     "data": {
      "text/html": [
       "<div>\n",
       "<style scoped>\n",
       "    .dataframe tbody tr th:only-of-type {\n",
       "        vertical-align: middle;\n",
       "    }\n",
       "\n",
       "    .dataframe tbody tr th {\n",
       "        vertical-align: top;\n",
       "    }\n",
       "\n",
       "    .dataframe thead th {\n",
       "        text-align: right;\n",
       "    }\n",
       "</style>\n",
       "<table border=\"1\" class=\"dataframe\">\n",
       "  <thead>\n",
       "    <tr style=\"text-align: right;\">\n",
       "      <th></th>\n",
       "      <th>fp2_0</th>\n",
       "      <th>fp2_1</th>\n",
       "      <th>fp2_2</th>\n",
       "      <th>fp2_3</th>\n",
       "      <th>fp2_4</th>\n",
       "      <th>fp2_5</th>\n",
       "      <th>fp2_6</th>\n",
       "      <th>fp2_7</th>\n",
       "      <th>fp2_8</th>\n",
       "      <th>fp2_9</th>\n",
       "      <th>...</th>\n",
       "      <th>DPC_390</th>\n",
       "      <th>DPC_391</th>\n",
       "      <th>DPC_392</th>\n",
       "      <th>DPC_393</th>\n",
       "      <th>DPC_394</th>\n",
       "      <th>DPC_395</th>\n",
       "      <th>DPC_396</th>\n",
       "      <th>DPC_397</th>\n",
       "      <th>DPC_398</th>\n",
       "      <th>DPC_399</th>\n",
       "    </tr>\n",
       "  </thead>\n",
       "  <tbody>\n",
       "    <tr>\n",
       "      <th>0</th>\n",
       "      <td>0.0</td>\n",
       "      <td>0.0</td>\n",
       "      <td>0.0</td>\n",
       "      <td>0.0</td>\n",
       "      <td>0.0</td>\n",
       "      <td>0.0</td>\n",
       "      <td>0.0</td>\n",
       "      <td>0.0</td>\n",
       "      <td>0.0</td>\n",
       "      <td>0.0</td>\n",
       "      <td>...</td>\n",
       "      <td>0.000000</td>\n",
       "      <td>0.487207</td>\n",
       "      <td>0.000000</td>\n",
       "      <td>0.0</td>\n",
       "      <td>1.000000</td>\n",
       "      <td>0.517058</td>\n",
       "      <td>0.000000</td>\n",
       "      <td>0.000000</td>\n",
       "      <td>0.0</td>\n",
       "      <td>0.0</td>\n",
       "    </tr>\n",
       "    <tr>\n",
       "      <th>1</th>\n",
       "      <td>0.0</td>\n",
       "      <td>0.0</td>\n",
       "      <td>0.0</td>\n",
       "      <td>0.0</td>\n",
       "      <td>0.0</td>\n",
       "      <td>0.0</td>\n",
       "      <td>0.0</td>\n",
       "      <td>0.0</td>\n",
       "      <td>0.0</td>\n",
       "      <td>0.0</td>\n",
       "      <td>...</td>\n",
       "      <td>0.364478</td>\n",
       "      <td>0.384680</td>\n",
       "      <td>0.382155</td>\n",
       "      <td>0.0</td>\n",
       "      <td>0.263187</td>\n",
       "      <td>0.408249</td>\n",
       "      <td>0.388047</td>\n",
       "      <td>0.000000</td>\n",
       "      <td>0.0</td>\n",
       "      <td>1.0</td>\n",
       "    </tr>\n",
       "    <tr>\n",
       "      <th>2</th>\n",
       "      <td>0.0</td>\n",
       "      <td>0.0</td>\n",
       "      <td>0.0</td>\n",
       "      <td>0.0</td>\n",
       "      <td>0.0</td>\n",
       "      <td>0.0</td>\n",
       "      <td>0.0</td>\n",
       "      <td>0.0</td>\n",
       "      <td>0.0</td>\n",
       "      <td>0.0</td>\n",
       "      <td>...</td>\n",
       "      <td>0.000000</td>\n",
       "      <td>0.431947</td>\n",
       "      <td>0.858223</td>\n",
       "      <td>0.0</td>\n",
       "      <td>0.295526</td>\n",
       "      <td>0.458412</td>\n",
       "      <td>0.000000</td>\n",
       "      <td>0.663516</td>\n",
       "      <td>0.0</td>\n",
       "      <td>0.0</td>\n",
       "    </tr>\n",
       "    <tr>\n",
       "      <th>3</th>\n",
       "      <td>0.0</td>\n",
       "      <td>0.0</td>\n",
       "      <td>0.0</td>\n",
       "      <td>0.0</td>\n",
       "      <td>0.0</td>\n",
       "      <td>0.0</td>\n",
       "      <td>0.0</td>\n",
       "      <td>0.0</td>\n",
       "      <td>0.0</td>\n",
       "      <td>0.0</td>\n",
       "      <td>...</td>\n",
       "      <td>0.000000</td>\n",
       "      <td>0.000000</td>\n",
       "      <td>0.000000</td>\n",
       "      <td>0.0</td>\n",
       "      <td>0.000000</td>\n",
       "      <td>0.287322</td>\n",
       "      <td>0.000000</td>\n",
       "      <td>0.831754</td>\n",
       "      <td>0.0</td>\n",
       "      <td>0.0</td>\n",
       "    </tr>\n",
       "    <tr>\n",
       "      <th>4</th>\n",
       "      <td>0.0</td>\n",
       "      <td>0.0</td>\n",
       "      <td>0.0</td>\n",
       "      <td>0.0</td>\n",
       "      <td>0.0</td>\n",
       "      <td>0.0</td>\n",
       "      <td>0.0</td>\n",
       "      <td>0.0</td>\n",
       "      <td>0.0</td>\n",
       "      <td>0.0</td>\n",
       "      <td>...</td>\n",
       "      <td>0.427022</td>\n",
       "      <td>0.000000</td>\n",
       "      <td>0.000000</td>\n",
       "      <td>0.0</td>\n",
       "      <td>0.616700</td>\n",
       "      <td>0.478304</td>\n",
       "      <td>0.000000</td>\n",
       "      <td>0.000000</td>\n",
       "      <td>0.0</td>\n",
       "      <td>0.0</td>\n",
       "    </tr>\n",
       "  </tbody>\n",
       "</table>\n",
       "<p>5 rows × 676 columns</p>\n",
       "</div>"
      ],
      "text/plain": [
       "   fp2_0  fp2_1  fp2_2  fp2_3  fp2_4  fp2_5  fp2_6  fp2_7  fp2_8  fp2_9  ...  \\\n",
       "0    0.0    0.0    0.0    0.0    0.0    0.0    0.0    0.0    0.0    0.0  ...   \n",
       "1    0.0    0.0    0.0    0.0    0.0    0.0    0.0    0.0    0.0    0.0  ...   \n",
       "2    0.0    0.0    0.0    0.0    0.0    0.0    0.0    0.0    0.0    0.0  ...   \n",
       "3    0.0    0.0    0.0    0.0    0.0    0.0    0.0    0.0    0.0    0.0  ...   \n",
       "4    0.0    0.0    0.0    0.0    0.0    0.0    0.0    0.0    0.0    0.0  ...   \n",
       "\n",
       "    DPC_390   DPC_391   DPC_392  DPC_393   DPC_394   DPC_395   DPC_396  \\\n",
       "0  0.000000  0.487207  0.000000      0.0  1.000000  0.517058  0.000000   \n",
       "1  0.364478  0.384680  0.382155      0.0  0.263187  0.408249  0.388047   \n",
       "2  0.000000  0.431947  0.858223      0.0  0.295526  0.458412  0.000000   \n",
       "3  0.000000  0.000000  0.000000      0.0  0.000000  0.287322  0.000000   \n",
       "4  0.427022  0.000000  0.000000      0.0  0.616700  0.478304  0.000000   \n",
       "\n",
       "    DPC_397  DPC_398  DPC_399  \n",
       "0  0.000000      0.0      0.0  \n",
       "1  0.000000      0.0      1.0  \n",
       "2  0.663516      0.0      0.0  \n",
       "3  0.831754      0.0      0.0  \n",
       "4  0.000000      0.0      0.0  \n",
       "\n",
       "[5 rows x 676 columns]"
      ]
     },
     "execution_count": 6,
     "metadata": {},
     "output_type": "execute_result"
    }
   ],
   "source": [
    "X.head()"
   ]
  },
  {
   "cell_type": "markdown",
   "id": "a04d9263",
   "metadata": {},
   "source": [
    "# Train Test Split"
   ]
  },
  {
   "cell_type": "code",
   "execution_count": 7,
   "id": "774a06b7",
   "metadata": {},
   "outputs": [],
   "source": [
    "random_state = 42"
   ]
  },
  {
   "cell_type": "code",
   "execution_count": 8,
   "id": "5d4b92d6",
   "metadata": {},
   "outputs": [],
   "source": [
    "X_train, X_test, y_train, y_test = train_test_split(X, y, test_size=0.3,random_state = random_state)"
   ]
  },
  {
   "cell_type": "markdown",
   "id": "711247fb",
   "metadata": {},
   "source": [
    "# Feature Selection"
   ]
  },
  {
   "cell_type": "markdown",
   "id": "8a932799",
   "metadata": {},
   "source": [
    "## PCA"
   ]
  },
  {
   "cell_type": "code",
   "execution_count": 12,
   "id": "633fe07d",
   "metadata": {},
   "outputs": [
    {
     "name": "stdout",
     "output_type": "stream",
     "text": [
      "2 = 0.12394491883953168\n",
      "3 = 0.18278706505858341\n",
      "4 = 0.23693022426162635\n",
      "5 = 0.28711490284516633\n",
      "6 = 0.3323446974796896\n",
      "7 = 0.37101007598331104\n",
      "8 = 0.4074195345889063\n",
      "9 = 0.44191622635671274\n",
      "10 = 0.4749878877724907\n",
      "11 = 0.5067858447625696\n",
      "12 = 0.5360849232267567\n",
      "13 = 0.5642157238978749\n",
      "14 = 0.5917440594985693\n",
      "15 = 0.618698673468463\n",
      "16 = 0.6424086261484293\n",
      "17 = 0.6646806934303132\n",
      "18 = 0.6862991457389137\n",
      "19 = 0.704465703202137\n",
      "20 = 0.7216933723779554\n",
      "21 = 0.7383963092449468\n",
      "22 = 0.7544942131979818\n",
      "23 = 0.7695930489439662\n",
      "24 = 0.7839480598430582\n",
      "25 = 0.7980541322865382\n",
      "26 = 0.8116783072201449\n",
      "27 = 0.8245550372627726\n",
      "28 = 0.8367777538029489\n",
      "29 = 0.8486503484000194\n",
      "30 = 0.8599911074757683\n"
     ]
    }
   ],
   "source": [
    "#PCA\n",
    "i = 2\n",
    "while True:  # Adjust the range based on your data\n",
    "    n_components = i\n",
    "    pca = PCA(n_components=n_components)\n",
    "    pca.fit(X_train)\n",
    "    print(f\"{n_components} = {sum(pca.explained_variance_ratio_)}\")\n",
    "    if sum(pca.explained_variance_ratio_) >= 0.85:\n",
    "        selected_n = n_components\n",
    "        break\n",
    "    i+=1"
   ]
  },
  {
   "cell_type": "code",
   "execution_count": 14,
   "id": "1c001939",
   "metadata": {},
   "outputs": [],
   "source": [
    "pca = PCA(n_components=selected_n)\n",
    "X_train_pca = pca.fit_transform(X_train)\n",
    "X_test_pca = pca.transform(X_test)"
   ]
  },
  {
   "cell_type": "markdown",
   "id": "a783a36d",
   "metadata": {},
   "source": [
    "## ReliefF"
   ]
  },
  {
   "cell_type": "code",
   "execution_count": 23,
   "id": "db1ed5be",
   "metadata": {},
   "outputs": [
    {
     "data": {
      "text/html": [
       "<style>#sk-container-id-2 {color: black;background-color: white;}#sk-container-id-2 pre{padding: 0;}#sk-container-id-2 div.sk-toggleable {background-color: white;}#sk-container-id-2 label.sk-toggleable__label {cursor: pointer;display: block;width: 100%;margin-bottom: 0;padding: 0.3em;box-sizing: border-box;text-align: center;}#sk-container-id-2 label.sk-toggleable__label-arrow:before {content: \"▸\";float: left;margin-right: 0.25em;color: #696969;}#sk-container-id-2 label.sk-toggleable__label-arrow:hover:before {color: black;}#sk-container-id-2 div.sk-estimator:hover label.sk-toggleable__label-arrow:before {color: black;}#sk-container-id-2 div.sk-toggleable__content {max-height: 0;max-width: 0;overflow: hidden;text-align: left;background-color: #f0f8ff;}#sk-container-id-2 div.sk-toggleable__content pre {margin: 0.2em;color: black;border-radius: 0.25em;background-color: #f0f8ff;}#sk-container-id-2 input.sk-toggleable__control:checked~div.sk-toggleable__content {max-height: 200px;max-width: 100%;overflow: auto;}#sk-container-id-2 input.sk-toggleable__control:checked~label.sk-toggleable__label-arrow:before {content: \"▾\";}#sk-container-id-2 div.sk-estimator input.sk-toggleable__control:checked~label.sk-toggleable__label {background-color: #d4ebff;}#sk-container-id-2 div.sk-label input.sk-toggleable__control:checked~label.sk-toggleable__label {background-color: #d4ebff;}#sk-container-id-2 input.sk-hidden--visually {border: 0;clip: rect(1px 1px 1px 1px);clip: rect(1px, 1px, 1px, 1px);height: 1px;margin: -1px;overflow: hidden;padding: 0;position: absolute;width: 1px;}#sk-container-id-2 div.sk-estimator {font-family: monospace;background-color: #f0f8ff;border: 1px dotted black;border-radius: 0.25em;box-sizing: border-box;margin-bottom: 0.5em;}#sk-container-id-2 div.sk-estimator:hover {background-color: #d4ebff;}#sk-container-id-2 div.sk-parallel-item::after {content: \"\";width: 100%;border-bottom: 1px solid gray;flex-grow: 1;}#sk-container-id-2 div.sk-label:hover label.sk-toggleable__label {background-color: #d4ebff;}#sk-container-id-2 div.sk-serial::before {content: \"\";position: absolute;border-left: 1px solid gray;box-sizing: border-box;top: 0;bottom: 0;left: 50%;z-index: 0;}#sk-container-id-2 div.sk-serial {display: flex;flex-direction: column;align-items: center;background-color: white;padding-right: 0.2em;padding-left: 0.2em;position: relative;}#sk-container-id-2 div.sk-item {position: relative;z-index: 1;}#sk-container-id-2 div.sk-parallel {display: flex;align-items: stretch;justify-content: center;background-color: white;position: relative;}#sk-container-id-2 div.sk-item::before, #sk-container-id-2 div.sk-parallel-item::before {content: \"\";position: absolute;border-left: 1px solid gray;box-sizing: border-box;top: 0;bottom: 0;left: 50%;z-index: -1;}#sk-container-id-2 div.sk-parallel-item {display: flex;flex-direction: column;z-index: 1;position: relative;background-color: white;}#sk-container-id-2 div.sk-parallel-item:first-child::after {align-self: flex-end;width: 50%;}#sk-container-id-2 div.sk-parallel-item:last-child::after {align-self: flex-start;width: 50%;}#sk-container-id-2 div.sk-parallel-item:only-child::after {width: 0;}#sk-container-id-2 div.sk-dashed-wrapped {border: 1px dashed gray;margin: 0 0.4em 0.5em 0.4em;box-sizing: border-box;padding-bottom: 0.4em;background-color: white;}#sk-container-id-2 div.sk-label label {font-family: monospace;font-weight: bold;display: inline-block;line-height: 1.2em;}#sk-container-id-2 div.sk-label-container {text-align: center;}#sk-container-id-2 div.sk-container {/* jupyter's `normalize.less` sets `[hidden] { display: none; }` but bootstrap.min.css set `[hidden] { display: none !important; }` so we also need the `!important` here to be able to override the default hidden behavior on the sphinx rendered scikit-learn.org. See: https://github.com/scikit-learn/scikit-learn/issues/21755 */display: inline-block !important;position: relative;}#sk-container-id-2 div.sk-text-repr-fallback {display: none;}</style><div id=\"sk-container-id-2\" class=\"sk-top-container\"><div class=\"sk-text-repr-fallback\"><pre>ReliefF(n_jobs=-1)</pre><b>In a Jupyter environment, please rerun this cell to show the HTML representation or trust the notebook. <br />On GitHub, the HTML representation is unable to render, please try loading this page with nbviewer.org.</b></div><div class=\"sk-container\" hidden><div class=\"sk-item\"><div class=\"sk-estimator sk-toggleable\"><input class=\"sk-toggleable__control sk-hidden--visually\" id=\"sk-estimator-id-2\" type=\"checkbox\" checked><label for=\"sk-estimator-id-2\" class=\"sk-toggleable__label sk-toggleable__label-arrow\">ReliefF</label><div class=\"sk-toggleable__content\"><pre>ReliefF(n_jobs=-1)</pre></div></div></div></div></div>"
      ],
      "text/plain": [
       "ReliefF(n_jobs=-1)"
      ]
     },
     "execution_count": 23,
     "metadata": {},
     "output_type": "execute_result"
    }
   ],
   "source": [
    "relief_selector = ReliefF(n_neighbors=100,n_jobs=-1)\n",
    "relief_selector.fit(X_train.values, y_train.values)"
   ]
  },
  {
   "cell_type": "code",
   "execution_count": 24,
   "id": "049c15d4",
   "metadata": {},
   "outputs": [
    {
     "data": {
      "text/plain": [
       "array([ 0.14638219,  0.02887163,  0.06600754,  0.21948673,  0.03156899,\n",
       "        0.14886114,  0.04704639,  0.19314512,  0.00155804,  0.03140758,\n",
       "        0.02853862,  0.09183026,  0.20057634,  0.2003245 ,  0.27192039,\n",
       "        0.22468371,  0.09963431,  0.22641882,  0.02133994,  0.10117321,\n",
       "        0.06061662,  0.29426817,  0.03935906,  0.24424294,  0.08437943,\n",
       "        0.19964632,  0.15928504,  0.19631547,  0.15445953,  0.01526416,\n",
       "        0.        ,  0.12834894,  0.1489534 ,  0.05315971,  0.02854865,\n",
       "        0.0252327 ,  0.03443338,  0.01393045,  0.27033802,  0.03750752,\n",
       "        0.09585661,  0.0347901 ,  0.29639906,  0.04990683,  0.29132596,\n",
       "        0.2421698 ,  0.07631577,  0.08702374,  0.04714792,  0.09896997,\n",
       "        0.06139663,  0.02289844,  0.02887163,  0.11009454,  0.25678299,\n",
       "        0.03963629,  0.01415524,  0.0980179 ,  0.23986443,  0.14962352,\n",
       "        0.22581178,  0.11890036, -0.00099796,  0.08316138,  0.        ,\n",
       "        0.23235675,  0.03621728,  0.05069398,  0.23507144,  0.04072089,\n",
       "        0.00454312,  0.13928884,  0.0625364 ,  0.10756817,  0.26783385,\n",
       "        0.13473843,  0.21460984,  0.0369102 ,  0.18742803,  0.19521993,\n",
       "        0.22928291,  0.06865018,  0.07895614,  0.23999726,  0.08525063,\n",
       "        0.13833055,  0.1024297 ,  0.24179515,  0.13219534,  0.13797155,\n",
       "        0.01526416,  0.18771848,  0.11056419,  0.04989482,  0.16598383,\n",
       "        0.04046205,  0.09954965,  0.09164529,  0.09206858,  0.19071131,\n",
       "        0.04105162,  0.21224489,  0.01542344,  0.03935906,  0.23172098,\n",
       "        0.02406724,  0.24298097,  0.01526416,  0.22894428,  0.28526249,\n",
       "        0.09313402,  0.23630726,  0.20578959,  0.11289753,  0.03798431,\n",
       "        0.04696127,  0.08007235,  0.        ,  0.09914627,  0.23514834,\n",
       "        0.02118005,  0.01855504, -0.00099796,  0.14810925,  0.10040125,\n",
       "        0.2095381 ,  0.0578153 ,  0.09532678,  0.03675639,  0.23257303,\n",
       "        0.16309162,  0.        ,  0.07027768,  0.16337994,  0.02887163,\n",
       "        0.09242788,  0.24347478,  0.19211159,  0.02561465,  0.23984649,\n",
       "        0.05759507,  0.17041326,  0.09593322,  0.18076162,  0.0252327 ,\n",
       "        0.03122397,  0.07968857,  0.        ,  0.29161702,  0.22947822,\n",
       "        0.18406162,  0.08244004,  0.0875402 ,  0.28512934,  0.11257258,\n",
       "        0.09098641,  0.08111408,  0.28181187,  0.04286607,  0.22113156,\n",
       "        0.06461471,  0.08994012,  0.23393926,  0.08464054,  0.02582318,\n",
       "        0.04817597,  0.1112907 ,  0.0127995 ,  0.08345807,  0.15309755,\n",
       "        0.02009697,  0.08520959,  0.25456242,  0.15129799,  0.07668146,\n",
       "        0.22473767,  0.29045779,  0.16981457,  0.18186871,  0.24612624,\n",
       "        0.25699608,  0.225283  ,  0.0163983 ,  0.03404201,  0.        ,\n",
       "        0.        ,  0.02220537,  0.24173876,  0.09241983,  0.01526416,\n",
       "        0.07906101,  0.25599234,  0.0347901 ,  0.25067757,  0.03934265,\n",
       "        0.224767  ,  0.02400264,  0.03218971,  0.0252327 ,  0.09318494,\n",
       "        0.19064565,  0.05005335,  0.0306572 ,  0.11706797,  0.10689045,\n",
       "        0.10636623,  0.06413412,  0.20943338,  0.10324513,  0.26031234,\n",
       "        0.08763535,  0.02992978,  0.07894884,  0.01526416,  0.12616698,\n",
       "        0.02887163,  0.11804967,  0.13214716,  0.20888956,  0.01350579,\n",
       "        0.16485242,  0.21037405,  0.20966942,  0.10267365,  0.10162811,\n",
       "        0.04834499,  0.01350579,  0.27877238,  0.09804678,  0.25247393,\n",
       "        0.14616667,  0.04076284,  0.00710764,  0.23047406,  0.08542679,\n",
       "        0.1976966 ,  0.11025671,  0.09063577,  0.25049093,  0.        ,\n",
       "        0.0248243 ,  0.20730249,  0.1094732 ,  0.17355428,  0.07852038,\n",
       "        0.23395066,  0.19262288,  0.23386692,  0.0339455 ,  0.16011779,\n",
       "        0.13752743,  0.24532085, -0.00099796,  0.18991884,  0.08470894,\n",
       "        0.06756619,  0.20957578,  0.20744857,  0.07718535,  0.10309031,\n",
       "        0.14794126,  0.15803506,  0.19340951,  0.1694851 ,  0.17548837,\n",
       "        0.1546463 ,  0.17169218,  0.15096837,  0.16831429,  0.15125337,\n",
       "        0.14795395,  0.14339842,  0.12129548,  0.13900937,  0.16595284,\n",
       "        0.18145904,  0.25266975,  0.0559693 ,  0.15178409,  0.08094824,\n",
       "        0.15829154,  0.12403909,  0.08975379,  0.16825323,  0.15439785,\n",
       "        0.08891332,  0.10488011,  0.1151327 ,  0.16003325,  0.14381735,\n",
       "        0.16393632,  0.16441715,  0.19658836,  0.16856746,  0.1942209 ,\n",
       "        0.15275657,  0.18168477,  0.08784114,  0.00199821,  0.12720948,\n",
       "        0.11805393,  0.19201894,  0.17937411,  0.18819619,  0.09513345,\n",
       "        0.15974814,  0.18961425,  0.12289692,  0.05198496,  0.16272345,\n",
       "        0.21658651,  0.15412388,  0.12507536,  0.22333561,  0.05840593,\n",
       "        0.26741223,  0.14974979,  0.17588445,  0.11259029,  0.1822187 ,\n",
       "        0.18809035,  0.08518019,  0.13468379,  0.08974911,  0.1667293 ,\n",
       "        0.12910936,  0.1142572 ,  0.20092901,  0.06742036,  0.14098824,\n",
       "        0.23372268,  0.12054943,  0.15559311,  0.11158673,  0.        ,\n",
       "        0.19086554,  0.12264165,  0.14914625,  0.12784371,  0.1106603 ,\n",
       "        0.14275763,  0.21441728,  0.13176164,  0.15311936,  0.16422394,\n",
       "        0.13149227,  0.03847352,  0.08854275,  0.07469091,  0.13562178,\n",
       "        0.09289285,  0.10970398,  0.16638653,  0.11205131,  0.04479132,\n",
       "        0.10745923,  0.08938838,  0.14969602,  0.15701439,  0.13454048,\n",
       "        0.10680029,  0.12006497,  0.0829617 ,  0.12667231,  0.20293123,\n",
       "        0.13850979,  0.0875864 ,  0.10669042,  0.21128484,  0.1191949 ,\n",
       "        0.09433036,  0.13188588,  0.13470044,  0.15504801, -0.01550916,\n",
       "        0.1759633 ,  0.14446293,  0.10515902,  0.13531079,  0.19481379,\n",
       "        0.20581356,  0.15041929,  0.04204199,  0.12031112,  0.11081111,\n",
       "        0.18898078,  0.17589664,  0.1057943 ,  0.11398525,  0.14010026,\n",
       "        0.13903832,  0.12520008,  0.14342325,  0.05415241,  0.17535915,\n",
       "        0.13085387,  0.08690078,  0.1473405 ,  0.2733649 ,  0.08343061,\n",
       "        0.10935528,  0.29054108,  0.08629677,  0.09650028,  0.13740355,\n",
       "        0.1549594 ,  0.26322613,  0.2488308 ,  0.13376907,  0.10821157,\n",
       "        0.12368006,  0.08326585,  0.16368792,  0.19713344,  0.06409369,\n",
       "        0.11347803,  0.10230738,  0.14614545,  0.11593795,  0.16142563,\n",
       "        0.08607555,  0.09530256,  0.1964805 ,  0.14466963,  0.07578284,\n",
       "        0.13331717,  0.12172584,  0.0936359 ,  0.13652649,  0.1504657 ,\n",
       "        0.10284066,  0.10042342,  0.14469707,  0.22194843, -0.00250509,\n",
       "        0.02215653,  0.10725641,  0.20839129,  0.15663447,  0.14655366,\n",
       "        0.14945188,  0.13550927,  0.04978166,  0.12110653,  0.1638838 ,\n",
       "        0.1436205 ,  0.15153178,  0.19460296,  0.11093815,  0.11935966,\n",
       "        0.16985334,  0.15027935,  0.12326828,  0.13781501,  0.23143174,\n",
       "        0.13344011,  0.12984597,  0.13035062,  0.1671982 ,  0.19446899,\n",
       "        0.12953838,  0.14102736,  0.14217277,  0.14847104,  0.13565378,\n",
       "        0.21498225,  0.16068619,  0.1393648 ,  0.15920369,  0.12667241,\n",
       "        0.12882971,  0.12261778,  0.06365005,  0.06462758,  0.17131942,\n",
       "        0.12910631,  0.14724146,  0.14679241,  0.13316426,  0.15486935,\n",
       "        0.09010715,  0.12258187,  0.10152885,  0.24505259,  0.11839928,\n",
       "        0.14615579,  0.20332921,  0.15564492,  0.14851806,  0.12405554,\n",
       "        0.19364027,  0.16415613,  0.0824943 ,  0.17781799,  0.08246937,\n",
       "        0.17439235,  0.09889344,  0.21837555,  0.14630514,  0.1175704 ,\n",
       "        0.14647095,  0.09706365,  0.09684971,  0.1526989 ,  0.10569952,\n",
       "        0.23835425,  0.13120694,  0.10647141,  0.10302567,  0.20253755,\n",
       "        0.19847344,  0.18646291,  0.13211298,  0.15210373,  0.17885856,\n",
       "        0.25723466,  0.14116821,  0.17121651,  0.15332198,  0.10555506,\n",
       "        0.08372099,  0.1325139 ,  0.14497543,  0.14527013,  0.13531764,\n",
       "        0.15802409,  0.07706162,  0.15785258,  0.16444665,  0.20656014,\n",
       "        0.13771045,  0.09866765,  0.15643848,  0.14307202,  0.16766514,\n",
       "        0.1368851 ,  0.12871742,  0.18289946,  0.15296525,  0.16680796,\n",
       "        0.09352742,  0.13285419,  0.0817144 ,  0.06675679,  0.16292739,\n",
       "        0.11780447,  0.11348183,  0.10282188,  0.10326463,  0.11752308,\n",
       "        0.13127617,  0.14249468,  0.09849602,  0.13720769,  0.01466577,\n",
       "        0.16997489,  0.13839569,  0.14899767,  0.07977779,  0.15538864,\n",
       "        0.09658014,  0.18842582,  0.12162621,  0.16490638,  0.13177653,\n",
       "        0.11208986,  0.16015945,  0.13001532,  0.20550807,  0.0936284 ,\n",
       "        0.05511678,  0.15163019,  0.159653  ,  0.11028805,  0.0451184 ,\n",
       "        0.21981873,  0.115254  ,  0.10302321,  0.13313741,  0.14689018,\n",
       "        0.08636825,  0.09425169,  0.17309347,  0.14201205,  0.11898977,\n",
       "        0.09708658,  0.189464  ,  0.18510598,  0.14394963,  0.15215728,\n",
       "        0.1706995 ,  0.16957269,  0.13586018,  0.13744964,  0.18125502,\n",
       "        0.1527999 ,  0.15767307,  0.17053034,  0.15823319,  0.1203786 ,\n",
       "        0.1302807 ,  0.14024248,  0.06650044,  0.10893038,  0.08306511,\n",
       "        0.11129409,  0.12697604,  0.16991791,  0.09885774,  0.13747966,\n",
       "        0.17291588,  0.16169495,  0.12948378,  0.09596875,  0.06661063,\n",
       "        0.11174405,  0.0811777 ,  0.25359348,  0.11994496,  0.12412582,\n",
       "        0.17564094,  0.10767122,  0.17278056,  0.14307943,  0.18022797,\n",
       "        0.13519471,  0.10991504,  0.0962681 ,  0.17211551,  0.12635621,\n",
       "        0.11793904,  0.13973281,  0.15452844,  0.07952541,  0.25081208,\n",
       "        0.17237294,  0.19746235,  0.10607517,  0.04675928, -0.00177265,\n",
       "        0.        ,  0.04647734,  0.09208758,  0.        ,  0.03303873,\n",
       "        0.20305985,  0.20448552,  0.0917646 ,  0.16147217,  0.15148023,\n",
       "        0.32855428,  0.25451303,  0.04841596,  0.04538225,  0.01466577,\n",
       "        0.08632413,  0.12564014,  0.14877724,  0.1510922 ,  0.14352663,\n",
       "        0.1994045 ,  0.14513571,  0.18800616,  0.10930236,  0.14445742,\n",
       "        0.22241183,  0.17060173,  0.11690187,  0.16747579,  0.1802443 ,\n",
       "        0.17363507,  0.11113625,  0.13958223,  0.11019616,  0.        ,\n",
       "        0.21548545])"
      ]
     },
     "execution_count": 24,
     "metadata": {},
     "output_type": "execute_result"
    }
   ],
   "source": [
    "feature_scores = relief_selector.feature_importances_\n",
    "feature_scores"
   ]
  },
  {
   "cell_type": "code",
   "execution_count": 35,
   "id": "31dfbf41",
   "metadata": {},
   "outputs": [
    {
     "data": {
      "text/plain": [
       "30"
      ]
     },
     "execution_count": 35,
     "metadata": {},
     "output_type": "execute_result"
    }
   ],
   "source": [
    "selected_n = len(X_train.columns.values[feature_scores>0.25])"
   ]
  },
  {
   "cell_type": "code",
   "execution_count": 36,
   "id": "6f3df209",
   "metadata": {},
   "outputs": [],
   "source": [
    "relief_selector = ReliefF(n_neighbors=100,n_features_to_select = selected_n,n_jobs=-1)\n",
    "X_train_relieff = relief_selector.fit_transform(X_train.values, y_train.values)\n",
    "X_test_relieff = relief_selector.transform(X_test.values)"
   ]
  },
  {
   "cell_type": "markdown",
   "id": "ccdaab3a",
   "metadata": {},
   "source": [
    "## Lasso"
   ]
  },
  {
   "cell_type": "code",
   "execution_count": 44,
   "id": "b207afe7",
   "metadata": {},
   "outputs": [
    {
     "data": {
      "text/html": [
       "<style>#sk-container-id-7 {color: black;background-color: white;}#sk-container-id-7 pre{padding: 0;}#sk-container-id-7 div.sk-toggleable {background-color: white;}#sk-container-id-7 label.sk-toggleable__label {cursor: pointer;display: block;width: 100%;margin-bottom: 0;padding: 0.3em;box-sizing: border-box;text-align: center;}#sk-container-id-7 label.sk-toggleable__label-arrow:before {content: \"▸\";float: left;margin-right: 0.25em;color: #696969;}#sk-container-id-7 label.sk-toggleable__label-arrow:hover:before {color: black;}#sk-container-id-7 div.sk-estimator:hover label.sk-toggleable__label-arrow:before {color: black;}#sk-container-id-7 div.sk-toggleable__content {max-height: 0;max-width: 0;overflow: hidden;text-align: left;background-color: #f0f8ff;}#sk-container-id-7 div.sk-toggleable__content pre {margin: 0.2em;color: black;border-radius: 0.25em;background-color: #f0f8ff;}#sk-container-id-7 input.sk-toggleable__control:checked~div.sk-toggleable__content {max-height: 200px;max-width: 100%;overflow: auto;}#sk-container-id-7 input.sk-toggleable__control:checked~label.sk-toggleable__label-arrow:before {content: \"▾\";}#sk-container-id-7 div.sk-estimator input.sk-toggleable__control:checked~label.sk-toggleable__label {background-color: #d4ebff;}#sk-container-id-7 div.sk-label input.sk-toggleable__control:checked~label.sk-toggleable__label {background-color: #d4ebff;}#sk-container-id-7 input.sk-hidden--visually {border: 0;clip: rect(1px 1px 1px 1px);clip: rect(1px, 1px, 1px, 1px);height: 1px;margin: -1px;overflow: hidden;padding: 0;position: absolute;width: 1px;}#sk-container-id-7 div.sk-estimator {font-family: monospace;background-color: #f0f8ff;border: 1px dotted black;border-radius: 0.25em;box-sizing: border-box;margin-bottom: 0.5em;}#sk-container-id-7 div.sk-estimator:hover {background-color: #d4ebff;}#sk-container-id-7 div.sk-parallel-item::after {content: \"\";width: 100%;border-bottom: 1px solid gray;flex-grow: 1;}#sk-container-id-7 div.sk-label:hover label.sk-toggleable__label {background-color: #d4ebff;}#sk-container-id-7 div.sk-serial::before {content: \"\";position: absolute;border-left: 1px solid gray;box-sizing: border-box;top: 0;bottom: 0;left: 50%;z-index: 0;}#sk-container-id-7 div.sk-serial {display: flex;flex-direction: column;align-items: center;background-color: white;padding-right: 0.2em;padding-left: 0.2em;position: relative;}#sk-container-id-7 div.sk-item {position: relative;z-index: 1;}#sk-container-id-7 div.sk-parallel {display: flex;align-items: stretch;justify-content: center;background-color: white;position: relative;}#sk-container-id-7 div.sk-item::before, #sk-container-id-7 div.sk-parallel-item::before {content: \"\";position: absolute;border-left: 1px solid gray;box-sizing: border-box;top: 0;bottom: 0;left: 50%;z-index: -1;}#sk-container-id-7 div.sk-parallel-item {display: flex;flex-direction: column;z-index: 1;position: relative;background-color: white;}#sk-container-id-7 div.sk-parallel-item:first-child::after {align-self: flex-end;width: 50%;}#sk-container-id-7 div.sk-parallel-item:last-child::after {align-self: flex-start;width: 50%;}#sk-container-id-7 div.sk-parallel-item:only-child::after {width: 0;}#sk-container-id-7 div.sk-dashed-wrapped {border: 1px dashed gray;margin: 0 0.4em 0.5em 0.4em;box-sizing: border-box;padding-bottom: 0.4em;background-color: white;}#sk-container-id-7 div.sk-label label {font-family: monospace;font-weight: bold;display: inline-block;line-height: 1.2em;}#sk-container-id-7 div.sk-label-container {text-align: center;}#sk-container-id-7 div.sk-container {/* jupyter's `normalize.less` sets `[hidden] { display: none; }` but bootstrap.min.css set `[hidden] { display: none !important; }` so we also need the `!important` here to be able to override the default hidden behavior on the sphinx rendered scikit-learn.org. See: https://github.com/scikit-learn/scikit-learn/issues/21755 */display: inline-block !important;position: relative;}#sk-container-id-7 div.sk-text-repr-fallback {display: none;}</style><div id=\"sk-container-id-7\" class=\"sk-top-container\"><div class=\"sk-text-repr-fallback\"><pre>Lasso(alpha=1e-05)</pre><b>In a Jupyter environment, please rerun this cell to show the HTML representation or trust the notebook. <br />On GitHub, the HTML representation is unable to render, please try loading this page with nbviewer.org.</b></div><div class=\"sk-container\" hidden><div class=\"sk-item\"><div class=\"sk-estimator sk-toggleable\"><input class=\"sk-toggleable__control sk-hidden--visually\" id=\"sk-estimator-id-7\" type=\"checkbox\" checked><label for=\"sk-estimator-id-7\" class=\"sk-toggleable__label sk-toggleable__label-arrow\">Lasso</label><div class=\"sk-toggleable__content\"><pre>Lasso(alpha=1e-05)</pre></div></div></div></div></div>"
      ],
      "text/plain": [
       "Lasso(alpha=1e-05)"
      ]
     },
     "execution_count": 44,
     "metadata": {},
     "output_type": "execute_result"
    }
   ],
   "source": [
    "lasso = Lasso(alpha=0.00001)\n",
    "lasso.fit(X_train, y_train)"
   ]
  },
  {
   "cell_type": "code",
   "execution_count": 48,
   "id": "654b41ac",
   "metadata": {},
   "outputs": [],
   "source": [
    "lasso_coef = np.abs(lasso.coef_)\n",
    "feature_subset=X_train.columns.values[lasso_coef>0.001]"
   ]
  },
  {
   "cell_type": "code",
   "execution_count": 50,
   "id": "7f6b5494",
   "metadata": {},
   "outputs": [],
   "source": [
    "X_train_lasso = X_train[feature_subset].copy()\n",
    "X_test_lasso = X_test[feature_subset].copy()"
   ]
  },
  {
   "cell_type": "markdown",
   "id": "3b7759ff",
   "metadata": {},
   "source": [
    "# Experimentation\n",
    "\n",
    "The experiments conducted here are as follows:\n",
    "- baseline (compare several classifier)\n",
    "- oversampling with standard oversampling (compare several oversampling method)\n",
    "- oversampling with smote until the minority class become majority\n",
    "- oversampling with smote aco\n",
    "- smote aco tuning\n",
    "\n",
    "All experiments are evaluated using cross validation with F1-score\n",
    "\n",
    "lets go!"
   ]
  },
  {
   "cell_type": "code",
   "execution_count": 51,
   "id": "bdd4b9e3",
   "metadata": {},
   "outputs": [],
   "source": [
    "n_ovrs_target = [1000,1500,2000]\n",
    "ovrs_target = 1"
   ]
  },
  {
   "cell_type": "code",
   "execution_count": 52,
   "id": "a7cf4959",
   "metadata": {},
   "outputs": [],
   "source": [
    "model_rf = RandomForestClassifier(random_state = random_state)\n",
    "model_svm = SVC(random_state=random_state)\n",
    "model_gb = GradientBoostingClassifier(random_state = random_state)\n",
    "model_lr = LogisticRegression(random_state=random_state)\n",
    "\n",
    "pipeline_rf = make_pipeline(model_rf)\n",
    "pipeline_svm = make_pipeline(model_svm)\n",
    "pipeline_gb = make_pipeline(model_gb)\n",
    "pipeline_lr = make_pipeline(model_lr)\n",
    "\n",
    "smote = SMOTE(random_state=random_state,k_neighbors=11, n_jobs=-1)\n",
    "ro = RandomOverSampler(random_state=random_state)\n",
    "adasyn = ADASYN(random_state=random_state, n_jobs=-1)"
   ]
  },
  {
   "cell_type": "markdown",
   "id": "748f1770",
   "metadata": {},
   "source": [
    "## Baseline"
   ]
  },
  {
   "cell_type": "code",
   "execution_count": 53,
   "id": "603abd9f",
   "metadata": {},
   "outputs": [
    {
     "data": {
      "text/html": [
       "<style>#sk-container-id-8 {color: black;background-color: white;}#sk-container-id-8 pre{padding: 0;}#sk-container-id-8 div.sk-toggleable {background-color: white;}#sk-container-id-8 label.sk-toggleable__label {cursor: pointer;display: block;width: 100%;margin-bottom: 0;padding: 0.3em;box-sizing: border-box;text-align: center;}#sk-container-id-8 label.sk-toggleable__label-arrow:before {content: \"▸\";float: left;margin-right: 0.25em;color: #696969;}#sk-container-id-8 label.sk-toggleable__label-arrow:hover:before {color: black;}#sk-container-id-8 div.sk-estimator:hover label.sk-toggleable__label-arrow:before {color: black;}#sk-container-id-8 div.sk-toggleable__content {max-height: 0;max-width: 0;overflow: hidden;text-align: left;background-color: #f0f8ff;}#sk-container-id-8 div.sk-toggleable__content pre {margin: 0.2em;color: black;border-radius: 0.25em;background-color: #f0f8ff;}#sk-container-id-8 input.sk-toggleable__control:checked~div.sk-toggleable__content {max-height: 200px;max-width: 100%;overflow: auto;}#sk-container-id-8 input.sk-toggleable__control:checked~label.sk-toggleable__label-arrow:before {content: \"▾\";}#sk-container-id-8 div.sk-estimator input.sk-toggleable__control:checked~label.sk-toggleable__label {background-color: #d4ebff;}#sk-container-id-8 div.sk-label input.sk-toggleable__control:checked~label.sk-toggleable__label {background-color: #d4ebff;}#sk-container-id-8 input.sk-hidden--visually {border: 0;clip: rect(1px 1px 1px 1px);clip: rect(1px, 1px, 1px, 1px);height: 1px;margin: -1px;overflow: hidden;padding: 0;position: absolute;width: 1px;}#sk-container-id-8 div.sk-estimator {font-family: monospace;background-color: #f0f8ff;border: 1px dotted black;border-radius: 0.25em;box-sizing: border-box;margin-bottom: 0.5em;}#sk-container-id-8 div.sk-estimator:hover {background-color: #d4ebff;}#sk-container-id-8 div.sk-parallel-item::after {content: \"\";width: 100%;border-bottom: 1px solid gray;flex-grow: 1;}#sk-container-id-8 div.sk-label:hover label.sk-toggleable__label {background-color: #d4ebff;}#sk-container-id-8 div.sk-serial::before {content: \"\";position: absolute;border-left: 1px solid gray;box-sizing: border-box;top: 0;bottom: 0;left: 50%;z-index: 0;}#sk-container-id-8 div.sk-serial {display: flex;flex-direction: column;align-items: center;background-color: white;padding-right: 0.2em;padding-left: 0.2em;position: relative;}#sk-container-id-8 div.sk-item {position: relative;z-index: 1;}#sk-container-id-8 div.sk-parallel {display: flex;align-items: stretch;justify-content: center;background-color: white;position: relative;}#sk-container-id-8 div.sk-item::before, #sk-container-id-8 div.sk-parallel-item::before {content: \"\";position: absolute;border-left: 1px solid gray;box-sizing: border-box;top: 0;bottom: 0;left: 50%;z-index: -1;}#sk-container-id-8 div.sk-parallel-item {display: flex;flex-direction: column;z-index: 1;position: relative;background-color: white;}#sk-container-id-8 div.sk-parallel-item:first-child::after {align-self: flex-end;width: 50%;}#sk-container-id-8 div.sk-parallel-item:last-child::after {align-self: flex-start;width: 50%;}#sk-container-id-8 div.sk-parallel-item:only-child::after {width: 0;}#sk-container-id-8 div.sk-dashed-wrapped {border: 1px dashed gray;margin: 0 0.4em 0.5em 0.4em;box-sizing: border-box;padding-bottom: 0.4em;background-color: white;}#sk-container-id-8 div.sk-label label {font-family: monospace;font-weight: bold;display: inline-block;line-height: 1.2em;}#sk-container-id-8 div.sk-label-container {text-align: center;}#sk-container-id-8 div.sk-container {/* jupyter's `normalize.less` sets `[hidden] { display: none; }` but bootstrap.min.css set `[hidden] { display: none !important; }` so we also need the `!important` here to be able to override the default hidden behavior on the sphinx rendered scikit-learn.org. See: https://github.com/scikit-learn/scikit-learn/issues/21755 */display: inline-block !important;position: relative;}#sk-container-id-8 div.sk-text-repr-fallback {display: none;}</style><div id=\"sk-container-id-8\" class=\"sk-top-container\"><div class=\"sk-text-repr-fallback\"><pre>Pipeline(steps=[(&#x27;logisticregression&#x27;, LogisticRegression(random_state=42))])</pre><b>In a Jupyter environment, please rerun this cell to show the HTML representation or trust the notebook. <br />On GitHub, the HTML representation is unable to render, please try loading this page with nbviewer.org.</b></div><div class=\"sk-container\" hidden><div class=\"sk-item sk-dashed-wrapped\"><div class=\"sk-label-container\"><div class=\"sk-label sk-toggleable\"><input class=\"sk-toggleable__control sk-hidden--visually\" id=\"sk-estimator-id-8\" type=\"checkbox\" ><label for=\"sk-estimator-id-8\" class=\"sk-toggleable__label sk-toggleable__label-arrow\">Pipeline</label><div class=\"sk-toggleable__content\"><pre>Pipeline(steps=[(&#x27;logisticregression&#x27;, LogisticRegression(random_state=42))])</pre></div></div></div><div class=\"sk-serial\"><div class=\"sk-item\"><div class=\"sk-estimator sk-toggleable\"><input class=\"sk-toggleable__control sk-hidden--visually\" id=\"sk-estimator-id-9\" type=\"checkbox\" ><label for=\"sk-estimator-id-9\" class=\"sk-toggleable__label sk-toggleable__label-arrow\">LogisticRegression</label><div class=\"sk-toggleable__content\"><pre>LogisticRegression(random_state=42)</pre></div></div></div></div></div></div></div>"
      ],
      "text/plain": [
       "Pipeline(steps=[('logisticregression', LogisticRegression(random_state=42))])"
      ]
     },
     "execution_count": 53,
     "metadata": {},
     "output_type": "execute_result"
    }
   ],
   "source": [
    "pipeline_rf.fit(X_train,y_train)\n",
    "pipeline_svm.fit(X_train,y_train)\n",
    "pipeline_gb.fit(X_train,y_train)\n",
    "pipeline_lr.fit(X_train,y_train)"
   ]
  },
  {
   "cell_type": "code",
   "execution_count": 54,
   "id": "490f106b",
   "metadata": {},
   "outputs": [
    {
     "name": "stdout",
     "output_type": "stream",
     "text": [
      "rf\n",
      "f1 =  0.29411764705882354\n",
      "gm =  0.4627334677513418\n",
      "bas =  0.6011768551814318\n",
      "\n",
      "svm\n",
      "f1 =  0.0\n",
      "gm =  0.0\n",
      "bas =  0.5\n",
      "\n",
      "gb\n",
      "f1 =  0.30303030303030304\n",
      "gm =  0.46332181314822213\n",
      "bas =  0.602429988013512\n",
      "\n",
      "lr\n",
      "f1 =  0.0\n",
      "gm =  0.0\n",
      "bas =  0.49122807017543857\n"
     ]
    }
   ],
   "source": [
    "print(\"rf\")\n",
    "print(\"f1 = \", f1_score(y_test, pipeline_rf.predict(X_test)))\n",
    "print(\"gm = \", geometric_mean_score(y_test, pipeline_rf.predict(X_test)))\n",
    "print(\"bas = \", balanced_accuracy_score(y_test, pipeline_rf.predict(X_test)))\n",
    "\n",
    "print(\"\")\n",
    "\n",
    "print(\"svm\")\n",
    "print(\"f1 = \", f1_score(y_test, pipeline_svm.predict(X_test)))\n",
    "print(\"gm = \", geometric_mean_score(y_test, pipeline_svm.predict(X_test)))\n",
    "print(\"bas = \", balanced_accuracy_score(y_test, pipeline_svm.predict(X_test)))\n",
    "\n",
    "print(\"\")\n",
    "\n",
    "print(\"gb\")\n",
    "print(\"f1 = \", f1_score(y_test, pipeline_gb.predict(X_test)))\n",
    "print(\"gm = \", geometric_mean_score(y_test, pipeline_gb.predict(X_test)))\n",
    "print(\"bas = \", balanced_accuracy_score(y_test, pipeline_gb.predict(X_test)))\n",
    "\n",
    "print(\"\")\n",
    "\n",
    "print(\"lr\")\n",
    "print(\"f1 = \", f1_score(y_test, pipeline_lr.predict(X_test)))\n",
    "print(\"gm = \", geometric_mean_score(y_test, pipeline_lr.predict(X_test)))\n",
    "print(\"bas = \", balanced_accuracy_score(y_test, pipeline_lr.predict(X_test)))"
   ]
  },
  {
   "cell_type": "markdown",
   "id": "0d72d71c",
   "metadata": {},
   "source": [
    "## Use Feature Selection"
   ]
  },
  {
   "cell_type": "markdown",
   "id": "2fcfbbcf",
   "metadata": {},
   "source": [
    "### PCA"
   ]
  },
  {
   "cell_type": "code",
   "execution_count": 55,
   "id": "3638233a",
   "metadata": {},
   "outputs": [
    {
     "data": {
      "text/html": [
       "<style>#sk-container-id-9 {color: black;background-color: white;}#sk-container-id-9 pre{padding: 0;}#sk-container-id-9 div.sk-toggleable {background-color: white;}#sk-container-id-9 label.sk-toggleable__label {cursor: pointer;display: block;width: 100%;margin-bottom: 0;padding: 0.3em;box-sizing: border-box;text-align: center;}#sk-container-id-9 label.sk-toggleable__label-arrow:before {content: \"▸\";float: left;margin-right: 0.25em;color: #696969;}#sk-container-id-9 label.sk-toggleable__label-arrow:hover:before {color: black;}#sk-container-id-9 div.sk-estimator:hover label.sk-toggleable__label-arrow:before {color: black;}#sk-container-id-9 div.sk-toggleable__content {max-height: 0;max-width: 0;overflow: hidden;text-align: left;background-color: #f0f8ff;}#sk-container-id-9 div.sk-toggleable__content pre {margin: 0.2em;color: black;border-radius: 0.25em;background-color: #f0f8ff;}#sk-container-id-9 input.sk-toggleable__control:checked~div.sk-toggleable__content {max-height: 200px;max-width: 100%;overflow: auto;}#sk-container-id-9 input.sk-toggleable__control:checked~label.sk-toggleable__label-arrow:before {content: \"▾\";}#sk-container-id-9 div.sk-estimator input.sk-toggleable__control:checked~label.sk-toggleable__label {background-color: #d4ebff;}#sk-container-id-9 div.sk-label input.sk-toggleable__control:checked~label.sk-toggleable__label {background-color: #d4ebff;}#sk-container-id-9 input.sk-hidden--visually {border: 0;clip: rect(1px 1px 1px 1px);clip: rect(1px, 1px, 1px, 1px);height: 1px;margin: -1px;overflow: hidden;padding: 0;position: absolute;width: 1px;}#sk-container-id-9 div.sk-estimator {font-family: monospace;background-color: #f0f8ff;border: 1px dotted black;border-radius: 0.25em;box-sizing: border-box;margin-bottom: 0.5em;}#sk-container-id-9 div.sk-estimator:hover {background-color: #d4ebff;}#sk-container-id-9 div.sk-parallel-item::after {content: \"\";width: 100%;border-bottom: 1px solid gray;flex-grow: 1;}#sk-container-id-9 div.sk-label:hover label.sk-toggleable__label {background-color: #d4ebff;}#sk-container-id-9 div.sk-serial::before {content: \"\";position: absolute;border-left: 1px solid gray;box-sizing: border-box;top: 0;bottom: 0;left: 50%;z-index: 0;}#sk-container-id-9 div.sk-serial {display: flex;flex-direction: column;align-items: center;background-color: white;padding-right: 0.2em;padding-left: 0.2em;position: relative;}#sk-container-id-9 div.sk-item {position: relative;z-index: 1;}#sk-container-id-9 div.sk-parallel {display: flex;align-items: stretch;justify-content: center;background-color: white;position: relative;}#sk-container-id-9 div.sk-item::before, #sk-container-id-9 div.sk-parallel-item::before {content: \"\";position: absolute;border-left: 1px solid gray;box-sizing: border-box;top: 0;bottom: 0;left: 50%;z-index: -1;}#sk-container-id-9 div.sk-parallel-item {display: flex;flex-direction: column;z-index: 1;position: relative;background-color: white;}#sk-container-id-9 div.sk-parallel-item:first-child::after {align-self: flex-end;width: 50%;}#sk-container-id-9 div.sk-parallel-item:last-child::after {align-self: flex-start;width: 50%;}#sk-container-id-9 div.sk-parallel-item:only-child::after {width: 0;}#sk-container-id-9 div.sk-dashed-wrapped {border: 1px dashed gray;margin: 0 0.4em 0.5em 0.4em;box-sizing: border-box;padding-bottom: 0.4em;background-color: white;}#sk-container-id-9 div.sk-label label {font-family: monospace;font-weight: bold;display: inline-block;line-height: 1.2em;}#sk-container-id-9 div.sk-label-container {text-align: center;}#sk-container-id-9 div.sk-container {/* jupyter's `normalize.less` sets `[hidden] { display: none; }` but bootstrap.min.css set `[hidden] { display: none !important; }` so we also need the `!important` here to be able to override the default hidden behavior on the sphinx rendered scikit-learn.org. See: https://github.com/scikit-learn/scikit-learn/issues/21755 */display: inline-block !important;position: relative;}#sk-container-id-9 div.sk-text-repr-fallback {display: none;}</style><div id=\"sk-container-id-9\" class=\"sk-top-container\"><div class=\"sk-text-repr-fallback\"><pre>Pipeline(steps=[(&#x27;logisticregression&#x27;, LogisticRegression(random_state=42))])</pre><b>In a Jupyter environment, please rerun this cell to show the HTML representation or trust the notebook. <br />On GitHub, the HTML representation is unable to render, please try loading this page with nbviewer.org.</b></div><div class=\"sk-container\" hidden><div class=\"sk-item sk-dashed-wrapped\"><div class=\"sk-label-container\"><div class=\"sk-label sk-toggleable\"><input class=\"sk-toggleable__control sk-hidden--visually\" id=\"sk-estimator-id-10\" type=\"checkbox\" ><label for=\"sk-estimator-id-10\" class=\"sk-toggleable__label sk-toggleable__label-arrow\">Pipeline</label><div class=\"sk-toggleable__content\"><pre>Pipeline(steps=[(&#x27;logisticregression&#x27;, LogisticRegression(random_state=42))])</pre></div></div></div><div class=\"sk-serial\"><div class=\"sk-item\"><div class=\"sk-estimator sk-toggleable\"><input class=\"sk-toggleable__control sk-hidden--visually\" id=\"sk-estimator-id-11\" type=\"checkbox\" ><label for=\"sk-estimator-id-11\" class=\"sk-toggleable__label sk-toggleable__label-arrow\">LogisticRegression</label><div class=\"sk-toggleable__content\"><pre>LogisticRegression(random_state=42)</pre></div></div></div></div></div></div></div>"
      ],
      "text/plain": [
       "Pipeline(steps=[('logisticregression', LogisticRegression(random_state=42))])"
      ]
     },
     "execution_count": 55,
     "metadata": {},
     "output_type": "execute_result"
    }
   ],
   "source": [
    "pipeline_rf.fit(X_train_pca,y_train)\n",
    "pipeline_svm.fit(X_train_pca,y_train)\n",
    "pipeline_gb.fit(X_train_pca,y_train)\n",
    "pipeline_lr.fit(X_train_pca,y_train)"
   ]
  },
  {
   "cell_type": "code",
   "execution_count": 57,
   "id": "9b4b0483",
   "metadata": {},
   "outputs": [
    {
     "name": "stdout",
     "output_type": "stream",
     "text": [
      "rf\n",
      "f1 =  0.14285714285714285\n",
      "gm =  0.2937732344938892\n",
      "bas =  0.5397188623733246\n",
      "\n",
      "svm\n",
      "f1 =  0.08333333333333333\n",
      "gm =  0.20851441405707477\n",
      "bas =  0.5217391304347826\n",
      "\n",
      "gb\n",
      "f1 =  0.12121212121212122\n",
      "gm =  0.29191271397706137\n",
      "bas =  0.5334531982129236\n",
      "\n",
      "lr\n",
      "f1 =  0.0\n",
      "gm =  0.0\n",
      "bas =  0.49624060150375937\n"
     ]
    }
   ],
   "source": [
    "print(\"rf\")\n",
    "print(\"f1 = \", f1_score(y_test, pipeline_rf.predict(X_test_pca)))\n",
    "print(\"gm = \", geometric_mean_score(y_test, pipeline_rf.predict(X_test_pca)))\n",
    "print(\"bas = \", balanced_accuracy_score(y_test, pipeline_rf.predict(X_test_pca)))\n",
    "\n",
    "print(\"\")\n",
    "\n",
    "print(\"svm\")\n",
    "print(\"f1 = \", f1_score(y_test, pipeline_svm.predict(X_test_pca)))\n",
    "print(\"gm = \", geometric_mean_score(y_test, pipeline_svm.predict(X_test_pca)))\n",
    "print(\"bas = \", balanced_accuracy_score(y_test, pipeline_svm.predict(X_test_pca)))\n",
    "\n",
    "print(\"\")\n",
    "\n",
    "print(\"gb\")\n",
    "print(\"f1 = \", f1_score(y_test, pipeline_gb.predict(X_test_pca)))\n",
    "print(\"gm = \", geometric_mean_score(y_test, pipeline_gb.predict(X_test_pca)))\n",
    "print(\"bas = \", balanced_accuracy_score(y_test, pipeline_gb.predict(X_test_pca)))\n",
    "\n",
    "print(\"\")\n",
    "\n",
    "print(\"lr\")\n",
    "print(\"f1 = \", f1_score(y_test, pipeline_lr.predict(X_test_pca)))\n",
    "print(\"gm = \", geometric_mean_score(y_test, pipeline_lr.predict(X_test_pca)))\n",
    "print(\"bas = \", balanced_accuracy_score(y_test, pipeline_lr.predict(X_test_pca)))"
   ]
  },
  {
   "cell_type": "markdown",
   "id": "82d1b972",
   "metadata": {},
   "source": [
    "### ReliefF"
   ]
  },
  {
   "cell_type": "code",
   "execution_count": 61,
   "id": "7ff5f6d5",
   "metadata": {},
   "outputs": [
    {
     "data": {
      "text/html": [
       "<style>#sk-container-id-11 {color: black;background-color: white;}#sk-container-id-11 pre{padding: 0;}#sk-container-id-11 div.sk-toggleable {background-color: white;}#sk-container-id-11 label.sk-toggleable__label {cursor: pointer;display: block;width: 100%;margin-bottom: 0;padding: 0.3em;box-sizing: border-box;text-align: center;}#sk-container-id-11 label.sk-toggleable__label-arrow:before {content: \"▸\";float: left;margin-right: 0.25em;color: #696969;}#sk-container-id-11 label.sk-toggleable__label-arrow:hover:before {color: black;}#sk-container-id-11 div.sk-estimator:hover label.sk-toggleable__label-arrow:before {color: black;}#sk-container-id-11 div.sk-toggleable__content {max-height: 0;max-width: 0;overflow: hidden;text-align: left;background-color: #f0f8ff;}#sk-container-id-11 div.sk-toggleable__content pre {margin: 0.2em;color: black;border-radius: 0.25em;background-color: #f0f8ff;}#sk-container-id-11 input.sk-toggleable__control:checked~div.sk-toggleable__content {max-height: 200px;max-width: 100%;overflow: auto;}#sk-container-id-11 input.sk-toggleable__control:checked~label.sk-toggleable__label-arrow:before {content: \"▾\";}#sk-container-id-11 div.sk-estimator input.sk-toggleable__control:checked~label.sk-toggleable__label {background-color: #d4ebff;}#sk-container-id-11 div.sk-label input.sk-toggleable__control:checked~label.sk-toggleable__label {background-color: #d4ebff;}#sk-container-id-11 input.sk-hidden--visually {border: 0;clip: rect(1px 1px 1px 1px);clip: rect(1px, 1px, 1px, 1px);height: 1px;margin: -1px;overflow: hidden;padding: 0;position: absolute;width: 1px;}#sk-container-id-11 div.sk-estimator {font-family: monospace;background-color: #f0f8ff;border: 1px dotted black;border-radius: 0.25em;box-sizing: border-box;margin-bottom: 0.5em;}#sk-container-id-11 div.sk-estimator:hover {background-color: #d4ebff;}#sk-container-id-11 div.sk-parallel-item::after {content: \"\";width: 100%;border-bottom: 1px solid gray;flex-grow: 1;}#sk-container-id-11 div.sk-label:hover label.sk-toggleable__label {background-color: #d4ebff;}#sk-container-id-11 div.sk-serial::before {content: \"\";position: absolute;border-left: 1px solid gray;box-sizing: border-box;top: 0;bottom: 0;left: 50%;z-index: 0;}#sk-container-id-11 div.sk-serial {display: flex;flex-direction: column;align-items: center;background-color: white;padding-right: 0.2em;padding-left: 0.2em;position: relative;}#sk-container-id-11 div.sk-item {position: relative;z-index: 1;}#sk-container-id-11 div.sk-parallel {display: flex;align-items: stretch;justify-content: center;background-color: white;position: relative;}#sk-container-id-11 div.sk-item::before, #sk-container-id-11 div.sk-parallel-item::before {content: \"\";position: absolute;border-left: 1px solid gray;box-sizing: border-box;top: 0;bottom: 0;left: 50%;z-index: -1;}#sk-container-id-11 div.sk-parallel-item {display: flex;flex-direction: column;z-index: 1;position: relative;background-color: white;}#sk-container-id-11 div.sk-parallel-item:first-child::after {align-self: flex-end;width: 50%;}#sk-container-id-11 div.sk-parallel-item:last-child::after {align-self: flex-start;width: 50%;}#sk-container-id-11 div.sk-parallel-item:only-child::after {width: 0;}#sk-container-id-11 div.sk-dashed-wrapped {border: 1px dashed gray;margin: 0 0.4em 0.5em 0.4em;box-sizing: border-box;padding-bottom: 0.4em;background-color: white;}#sk-container-id-11 div.sk-label label {font-family: monospace;font-weight: bold;display: inline-block;line-height: 1.2em;}#sk-container-id-11 div.sk-label-container {text-align: center;}#sk-container-id-11 div.sk-container {/* jupyter's `normalize.less` sets `[hidden] { display: none; }` but bootstrap.min.css set `[hidden] { display: none !important; }` so we also need the `!important` here to be able to override the default hidden behavior on the sphinx rendered scikit-learn.org. See: https://github.com/scikit-learn/scikit-learn/issues/21755 */display: inline-block !important;position: relative;}#sk-container-id-11 div.sk-text-repr-fallback {display: none;}</style><div id=\"sk-container-id-11\" class=\"sk-top-container\"><div class=\"sk-text-repr-fallback\"><pre>Pipeline(steps=[(&#x27;logisticregression&#x27;, LogisticRegression(random_state=42))])</pre><b>In a Jupyter environment, please rerun this cell to show the HTML representation or trust the notebook. <br />On GitHub, the HTML representation is unable to render, please try loading this page with nbviewer.org.</b></div><div class=\"sk-container\" hidden><div class=\"sk-item sk-dashed-wrapped\"><div class=\"sk-label-container\"><div class=\"sk-label sk-toggleable\"><input class=\"sk-toggleable__control sk-hidden--visually\" id=\"sk-estimator-id-14\" type=\"checkbox\" ><label for=\"sk-estimator-id-14\" class=\"sk-toggleable__label sk-toggleable__label-arrow\">Pipeline</label><div class=\"sk-toggleable__content\"><pre>Pipeline(steps=[(&#x27;logisticregression&#x27;, LogisticRegression(random_state=42))])</pre></div></div></div><div class=\"sk-serial\"><div class=\"sk-item\"><div class=\"sk-estimator sk-toggleable\"><input class=\"sk-toggleable__control sk-hidden--visually\" id=\"sk-estimator-id-15\" type=\"checkbox\" ><label for=\"sk-estimator-id-15\" class=\"sk-toggleable__label sk-toggleable__label-arrow\">LogisticRegression</label><div class=\"sk-toggleable__content\"><pre>LogisticRegression(random_state=42)</pre></div></div></div></div></div></div></div>"
      ],
      "text/plain": [
       "Pipeline(steps=[('logisticregression', LogisticRegression(random_state=42))])"
      ]
     },
     "execution_count": 61,
     "metadata": {},
     "output_type": "execute_result"
    }
   ],
   "source": [
    "pipeline_rf.fit(X_train_relieff,y_train)\n",
    "pipeline_svm.fit(X_train_relieff,y_train)\n",
    "pipeline_gb.fit(X_train_relieff,y_train)\n",
    "pipeline_lr.fit(X_train_relieff,y_train)"
   ]
  },
  {
   "cell_type": "code",
   "execution_count": 62,
   "id": "7402f50f",
   "metadata": {},
   "outputs": [
    {
     "name": "stdout",
     "output_type": "stream",
     "text": [
      "rf\n",
      "f1 =  0.12903225806451613\n",
      "gm =  0.2926583415364627\n",
      "bas =  0.535959463877084\n",
      "\n",
      "svm\n",
      "f1 =  0.0\n",
      "gm =  0.0\n",
      "bas =  0.5\n",
      "\n",
      "gb\n",
      "f1 =  0.06451612903225806\n",
      "gm =  0.20667724684415945\n",
      "bas =  0.5129672006102212\n",
      "\n",
      "lr\n",
      "f1 =  0.0\n",
      "gm =  0.0\n",
      "bas =  0.4974937343358396\n"
     ]
    }
   ],
   "source": [
    "print(\"rf\")\n",
    "print(\"f1 = \", f1_score(y_test, pipeline_rf.predict(X_test_relieff)))\n",
    "print(\"gm = \", geometric_mean_score(y_test, pipeline_rf.predict(X_test_relieff)))\n",
    "print(\"bas = \", balanced_accuracy_score(y_test, pipeline_rf.predict(X_test_relieff)))\n",
    "\n",
    "print(\"\")\n",
    "\n",
    "print(\"svm\")\n",
    "print(\"f1 = \", f1_score(y_test, pipeline_svm.predict(X_test_relieff)))\n",
    "print(\"gm = \", geometric_mean_score(y_test, pipeline_svm.predict(X_test_relieff)))\n",
    "print(\"bas = \", balanced_accuracy_score(y_test, pipeline_svm.predict(X_test_relieff)))\n",
    "\n",
    "print(\"\")\n",
    "\n",
    "print(\"gb\")\n",
    "print(\"f1 = \", f1_score(y_test, pipeline_gb.predict(X_test_relieff)))\n",
    "print(\"gm = \", geometric_mean_score(y_test, pipeline_gb.predict(X_test_relieff)))\n",
    "print(\"bas = \", balanced_accuracy_score(y_test, pipeline_gb.predict(X_test_relieff)))\n",
    "\n",
    "print(\"\")\n",
    "\n",
    "print(\"lr\")\n",
    "print(\"f1 = \", f1_score(y_test, pipeline_lr.predict(X_test_relieff)))\n",
    "print(\"gm = \", geometric_mean_score(y_test, pipeline_lr.predict(X_test_relieff)))\n",
    "print(\"bas = \", balanced_accuracy_score(y_test, pipeline_lr.predict(X_test_relieff)))"
   ]
  },
  {
   "cell_type": "markdown",
   "id": "28aec580",
   "metadata": {},
   "source": [
    "### Lasso"
   ]
  },
  {
   "cell_type": "code",
   "execution_count": 63,
   "id": "5bf9d197",
   "metadata": {},
   "outputs": [
    {
     "data": {
      "text/html": [
       "<style>#sk-container-id-12 {color: black;background-color: white;}#sk-container-id-12 pre{padding: 0;}#sk-container-id-12 div.sk-toggleable {background-color: white;}#sk-container-id-12 label.sk-toggleable__label {cursor: pointer;display: block;width: 100%;margin-bottom: 0;padding: 0.3em;box-sizing: border-box;text-align: center;}#sk-container-id-12 label.sk-toggleable__label-arrow:before {content: \"▸\";float: left;margin-right: 0.25em;color: #696969;}#sk-container-id-12 label.sk-toggleable__label-arrow:hover:before {color: black;}#sk-container-id-12 div.sk-estimator:hover label.sk-toggleable__label-arrow:before {color: black;}#sk-container-id-12 div.sk-toggleable__content {max-height: 0;max-width: 0;overflow: hidden;text-align: left;background-color: #f0f8ff;}#sk-container-id-12 div.sk-toggleable__content pre {margin: 0.2em;color: black;border-radius: 0.25em;background-color: #f0f8ff;}#sk-container-id-12 input.sk-toggleable__control:checked~div.sk-toggleable__content {max-height: 200px;max-width: 100%;overflow: auto;}#sk-container-id-12 input.sk-toggleable__control:checked~label.sk-toggleable__label-arrow:before {content: \"▾\";}#sk-container-id-12 div.sk-estimator input.sk-toggleable__control:checked~label.sk-toggleable__label {background-color: #d4ebff;}#sk-container-id-12 div.sk-label input.sk-toggleable__control:checked~label.sk-toggleable__label {background-color: #d4ebff;}#sk-container-id-12 input.sk-hidden--visually {border: 0;clip: rect(1px 1px 1px 1px);clip: rect(1px, 1px, 1px, 1px);height: 1px;margin: -1px;overflow: hidden;padding: 0;position: absolute;width: 1px;}#sk-container-id-12 div.sk-estimator {font-family: monospace;background-color: #f0f8ff;border: 1px dotted black;border-radius: 0.25em;box-sizing: border-box;margin-bottom: 0.5em;}#sk-container-id-12 div.sk-estimator:hover {background-color: #d4ebff;}#sk-container-id-12 div.sk-parallel-item::after {content: \"\";width: 100%;border-bottom: 1px solid gray;flex-grow: 1;}#sk-container-id-12 div.sk-label:hover label.sk-toggleable__label {background-color: #d4ebff;}#sk-container-id-12 div.sk-serial::before {content: \"\";position: absolute;border-left: 1px solid gray;box-sizing: border-box;top: 0;bottom: 0;left: 50%;z-index: 0;}#sk-container-id-12 div.sk-serial {display: flex;flex-direction: column;align-items: center;background-color: white;padding-right: 0.2em;padding-left: 0.2em;position: relative;}#sk-container-id-12 div.sk-item {position: relative;z-index: 1;}#sk-container-id-12 div.sk-parallel {display: flex;align-items: stretch;justify-content: center;background-color: white;position: relative;}#sk-container-id-12 div.sk-item::before, #sk-container-id-12 div.sk-parallel-item::before {content: \"\";position: absolute;border-left: 1px solid gray;box-sizing: border-box;top: 0;bottom: 0;left: 50%;z-index: -1;}#sk-container-id-12 div.sk-parallel-item {display: flex;flex-direction: column;z-index: 1;position: relative;background-color: white;}#sk-container-id-12 div.sk-parallel-item:first-child::after {align-self: flex-end;width: 50%;}#sk-container-id-12 div.sk-parallel-item:last-child::after {align-self: flex-start;width: 50%;}#sk-container-id-12 div.sk-parallel-item:only-child::after {width: 0;}#sk-container-id-12 div.sk-dashed-wrapped {border: 1px dashed gray;margin: 0 0.4em 0.5em 0.4em;box-sizing: border-box;padding-bottom: 0.4em;background-color: white;}#sk-container-id-12 div.sk-label label {font-family: monospace;font-weight: bold;display: inline-block;line-height: 1.2em;}#sk-container-id-12 div.sk-label-container {text-align: center;}#sk-container-id-12 div.sk-container {/* jupyter's `normalize.less` sets `[hidden] { display: none; }` but bootstrap.min.css set `[hidden] { display: none !important; }` so we also need the `!important` here to be able to override the default hidden behavior on the sphinx rendered scikit-learn.org. See: https://github.com/scikit-learn/scikit-learn/issues/21755 */display: inline-block !important;position: relative;}#sk-container-id-12 div.sk-text-repr-fallback {display: none;}</style><div id=\"sk-container-id-12\" class=\"sk-top-container\"><div class=\"sk-text-repr-fallback\"><pre>Pipeline(steps=[(&#x27;logisticregression&#x27;, LogisticRegression(random_state=42))])</pre><b>In a Jupyter environment, please rerun this cell to show the HTML representation or trust the notebook. <br />On GitHub, the HTML representation is unable to render, please try loading this page with nbviewer.org.</b></div><div class=\"sk-container\" hidden><div class=\"sk-item sk-dashed-wrapped\"><div class=\"sk-label-container\"><div class=\"sk-label sk-toggleable\"><input class=\"sk-toggleable__control sk-hidden--visually\" id=\"sk-estimator-id-16\" type=\"checkbox\" ><label for=\"sk-estimator-id-16\" class=\"sk-toggleable__label sk-toggleable__label-arrow\">Pipeline</label><div class=\"sk-toggleable__content\"><pre>Pipeline(steps=[(&#x27;logisticregression&#x27;, LogisticRegression(random_state=42))])</pre></div></div></div><div class=\"sk-serial\"><div class=\"sk-item\"><div class=\"sk-estimator sk-toggleable\"><input class=\"sk-toggleable__control sk-hidden--visually\" id=\"sk-estimator-id-17\" type=\"checkbox\" ><label for=\"sk-estimator-id-17\" class=\"sk-toggleable__label sk-toggleable__label-arrow\">LogisticRegression</label><div class=\"sk-toggleable__content\"><pre>LogisticRegression(random_state=42)</pre></div></div></div></div></div></div></div>"
      ],
      "text/plain": [
       "Pipeline(steps=[('logisticregression', LogisticRegression(random_state=42))])"
      ]
     },
     "execution_count": 63,
     "metadata": {},
     "output_type": "execute_result"
    }
   ],
   "source": [
    "pipeline_rf.fit(X_train_lasso,y_train)\n",
    "pipeline_svm.fit(X_train_lasso,y_train)\n",
    "pipeline_gb.fit(X_train_lasso,y_train)\n",
    "pipeline_lr.fit(X_train_lasso,y_train)"
   ]
  },
  {
   "cell_type": "code",
   "execution_count": 64,
   "id": "437adbd0",
   "metadata": {},
   "outputs": [
    {
     "name": "stdout",
     "output_type": "stream",
     "text": [
      "rf\n",
      "f1 =  0.24242424242424243\n",
      "gm =  0.4138813957424828\n",
      "bas =  0.5794377247466492\n",
      "\n",
      "svm\n",
      "f1 =  0.0\n",
      "gm =  0.0\n",
      "bas =  0.5\n",
      "\n",
      "gb\n",
      "f1 =  0.3333333333333333\n",
      "gm =  0.4650823836959191\n",
      "bas =  0.6061893865097526\n",
      "\n",
      "lr\n",
      "f1 =  0.0\n",
      "gm =  0.0\n",
      "bas =  0.49122807017543857\n"
     ]
    }
   ],
   "source": [
    "print(\"rf\")\n",
    "print(\"f1 = \", f1_score(y_test, pipeline_rf.predict(X_test_lasso)))\n",
    "print(\"gm = \", geometric_mean_score(y_test, pipeline_rf.predict(X_test_lasso)))\n",
    "print(\"bas = \", balanced_accuracy_score(y_test, pipeline_rf.predict(X_test_lasso)))\n",
    "\n",
    "print(\"\")\n",
    "\n",
    "print(\"svm\")\n",
    "print(\"f1 = \", f1_score(y_test, pipeline_svm.predict(X_test_lasso)))\n",
    "print(\"gm = \", geometric_mean_score(y_test, pipeline_svm.predict(X_test_lasso)))\n",
    "print(\"bas = \", balanced_accuracy_score(y_test, pipeline_svm.predict(X_test_lasso)))\n",
    "\n",
    "print(\"\")\n",
    "\n",
    "print(\"gb\")\n",
    "print(\"f1 = \", f1_score(y_test, pipeline_gb.predict(X_test_lasso)))\n",
    "print(\"gm = \", geometric_mean_score(y_test, pipeline_gb.predict(X_test_lasso)))\n",
    "print(\"bas = \", balanced_accuracy_score(y_test, pipeline_gb.predict(X_test_lasso)))\n",
    "\n",
    "print(\"\")\n",
    "\n",
    "print(\"lr\")\n",
    "print(\"f1 = \", f1_score(y_test, pipeline_lr.predict(X_test_lasso)))\n",
    "print(\"gm = \", geometric_mean_score(y_test, pipeline_lr.predict(X_test_lasso)))\n",
    "print(\"bas = \", balanced_accuracy_score(y_test, pipeline_lr.predict(X_test_lasso)))"
   ]
  },
  {
   "cell_type": "markdown",
   "id": "cdf88f77",
   "metadata": {},
   "source": [
    "### Proceed to oversampling experiment with best baseline classifier"
   ]
  },
  {
   "cell_type": "code",
   "execution_count": 67,
   "id": "0b4c7eb3",
   "metadata": {},
   "outputs": [],
   "source": [
    "pipeline_smote = pipe_imblearn(smote,GradientBoostingClassifier(random_state = random_state))\n",
    "pipeline_ro = pipe_imblearn(ro,GradientBoostingClassifier(random_state = random_state))\n",
    "pipeline_adasyn = pipe_imblearn(adasyn,GradientBoostingClassifier(random_state = random_state))\n",
    "\n",
    "#component inside pipeline will also be fitted, so careful when you use variabel for the model"
   ]
  },
  {
   "cell_type": "markdown",
   "id": "879f1e50",
   "metadata": {},
   "source": [
    "## standard Oversampling"
   ]
  },
  {
   "cell_type": "code",
   "execution_count": 68,
   "id": "839dfbd7",
   "metadata": {},
   "outputs": [
    {
     "data": {
      "text/html": [
       "<style>#sk-container-id-13 {color: black;background-color: white;}#sk-container-id-13 pre{padding: 0;}#sk-container-id-13 div.sk-toggleable {background-color: white;}#sk-container-id-13 label.sk-toggleable__label {cursor: pointer;display: block;width: 100%;margin-bottom: 0;padding: 0.3em;box-sizing: border-box;text-align: center;}#sk-container-id-13 label.sk-toggleable__label-arrow:before {content: \"▸\";float: left;margin-right: 0.25em;color: #696969;}#sk-container-id-13 label.sk-toggleable__label-arrow:hover:before {color: black;}#sk-container-id-13 div.sk-estimator:hover label.sk-toggleable__label-arrow:before {color: black;}#sk-container-id-13 div.sk-toggleable__content {max-height: 0;max-width: 0;overflow: hidden;text-align: left;background-color: #f0f8ff;}#sk-container-id-13 div.sk-toggleable__content pre {margin: 0.2em;color: black;border-radius: 0.25em;background-color: #f0f8ff;}#sk-container-id-13 input.sk-toggleable__control:checked~div.sk-toggleable__content {max-height: 200px;max-width: 100%;overflow: auto;}#sk-container-id-13 input.sk-toggleable__control:checked~label.sk-toggleable__label-arrow:before {content: \"▾\";}#sk-container-id-13 div.sk-estimator input.sk-toggleable__control:checked~label.sk-toggleable__label {background-color: #d4ebff;}#sk-container-id-13 div.sk-label input.sk-toggleable__control:checked~label.sk-toggleable__label {background-color: #d4ebff;}#sk-container-id-13 input.sk-hidden--visually {border: 0;clip: rect(1px 1px 1px 1px);clip: rect(1px, 1px, 1px, 1px);height: 1px;margin: -1px;overflow: hidden;padding: 0;position: absolute;width: 1px;}#sk-container-id-13 div.sk-estimator {font-family: monospace;background-color: #f0f8ff;border: 1px dotted black;border-radius: 0.25em;box-sizing: border-box;margin-bottom: 0.5em;}#sk-container-id-13 div.sk-estimator:hover {background-color: #d4ebff;}#sk-container-id-13 div.sk-parallel-item::after {content: \"\";width: 100%;border-bottom: 1px solid gray;flex-grow: 1;}#sk-container-id-13 div.sk-label:hover label.sk-toggleable__label {background-color: #d4ebff;}#sk-container-id-13 div.sk-serial::before {content: \"\";position: absolute;border-left: 1px solid gray;box-sizing: border-box;top: 0;bottom: 0;left: 50%;z-index: 0;}#sk-container-id-13 div.sk-serial {display: flex;flex-direction: column;align-items: center;background-color: white;padding-right: 0.2em;padding-left: 0.2em;position: relative;}#sk-container-id-13 div.sk-item {position: relative;z-index: 1;}#sk-container-id-13 div.sk-parallel {display: flex;align-items: stretch;justify-content: center;background-color: white;position: relative;}#sk-container-id-13 div.sk-item::before, #sk-container-id-13 div.sk-parallel-item::before {content: \"\";position: absolute;border-left: 1px solid gray;box-sizing: border-box;top: 0;bottom: 0;left: 50%;z-index: -1;}#sk-container-id-13 div.sk-parallel-item {display: flex;flex-direction: column;z-index: 1;position: relative;background-color: white;}#sk-container-id-13 div.sk-parallel-item:first-child::after {align-self: flex-end;width: 50%;}#sk-container-id-13 div.sk-parallel-item:last-child::after {align-self: flex-start;width: 50%;}#sk-container-id-13 div.sk-parallel-item:only-child::after {width: 0;}#sk-container-id-13 div.sk-dashed-wrapped {border: 1px dashed gray;margin: 0 0.4em 0.5em 0.4em;box-sizing: border-box;padding-bottom: 0.4em;background-color: white;}#sk-container-id-13 div.sk-label label {font-family: monospace;font-weight: bold;display: inline-block;line-height: 1.2em;}#sk-container-id-13 div.sk-label-container {text-align: center;}#sk-container-id-13 div.sk-container {/* jupyter's `normalize.less` sets `[hidden] { display: none; }` but bootstrap.min.css set `[hidden] { display: none !important; }` so we also need the `!important` here to be able to override the default hidden behavior on the sphinx rendered scikit-learn.org. See: https://github.com/scikit-learn/scikit-learn/issues/21755 */display: inline-block !important;position: relative;}#sk-container-id-13 div.sk-text-repr-fallback {display: none;}</style><div id=\"sk-container-id-13\" class=\"sk-top-container\"><div class=\"sk-text-repr-fallback\"><pre>Pipeline(steps=[(&#x27;adasyn&#x27;, ADASYN(n_jobs=-1, random_state=42)),\n",
       "                (&#x27;gradientboostingclassifier&#x27;,\n",
       "                 GradientBoostingClassifier(random_state=42))])</pre><b>In a Jupyter environment, please rerun this cell to show the HTML representation or trust the notebook. <br />On GitHub, the HTML representation is unable to render, please try loading this page with nbviewer.org.</b></div><div class=\"sk-container\" hidden><div class=\"sk-item sk-dashed-wrapped\"><div class=\"sk-label-container\"><div class=\"sk-label sk-toggleable\"><input class=\"sk-toggleable__control sk-hidden--visually\" id=\"sk-estimator-id-18\" type=\"checkbox\" ><label for=\"sk-estimator-id-18\" class=\"sk-toggleable__label sk-toggleable__label-arrow\">Pipeline</label><div class=\"sk-toggleable__content\"><pre>Pipeline(steps=[(&#x27;adasyn&#x27;, ADASYN(n_jobs=-1, random_state=42)),\n",
       "                (&#x27;gradientboostingclassifier&#x27;,\n",
       "                 GradientBoostingClassifier(random_state=42))])</pre></div></div></div><div class=\"sk-serial\"><div class=\"sk-item\"><div class=\"sk-estimator sk-toggleable\"><input class=\"sk-toggleable__control sk-hidden--visually\" id=\"sk-estimator-id-19\" type=\"checkbox\" ><label for=\"sk-estimator-id-19\" class=\"sk-toggleable__label sk-toggleable__label-arrow\">ADASYN</label><div class=\"sk-toggleable__content\"><pre>ADASYN(n_jobs=-1, random_state=42)</pre></div></div></div><div class=\"sk-item\"><div class=\"sk-estimator sk-toggleable\"><input class=\"sk-toggleable__control sk-hidden--visually\" id=\"sk-estimator-id-20\" type=\"checkbox\" ><label for=\"sk-estimator-id-20\" class=\"sk-toggleable__label sk-toggleable__label-arrow\">GradientBoostingClassifier</label><div class=\"sk-toggleable__content\"><pre>GradientBoostingClassifier(random_state=42)</pre></div></div></div></div></div></div></div>"
      ],
      "text/plain": [
       "Pipeline(steps=[('adasyn', ADASYN(n_jobs=-1, random_state=42)),\n",
       "                ('gradientboostingclassifier',\n",
       "                 GradientBoostingClassifier(random_state=42))])"
      ]
     },
     "execution_count": 68,
     "metadata": {},
     "output_type": "execute_result"
    }
   ],
   "source": [
    "pipeline_smote.fit(X_train_lasso,y_train)\n",
    "pipeline_ro.fit(X_train_lasso,y_train)\n",
    "pipeline_adasyn.fit(X_train_lasso,y_train)"
   ]
  },
  {
   "cell_type": "code",
   "execution_count": 70,
   "id": "d13e7088",
   "metadata": {},
   "outputs": [
    {
     "name": "stdout",
     "output_type": "stream",
     "text": [
      "smote\n",
      "f1 =  0.2162162162162162\n",
      "gm =  0.4117697421910319\n",
      "bas =  0.5744251934183284\n",
      "\n",
      "random oversampler\n",
      "f1 =  0.3333333333333333\n",
      "gm =  0.6366798482438848\n",
      "bas =  0.6835567178816606\n",
      "\n",
      "adasyn\n",
      "f1 =  0.27999999999999997\n",
      "gm =  0.5376730381535646\n",
      "bas =  0.6271112564018743\n"
     ]
    }
   ],
   "source": [
    "print(\"smote\")\n",
    "print(\"f1 = \", f1_score(y_test, pipeline_smote.predict(X_test_lasso)))\n",
    "print(\"gm = \", geometric_mean_score(y_test, pipeline_smote.predict(X_test_lasso)))\n",
    "print(\"bas = \", balanced_accuracy_score(y_test, pipeline_smote.predict(X_test_lasso)))\n",
    "\n",
    "print(\"\")\n",
    "\n",
    "print(\"random oversampler\")\n",
    "print(\"f1 = \", f1_score(y_test, pipeline_ro.predict(X_test_lasso)))\n",
    "print(\"gm = \", geometric_mean_score(y_test, pipeline_ro.predict(X_test_lasso)))\n",
    "print(\"bas = \", balanced_accuracy_score(y_test, pipeline_ro.predict(X_test_lasso)))\n",
    "\n",
    "print(\"\")\n",
    "\n",
    "print(\"adasyn\")\n",
    "print(\"f1 = \", f1_score(y_test, pipeline_adasyn.predict(X_test_lasso)))\n",
    "print(\"gm = \", geometric_mean_score(y_test, pipeline_adasyn.predict(X_test_lasso)))\n",
    "print(\"bas = \", balanced_accuracy_score(y_test, pipeline_adasyn.predict(X_test_lasso)))\n"
   ]
  },
  {
   "cell_type": "markdown",
   "id": "c6025b10",
   "metadata": {},
   "source": [
    "### Proceed to oversampling with best oversampler until the minority class become majority experiment"
   ]
  },
  {
   "cell_type": "markdown",
   "id": "31fd265c",
   "metadata": {},
   "source": [
    "## oversampling until the minority class become majority"
   ]
  },
  {
   "cell_type": "markdown",
   "id": "2c005aed",
   "metadata": {},
   "source": [
    "### SMOTE"
   ]
  },
  {
   "cell_type": "code",
   "execution_count": 71,
   "id": "89f60143",
   "metadata": {},
   "outputs": [
    {
     "name": "stdout",
     "output_type": "stream",
     "text": [
      "n =  1000\n",
      "f1 =  0.35\n",
      "gm =  0.5447201676293256\n",
      "bas =  0.6396425847226763\n",
      "\n",
      "n =  1500\n",
      "f1 =  0.31111111111111117\n",
      "gm =  0.5412080731933907\n",
      "bas =  0.6333769205622752\n",
      "\n",
      "n =  2000\n",
      "f1 =  0.31999999999999995\n",
      "gm =  0.5755544630689542\n",
      "bas =  0.650103519668737\n",
      "\n"
     ]
    }
   ],
   "source": [
    "for n in n_ovrs_target:\n",
    "    pipeline_smote_2 = pipe_imblearn(SMOTE(sampling_strategy={ovrs_target:n},k_neighbors = 11,random_state=random_state,\n",
    "                                          n_jobs=-1),\n",
    "                                     GradientBoostingClassifier(random_state = random_state))\n",
    "    \n",
    "    pipeline_smote_2.fit(X_train_lasso,y_train)\n",
    "    \n",
    "    print(\"n = \",n)\n",
    "    print(\"f1 = \", f1_score(y_test, pipeline_smote_2.predict(X_test_lasso),pos_label=1))\n",
    "    print(\"gm = \", geometric_mean_score(y_test, pipeline_smote_2.predict(X_test_lasso)))\n",
    "    print(\"bas = \", balanced_accuracy_score(y_test, pipeline_smote_2.predict(X_test_lasso)))\n",
    "    \n",
    "    print(\"\")"
   ]
  },
  {
   "cell_type": "markdown",
   "id": "6547b97c",
   "metadata": {},
   "source": [
    "### Random Oversampler"
   ]
  },
  {
   "cell_type": "code",
   "execution_count": 72,
   "id": "77e101df",
   "metadata": {},
   "outputs": [
    {
     "name": "stdout",
     "output_type": "stream",
     "text": [
      "n =  1000\n",
      "f1 =  0.2950819672131147\n",
      "gm =  0.602381673809458\n",
      "bas =  0.6593113217827177\n",
      "\n",
      "n =  1500\n",
      "f1 =  0.3125\n",
      "gm =  0.6332475868613036\n",
      "bas =  0.6785441865533398\n",
      "\n",
      "n =  2000\n",
      "f1 =  0.27848101265822783\n",
      "gm =  0.6513997802805827\n",
      "bas =  0.6827394573389997\n",
      "\n"
     ]
    }
   ],
   "source": [
    "for n in n_ovrs_target:\n",
    "    pipeline_ro_2 = pipe_imblearn(RandomOverSampler(sampling_strategy={ovrs_target:n},random_state=random_state),\n",
    "                                  GradientBoostingClassifier(random_state = random_state))\n",
    "    \n",
    "    pipeline_ro_2.fit(X_train_lasso,y_train)\n",
    "    \n",
    "    print(\"n = \",n)\n",
    "    print(\"f1 = \", f1_score(y_test, pipeline_ro_2.predict(X_test_lasso),pos_label=1))\n",
    "    print(\"gm = \", geometric_mean_score(y_test, pipeline_ro_2.predict(X_test_lasso)))\n",
    "    print(\"bas = \", balanced_accuracy_score(y_test, pipeline_ro_2.predict(X_test_lasso)))\n",
    "    \n",
    "    print(\"\")"
   ]
  },
  {
   "cell_type": "markdown",
   "id": "e966a853",
   "metadata": {},
   "source": [
    "### Adasyn"
   ]
  },
  {
   "cell_type": "code",
   "execution_count": 73,
   "id": "3dc42bc4",
   "metadata": {},
   "outputs": [
    {
     "name": "stdout",
     "output_type": "stream",
     "text": [
      "n =  1000\n",
      "f1 =  0.27450980392156865\n",
      "gm =  0.5369632384538079\n",
      "bas =  0.625858123569794\n",
      "\n",
      "n =  1500\n",
      "f1 =  0.2711864406779661\n",
      "gm =  0.5686978448605609\n",
      "bas =  0.6388253241800153\n",
      "\n",
      "n =  2000\n",
      "f1 =  0.26666666666666666\n",
      "gm =  0.5679308885508941\n",
      "bas =  0.6375721913479351\n",
      "\n"
     ]
    }
   ],
   "source": [
    "for n in n_ovrs_target:\n",
    "    pipeline_adasyn_2 = pipe_imblearn(ADASYN(sampling_strategy={ovrs_target:n},random_state=random_state, n_jobs=-1),\n",
    "                                     GradientBoostingClassifier(random_state = random_state))\n",
    "    \n",
    "    pipeline_adasyn_2.fit(X_train_lasso,y_train)\n",
    "    \n",
    "    print(\"n = \",n)\n",
    "    print(\"f1 = \", f1_score(y_test, pipeline_adasyn_2.predict(X_test_lasso),pos_label=1))\n",
    "    print(\"gm = \", geometric_mean_score(y_test, pipeline_adasyn_2.predict(X_test_lasso)))\n",
    "    print(\"bas = \", balanced_accuracy_score(y_test, pipeline_adasyn_2.predict(X_test_lasso)))\n",
    "    \n",
    "    print(\"\")"
   ]
  },
  {
   "cell_type": "markdown",
   "id": "1100c46c",
   "metadata": {},
   "source": [
    "## oversampling + undersampling (1)"
   ]
  },
  {
   "cell_type": "markdown",
   "id": "897d80ee",
   "metadata": {},
   "source": [
    "### Random Undersampling"
   ]
  },
  {
   "cell_type": "code",
   "execution_count": 74,
   "id": "27d4a582",
   "metadata": {},
   "outputs": [
    {
     "name": "stdout",
     "output_type": "stream",
     "text": [
      "n =  1000\n",
      "f1 =  0.3902439024390244\n",
      "gm =  0.5823303539814302\n",
      "bas =  0.6613817151574588\n",
      "\n",
      "n =  1500\n",
      "f1 =  0.2564102564102564\n",
      "gm =  0.45978044800568896\n",
      "bas =  0.5949111910210308\n",
      "\n",
      "n =  2000\n",
      "f1 =  0.2857142857142857\n",
      "gm =  0.46214437334604436\n",
      "bas =  0.5999237223493517\n",
      "\n"
     ]
    }
   ],
   "source": [
    "for n in n_ovrs_target:\n",
    "    pipeline_smote_3 = pipe_imblearn(SMOTE(sampling_strategy={ovrs_target:n},k_neighbors = 11,random_state=random_state,\n",
    "                                          n_jobs=-1),\n",
    "                                      RandomUnderSampler(random_state=random_state),\n",
    "                                     GradientBoostingClassifier(random_state = random_state))\n",
    "    \n",
    "    pipeline_smote_3.fit(X_train_lasso,y_train)\n",
    "    \n",
    "    print(\"n = \",n)\n",
    "    print(\"f1 = \", f1_score(y_test, pipeline_smote_3.predict(X_test_lasso),pos_label=1))\n",
    "    print(\"gm = \", geometric_mean_score(y_test, pipeline_smote_3.predict(X_test_lasso)))\n",
    "    print(\"bas = \", balanced_accuracy_score(y_test, pipeline_smote_3.predict(X_test_lasso)))\n",
    "    \n",
    "    print(\"\")"
   ]
  },
  {
   "cell_type": "code",
   "execution_count": 75,
   "id": "6ee5091b",
   "metadata": {},
   "outputs": [
    {
     "name": "stdout",
     "output_type": "stream",
     "text": [
      "n =  1000\n",
      "f1 =  0.3333333333333333\n",
      "gm =  0.6366798482438848\n",
      "bas =  0.6835567178816606\n",
      "\n",
      "n =  1500\n",
      "f1 =  0.32142857142857145\n",
      "gm =  0.6064381618907654\n",
      "bas =  0.6655769859431186\n",
      "\n",
      "n =  2000\n",
      "f1 =  0.2727272727272727\n",
      "gm =  0.5982976831691045\n",
      "bas =  0.6530456576223167\n",
      "\n"
     ]
    }
   ],
   "source": [
    "for n in n_ovrs_target:\n",
    "    pipeline_ro_3 = pipe_imblearn(RandomOverSampler(sampling_strategy={ovrs_target:n},random_state=random_state),\n",
    "                                      RandomUnderSampler(random_state=random_state),\n",
    "                                     GradientBoostingClassifier(random_state = random_state))\n",
    "    \n",
    "    pipeline_ro_3.fit(X_train_lasso,y_train)\n",
    "    \n",
    "    print(\"n = \",n)\n",
    "    print(\"f1 = \", f1_score(y_test, pipeline_ro_3.predict(X_test_lasso),pos_label=1))\n",
    "    print(\"gm = \", geometric_mean_score(y_test, pipeline_ro_3.predict(X_test_lasso)))\n",
    "    print(\"bas = \", balanced_accuracy_score(y_test, pipeline_ro_3.predict(X_test_lasso)))\n",
    "    \n",
    "    print(\"\")"
   ]
  },
  {
   "cell_type": "code",
   "execution_count": 76,
   "id": "82aad025",
   "metadata": {},
   "outputs": [
    {
     "name": "stdout",
     "output_type": "stream",
     "text": [
      "n =  1000\n",
      "f1 =  0.27999999999999997\n",
      "gm =  0.5376730381535646\n",
      "bas =  0.6271112564018743\n",
      "\n",
      "n =  1500\n",
      "f1 =  0.30434782608695654\n",
      "gm =  0.540502915795298\n",
      "bas =  0.6321237877301951\n",
      "\n",
      "n =  2000\n",
      "f1 =  0.27906976744186046\n",
      "gm =  0.5017133117025978\n",
      "bas =  0.6128909229595728\n",
      "\n"
     ]
    }
   ],
   "source": [
    "for n in n_ovrs_target:\n",
    "    pipeline_adasyn_3 = pipe_imblearn(ADASYN(sampling_strategy={ovrs_target:n},random_state=random_state, n_jobs=-1),\n",
    "                                      RandomUnderSampler(random_state=random_state),\n",
    "                                     GradientBoostingClassifier(random_state = random_state))\n",
    "    \n",
    "    pipeline_adasyn_3.fit(X_train_lasso,y_train)\n",
    "    \n",
    "    print(\"n = \",n)\n",
    "    print(\"f1 = \", f1_score(y_test, pipeline_adasyn_3.predict(X_test_lasso),pos_label=1))\n",
    "    print(\"gm = \", geometric_mean_score(y_test, pipeline_adasyn_3.predict(X_test_lasso)))\n",
    "    print(\"bas = \", balanced_accuracy_score(y_test, pipeline_adasyn_3.predict(X_test_lasso)))\n",
    "    \n",
    "    print(\"\")"
   ]
  },
  {
   "cell_type": "markdown",
   "id": "12d885b9",
   "metadata": {},
   "source": [
    "### RepeatedEditedNearestNeighbours"
   ]
  },
  {
   "cell_type": "code",
   "execution_count": 77,
   "id": "89c123d5",
   "metadata": {},
   "outputs": [
    {
     "name": "stdout",
     "output_type": "stream",
     "text": [
      "n =  1000\n",
      "f1 =  0.2105263157894737\n",
      "gm =  0.4112401345864113\n",
      "bas =  0.5731720605862483\n",
      "\n",
      "n =  1500\n",
      "f1 =  0.37209302325581395\n",
      "gm =  0.5808314316653852\n",
      "bas =  0.6588754494932985\n",
      "\n",
      "n =  2000\n",
      "f1 =  0.28571428571428575\n",
      "gm =  0.5023644648795502\n",
      "bas =  0.614144055791653\n",
      "\n"
     ]
    }
   ],
   "source": [
    "for n in n_ovrs_target:\n",
    "    pipeline_smote_3 = pipe_imblearn(SMOTE(sampling_strategy={ovrs_target:n},k_neighbors = 11,random_state=random_state,\n",
    "                                          n_jobs=-1),\n",
    "                                      RepeatedEditedNearestNeighbours(n_neighbors=11,n_jobs=-1),\n",
    "                                     GradientBoostingClassifier(random_state = random_state))\n",
    "    \n",
    "    pipeline_smote_3.fit(X_train_lasso,y_train)\n",
    "    \n",
    "    print(\"n = \",n)\n",
    "    print(\"f1 = \", f1_score(y_test, pipeline_smote_3.predict(X_test_lasso),pos_label=1))\n",
    "    print(\"gm = \", geometric_mean_score(y_test, pipeline_smote_3.predict(X_test_lasso)))\n",
    "    print(\"bas = \", balanced_accuracy_score(y_test, pipeline_smote_3.predict(X_test_lasso)))\n",
    "    \n",
    "    print(\"\")"
   ]
  },
  {
   "cell_type": "code",
   "execution_count": 78,
   "id": "e3e47d2c",
   "metadata": {},
   "outputs": [
    {
     "name": "stdout",
     "output_type": "stream",
     "text": [
      "n =  1000\n",
      "f1 =  0.3103448275862069\n",
      "gm =  0.6048188314653106\n",
      "bas =  0.6630707202789583\n",
      "\n",
      "n =  1500\n",
      "f1 =  0.2647058823529412\n",
      "gm =  0.5966562598206204\n",
      "bas =  0.6505393919581562\n",
      "\n",
      "n =  2000\n",
      "f1 =  0.24324324324324328\n",
      "gm =  0.5917046699798579\n",
      "bas =  0.6430205949656751\n",
      "\n"
     ]
    }
   ],
   "source": [
    "for n in n_ovrs_target:\n",
    "    pipeline_ro_3 = pipe_imblearn(RandomOverSampler(sampling_strategy={ovrs_target:n},random_state=random_state),\n",
    "                                  RepeatedEditedNearestNeighbours(n_neighbors=11,n_jobs=-1),\n",
    "                                  GradientBoostingClassifier(random_state = random_state))\n",
    "    \n",
    "    pipeline_ro_3.fit(X_train_lasso,y_train)\n",
    "    \n",
    "    print(\"n = \",n)\n",
    "    print(\"f1 = \", f1_score(y_test, pipeline_ro_3.predict(X_test_lasso),pos_label=1))\n",
    "    print(\"gm = \", geometric_mean_score(y_test, pipeline_ro_3.predict(X_test_lasso)))\n",
    "    print(\"bas = \", balanced_accuracy_score(y_test, pipeline_ro_3.predict(X_test_lasso)))\n",
    "    \n",
    "    print(\"\")"
   ]
  },
  {
   "cell_type": "code",
   "execution_count": 79,
   "id": "f405c011",
   "metadata": {},
   "outputs": [
    {
     "name": "stdout",
     "output_type": "stream",
     "text": [
      "n =  1000\n",
      "f1 =  0.23809523809523808\n",
      "gm =  0.45799949703355575\n",
      "bas =  0.5911517925247902\n",
      "\n",
      "n =  1500\n",
      "f1 =  0.24999999999999994\n",
      "gm =  0.4984447862792268\n",
      "bas =  0.6066252587991718\n",
      "\n",
      "n =  2000\n",
      "f1 =  0.3076923076923077\n",
      "gm =  0.5740378478819279\n",
      "bas =  0.6475972540045767\n",
      "\n"
     ]
    }
   ],
   "source": [
    "for n in n_ovrs_target:\n",
    "    pipeline_adasyn_3 = pipe_imblearn(ADASYN(sampling_strategy={ovrs_target:n},random_state=random_state, n_jobs=-1),\n",
    "                                      RepeatedEditedNearestNeighbours(n_neighbors=11,n_jobs=-1),\n",
    "                                      GradientBoostingClassifier(random_state = random_state))\n",
    "    \n",
    "    pipeline_adasyn_3.fit(X_train_lasso,y_train)\n",
    "    \n",
    "    print(\"n = \",n)\n",
    "    print(\"f1 = \", f1_score(y_test, pipeline_adasyn_3.predict(X_test_lasso),pos_label=1))\n",
    "    print(\"gm = \", geometric_mean_score(y_test, pipeline_adasyn_3.predict(X_test_lasso)))\n",
    "    print(\"bas = \", balanced_accuracy_score(y_test, pipeline_adasyn_3.predict(X_test_lasso)))\n",
    "    \n",
    "    print(\"\")"
   ]
  },
  {
   "cell_type": "markdown",
   "id": "1dd2db83",
   "metadata": {},
   "source": [
    "## AllKNN"
   ]
  },
  {
   "cell_type": "code",
   "execution_count": 80,
   "id": "5e7383bf",
   "metadata": {},
   "outputs": [
    {
     "name": "stdout",
     "output_type": "stream",
     "text": [
      "n =  1000\n",
      "f1 =  0.30769230769230765\n",
      "gm =  0.5043128799427031\n",
      "bas =  0.6179034542878936\n",
      "\n",
      "n =  1500\n",
      "f1 =  0.27906976744186046\n",
      "gm =  0.5017133117025978\n",
      "bas =  0.6128909229595728\n",
      "\n",
      "n =  2000\n",
      "f1 =  0.27906976744186046\n",
      "gm =  0.5017133117025978\n",
      "bas =  0.6128909229595728\n",
      "\n"
     ]
    }
   ],
   "source": [
    "for n in n_ovrs_target:\n",
    "    pipeline_smote_3 = pipe_imblearn(SMOTE(sampling_strategy={ovrs_target:n},k_neighbors = 11,random_state=random_state,\n",
    "                                          n_jobs=-1),\n",
    "                                      AllKNN(n_neighbors=11,n_jobs=-1),\n",
    "                                     GradientBoostingClassifier(random_state = random_state))\n",
    "    \n",
    "    pipeline_smote_3.fit(X_train_lasso,y_train)\n",
    "    \n",
    "    print(\"n = \",n)\n",
    "    print(\"f1 = \", f1_score(y_test, pipeline_smote_3.predict(X_test_lasso),pos_label=1))\n",
    "    print(\"gm = \", geometric_mean_score(y_test, pipeline_smote_3.predict(X_test_lasso)))\n",
    "    print(\"bas = \", balanced_accuracy_score(y_test, pipeline_smote_3.predict(X_test_lasso)))\n",
    "    \n",
    "    print(\"\")"
   ]
  },
  {
   "cell_type": "code",
   "execution_count": 81,
   "id": "745c0b41",
   "metadata": {},
   "outputs": [
    {
     "name": "stdout",
     "output_type": "stream",
     "text": [
      "n =  1000\n",
      "f1 =  0.2903225806451613\n",
      "gm =  0.6015670937562085\n",
      "bas =  0.6580581889506375\n",
      "\n",
      "n =  1500\n",
      "f1 =  0.2647058823529412\n",
      "gm =  0.5966562598206204\n",
      "bas =  0.6505393919581562\n",
      "\n",
      "n =  2000\n",
      "f1 =  0.3125\n",
      "gm =  0.6332475868613036\n",
      "bas =  0.6785441865533398\n",
      "\n"
     ]
    }
   ],
   "source": [
    "for n in n_ovrs_target:\n",
    "    pipeline_ro_3 = pipe_imblearn(RandomOverSampler(sampling_strategy={ovrs_target:n},random_state=random_state),\n",
    "                                  AllKNN(n_neighbors=11,n_jobs=-1),\n",
    "                                  GradientBoostingClassifier(random_state = random_state))\n",
    "    \n",
    "    pipeline_ro_3.fit(X_train_lasso,y_train)\n",
    "    \n",
    "    print(\"n = \",n)\n",
    "    print(\"f1 = \", f1_score(y_test, pipeline_ro_3.predict(X_test_lasso),pos_label=1))\n",
    "    print(\"gm = \", geometric_mean_score(y_test, pipeline_ro_3.predict(X_test_lasso)))\n",
    "    print(\"bas = \", balanced_accuracy_score(y_test, pipeline_ro_3.predict(X_test_lasso)))\n",
    "    \n",
    "    print(\"\")"
   ]
  },
  {
   "cell_type": "code",
   "execution_count": 82,
   "id": "df2b4318",
   "metadata": {},
   "outputs": [
    {
     "name": "stdout",
     "output_type": "stream",
     "text": [
      "n =  1000\n",
      "f1 =  0.25\n",
      "gm =  0.459187565169766\n",
      "bas =  0.5936580581889507\n",
      "\n",
      "n =  1500\n",
      "f1 =  0.21739130434782608\n",
      "gm =  0.4556140667669229\n",
      "bas =  0.5861392611964694\n",
      "\n",
      "n =  2000\n",
      "f1 =  0.2692307692307692\n",
      "gm =  0.5362524992429568\n",
      "bas =  0.6246049907377138\n",
      "\n"
     ]
    }
   ],
   "source": [
    "for n in n_ovrs_target:\n",
    "    pipeline_adasyn_3 = pipe_imblearn(ADASYN(sampling_strategy={ovrs_target:n},random_state=random_state, n_jobs=-1),\n",
    "                                      AllKNN(n_neighbors=11,n_jobs=-1),\n",
    "                                      GradientBoostingClassifier(random_state = random_state))\n",
    "    \n",
    "    pipeline_adasyn_3.fit(X_train_lasso,y_train)\n",
    "    \n",
    "    print(\"n = \",n)\n",
    "    print(\"f1 = \", f1_score(y_test, pipeline_adasyn_3.predict(X_test_lasso),pos_label=1))\n",
    "    print(\"gm = \", geometric_mean_score(y_test, pipeline_adasyn_3.predict(X_test_lasso)))\n",
    "    print(\"bas = \", balanced_accuracy_score(y_test, pipeline_adasyn_3.predict(X_test_lasso)))\n",
    "    \n",
    "    print(\"\")"
   ]
  },
  {
   "cell_type": "markdown",
   "id": "0d61f50f",
   "metadata": {},
   "source": [
    "### Condensed nearest neighbors"
   ]
  },
  {
   "cell_type": "code",
   "execution_count": 83,
   "id": "15b56d7e",
   "metadata": {},
   "outputs": [
    {
     "name": "stdout",
     "output_type": "stream",
     "text": [
      "n =  1000\n",
      "f1 =  0.3870967741935483\n",
      "gm =  0.5094722252970555\n",
      "bas =  0.6279285169445352\n",
      "\n",
      "n =  1500\n",
      "f1 =  0.25\n",
      "gm =  0.4144076278631522\n",
      "bas =  0.5806908575787294\n",
      "\n",
      "n =  2000\n",
      "f1 =  0.30303030303030304\n",
      "gm =  0.46332181314822213\n",
      "bas =  0.602429988013512\n",
      "\n"
     ]
    }
   ],
   "source": [
    "for n in n_ovrs_target:\n",
    "    pipeline_smote_3 = pipe_imblearn(SMOTE(sampling_strategy={ovrs_target:n},k_neighbors = 11,random_state=random_state,\n",
    "                                          n_jobs=-1),\n",
    "                                      CondensedNearestNeighbour(n_neighbors=11,random_state=random_state,n_jobs=-1),\n",
    "                                     GradientBoostingClassifier(random_state = random_state))\n",
    "    \n",
    "    pipeline_smote_3.fit(X_train_lasso,y_train)\n",
    "    \n",
    "    print(\"n = \",n)\n",
    "    print(\"f1 = \", f1_score(y_test, pipeline_smote_3.predict(X_test_lasso),pos_label=1))\n",
    "    print(\"gm = \", geometric_mean_score(y_test, pipeline_smote_3.predict(X_test_lasso)))\n",
    "    print(\"bas = \", balanced_accuracy_score(y_test, pipeline_smote_3.predict(X_test_lasso)))\n",
    "    \n",
    "    print(\"\")"
   ]
  },
  {
   "cell_type": "code",
   "execution_count": 84,
   "id": "673a58b9",
   "metadata": {},
   "outputs": [
    {
     "name": "stdout",
     "output_type": "stream",
     "text": [
      "n =  1000\n",
      "f1 =  0.2162162162162162\n",
      "gm =  0.4117697421910319\n",
      "bas =  0.5744251934183284\n",
      "\n",
      "n =  1500\n",
      "f1 =  0.2222222222222222\n",
      "gm =  0.41229866950244703\n",
      "bas =  0.5756783262504086\n",
      "\n",
      "n =  2000\n",
      "f1 =  0.2222222222222222\n",
      "gm =  0.41229866950244703\n",
      "bas =  0.5756783262504086\n",
      "\n"
     ]
    }
   ],
   "source": [
    "for n in n_ovrs_target:\n",
    "    pipeline_ro_3 = pipe_imblearn(RandomOverSampler(sampling_strategy={ovrs_target:n},random_state=random_state),\n",
    "                                  CondensedNearestNeighbour(n_neighbors=11,random_state=random_state,n_jobs=-1),\n",
    "                                  GradientBoostingClassifier(random_state = random_state))\n",
    "    \n",
    "    pipeline_ro_3.fit(X_train_lasso,y_train)\n",
    "    \n",
    "    print(\"n = \",n)\n",
    "    print(\"f1 = \", f1_score(y_test, pipeline_ro_3.predict(X_test_lasso),pos_label=1))\n",
    "    print(\"gm = \", geometric_mean_score(y_test, pipeline_ro_3.predict(X_test_lasso)))\n",
    "    print(\"bas = \", balanced_accuracy_score(y_test, pipeline_ro_3.predict(X_test_lasso)))\n",
    "    \n",
    "    print(\"\")"
   ]
  },
  {
   "cell_type": "code",
   "execution_count": 85,
   "id": "2ac8a400",
   "metadata": {},
   "outputs": [
    {
     "name": "stdout",
     "output_type": "stream",
     "text": [
      "n =  1000\n",
      "f1 =  0.07142857142857142\n",
      "gm =  0.2074665962996116\n",
      "bas =  0.5167265991064618\n",
      "\n",
      "n =  1500\n",
      "f1 =  0.20689655172413793\n",
      "gm =  0.35979726229850945\n",
      "bas =  0.5614579928081072\n",
      "\n",
      "n =  2000\n",
      "f1 =  0.2\n",
      "gm =  0.3593426856643085\n",
      "bas =  0.560204859976027\n",
      "\n"
     ]
    }
   ],
   "source": [
    "for n in n_ovrs_target:\n",
    "    pipeline_adasyn_3 = pipe_imblearn(ADASYN(sampling_strategy={ovrs_target:n},random_state=random_state, n_jobs=-1),\n",
    "                                      CondensedNearestNeighbour(n_neighbors=11,random_state=random_state,n_jobs=-1),\n",
    "                                      GradientBoostingClassifier(random_state = random_state))\n",
    "    \n",
    "    pipeline_adasyn_3.fit(X_train_lasso,y_train)\n",
    "    \n",
    "    print(\"n = \",n)\n",
    "    print(\"f1 = \", f1_score(y_test, pipeline_adasyn_3.predict(X_test_lasso),pos_label=1))\n",
    "    print(\"gm = \", geometric_mean_score(y_test, pipeline_adasyn_3.predict(X_test_lasso)))\n",
    "    print(\"bas = \", balanced_accuracy_score(y_test, pipeline_adasyn_3.predict(X_test_lasso)))\n",
    "    \n",
    "    print(\"\")"
   ]
  },
  {
   "cell_type": "markdown",
   "id": "ea7650d4",
   "metadata": {},
   "source": [
    "## oversampling + undersampling (2)"
   ]
  },
  {
   "cell_type": "code",
   "execution_count": 86,
   "id": "86d09cca",
   "metadata": {},
   "outputs": [
    {
     "name": "stdout",
     "output_type": "stream",
     "text": [
      "n =  1000\n",
      "f1 =  0.2105263157894737\n",
      "gm =  0.4112401345864113\n",
      "bas =  0.5731720605862483\n",
      "n =  1500\n",
      "f1 =  0.3255813953488372\n",
      "gm =  0.5426156388297979\n",
      "bas =  0.6358831862264356\n",
      "n =  2000\n",
      "f1 =  0.27906976744186046\n",
      "gm =  0.5017133117025978\n",
      "bas =  0.6128909229595728\n"
     ]
    }
   ],
   "source": [
    "for n in n_ovrs_target:\n",
    "    pipeline_smote_4 = pipe_imblearn(SMOTEENN(smote = SMOTE(sampling_strategy={ovrs_target:n},k_neighbors = 11,\n",
    "                                                            random_state=random_state,\n",
    "                                                            n_jobs=-1),\n",
    "                                              enn = EditedNearestNeighbours(n_neighbors=11,n_jobs=-1),\n",
    "                                              random_state=random_state,n_jobs=-1),\n",
    "                                     GradientBoostingClassifier(random_state = random_state))\n",
    "\n",
    "    pipeline_smote_4.fit(X_train_lasso,y_train)\n",
    "\n",
    "    print(\"n = \",n)\n",
    "    print(\"f1 = \", f1_score(y_test, pipeline_smote_4.predict(X_test_lasso),pos_label=1))\n",
    "    print(\"gm = \", geometric_mean_score(y_test, pipeline_smote_4.predict(X_test_lasso)))\n",
    "    print(\"bas = \", balanced_accuracy_score(y_test, pipeline_smote_4.predict(X_test_lasso)))"
   ]
  },
  {
   "cell_type": "code",
   "execution_count": 87,
   "id": "269d579d",
   "metadata": {},
   "outputs": [
    {
     "name": "stdout",
     "output_type": "stream",
     "text": [
      "n =  1000\n",
      "f1 =  0.35\n",
      "gm =  0.5447201676293256\n",
      "bas =  0.6396425847226763\n",
      "n =  1500\n",
      "f1 =  0.31111111111111117\n",
      "gm =  0.5412080731933907\n",
      "bas =  0.6333769205622752\n",
      "n =  2000\n",
      "f1 =  0.31999999999999995\n",
      "gm =  0.5755544630689542\n",
      "bas =  0.650103519668737\n"
     ]
    }
   ],
   "source": [
    "for n in n_ovrs_target:\n",
    "    pipeline_smote_4 = pipe_imblearn(SMOTETomek(smote = SMOTE(sampling_strategy={ovrs_target:n},k_neighbors = 11,\n",
    "                                                              random_state=random_state,\n",
    "                                                              n_jobs=-1),\n",
    "                                                tomek = TomekLinks(n_jobs=-1),\n",
    "                                                random_state=random_state,n_jobs=-1),\n",
    "                                     GradientBoostingClassifier(random_state = random_state))\n",
    "\n",
    "    pipeline_smote_4.fit(X_train_lasso,y_train)\n",
    "\n",
    "    print(\"n = \",n)\n",
    "    print(\"f1 = \", f1_score(y_test, pipeline_smote_4.predict(X_test_lasso),pos_label=1))\n",
    "    print(\"gm = \", geometric_mean_score(y_test, pipeline_smote_4.predict(X_test_lasso)))\n",
    "    print(\"bas = \", balanced_accuracy_score(y_test, pipeline_smote_4.predict(X_test_lasso)))"
   ]
  },
  {
   "cell_type": "code",
   "execution_count": 39,
   "id": "ec042b92",
   "metadata": {},
   "outputs": [],
   "source": [
    "# function to undersampling only on the syntetic data"
   ]
  },
  {
   "cell_type": "markdown",
   "id": "7f877a2a",
   "metadata": {},
   "source": [
    "## oversampling with aco"
   ]
  },
  {
   "cell_type": "markdown",
   "id": "42f3ecf7",
   "metadata": {},
   "source": [
    "### SMOTE"
   ]
  },
  {
   "cell_type": "code",
   "execution_count": 90,
   "id": "43a91006",
   "metadata": {},
   "outputs": [
    {
     "name": "stdout",
     "output_type": "stream",
     "text": [
      "n =  1000\n",
      "f1 =  0.37209302325581395\n",
      "gm =  0.5808314316653852\n",
      "bas =  0.6588754494932985\n",
      "\n",
      "n =  1500\n",
      "f1 =  0.27906976744186046\n",
      "gm =  0.5017133117025978\n",
      "bas =  0.6128909229595728\n",
      "\n",
      "n =  2000\n",
      "f1 =  0.3902439024390244\n",
      "gm =  0.5823303539814302\n",
      "bas =  0.6613817151574588\n",
      "\n"
     ]
    }
   ],
   "source": [
    "histories = {}\n",
    "for n in n_ovrs_target:\n",
    "    ovrs_aco = OVRS_ACO(random_state=random_state)\n",
    "    ovrs_aco.set_model(X_train_lasso, y_train,ovrs_target=ovrs_target,n_ovrs_target=n,\n",
    "                        model = GradientBoostingClassifier(random_state = random_state),\n",
    "                        oversampler =SMOTE(sampling_strategy={ovrs_target:n},k_neighbors = 11,random_state=random_state,\n",
    "                                          n_jobs=-1))\n",
    "\n",
    "    new_X_train,new_y_train,fitness,fitness_history = ovrs_aco.construct_solution()\n",
    "    \n",
    "    histories[f\"{n}\"] = fitness_history\n",
    "    \n",
    "    pipeline_ovrs_aco = make_pipeline(GradientBoostingClassifier(random_state = random_state))\n",
    "    \n",
    "    pipeline_ovrs_aco.fit(new_X_train,new_y_train)\n",
    "    \n",
    "    print(\"n = \",n)\n",
    "    print(\"f1 = \", f1_score(y_test, pipeline_ovrs_aco.predict(X_test_lasso)))\n",
    "    print(\"gm = \", geometric_mean_score(y_test, pipeline_ovrs_aco.predict(X_test_lasso)))\n",
    "    print(\"bas = \", balanced_accuracy_score(y_test, pipeline_ovrs_aco.predict(X_test_lasso)))\n",
    "    \n",
    "    print(\"\")\n",
    "    \n",
    "    new_dataset = new_X_train.copy()\n",
    "    new_dataset['label'] = new_y_train\n",
    "    new_dataset.to_csv(f\"data/ovrs_aco_smote_data_{n}_lasso.csv\")"
   ]
  },
  {
   "cell_type": "code",
   "execution_count": 91,
   "id": "3cd0e935",
   "metadata": {},
   "outputs": [
    {
     "data": {
      "text/plain": [
       "{'1000': [0.2744897025171625,\n",
       "  0.5954096669613911,\n",
       "  0.6073464871842155,\n",
       "  0.5896314496314495,\n",
       "  0.5747152194211018,\n",
       "  0.6096750308515014,\n",
       "  0.5824782386072709,\n",
       "  0.5871698712855554,\n",
       "  0.6042544802212406,\n",
       "  0.5982132751232919,\n",
       "  0.581532258064516],\n",
       " '1500': [0.2744897025171625,\n",
       "  0.606013986013986,\n",
       "  0.625228095672859,\n",
       "  0.6097105508870215,\n",
       "  0.6174603174603175,\n",
       "  0.6084341468519967,\n",
       "  0.608359264729251,\n",
       "  0.6131102171424752,\n",
       "  0.6550936308052058,\n",
       "  0.6128354323635631,\n",
       "  0.5975476325221656],\n",
       " '2000': [0.2744897025171625,\n",
       "  0.6209188660801563,\n",
       "  0.6544404899395826,\n",
       "  0.6223182453438294,\n",
       "  0.6435101035320749,\n",
       "  0.6059553349875931,\n",
       "  0.6322425708995583,\n",
       "  0.624889810733731,\n",
       "  0.6577402554684502,\n",
       "  0.6330043688562957,\n",
       "  0.6415430055869897]}"
      ]
     },
     "execution_count": 91,
     "metadata": {},
     "output_type": "execute_result"
    }
   ],
   "source": [
    "histories"
   ]
  },
  {
   "cell_type": "code",
   "execution_count": null,
   "id": "6b180697",
   "metadata": {},
   "outputs": [],
   "source": []
  },
  {
   "cell_type": "markdown",
   "id": "03d25d61",
   "metadata": {},
   "source": [
    "### Random Oversampler"
   ]
  },
  {
   "cell_type": "code",
   "execution_count": 88,
   "id": "b0e8a6de",
   "metadata": {},
   "outputs": [
    {
     "name": "stdout",
     "output_type": "stream",
     "text": [
      "n =  1000\n",
      "f1 =  0.3050847457627119\n",
      "gm =  0.6040075382343092\n",
      "bas =  0.661817587446878\n",
      "\n",
      "n =  1500\n",
      "f1 =  0.3225806451612903\n",
      "gm =  0.6349660366608282\n",
      "bas =  0.6810504522175003\n",
      "\n",
      "n =  2000\n",
      "f1 =  0.3157894736842105\n",
      "gm =  0.6056290378988255\n",
      "bas =  0.6643238531110385\n",
      "\n"
     ]
    }
   ],
   "source": [
    "histories = {}\n",
    "for n in n_ovrs_target:\n",
    "    ovrs_aco = OVRS_ACO(random_state=random_state)\n",
    "    ovrs_aco.set_model(X_train_lasso, y_train,ovrs_target=ovrs_target,n_ovrs_target=n,\n",
    "                        model = GradientBoostingClassifier(random_state = random_state),\n",
    "                        oversampler =RandomOverSampler(sampling_strategy={ovrs_target:n},random_state=random_state))\n",
    "\n",
    "    new_X_train,new_y_train,fitness,fitness_history = ovrs_aco.construct_solution()\n",
    "    \n",
    "    histories[f\"{n}\"] = fitness_history\n",
    "    \n",
    "    pipeline_ovrs_aco = make_pipeline(GradientBoostingClassifier(random_state = random_state))\n",
    "    \n",
    "    pipeline_ovrs_aco.fit(new_X_train,new_y_train)\n",
    "    \n",
    "    print(\"n = \",n)\n",
    "    print(\"f1 = \", f1_score(y_test, pipeline_ovrs_aco.predict(X_test_lasso)))\n",
    "    print(\"gm = \", geometric_mean_score(y_test, pipeline_ovrs_aco.predict(X_test_lasso)))\n",
    "    print(\"bas = \", balanced_accuracy_score(y_test, pipeline_ovrs_aco.predict(X_test_lasso)))\n",
    "    \n",
    "    print(\"\")\n",
    "    \n",
    "    new_dataset = new_X_train.copy()\n",
    "    new_dataset['label'] = new_y_train\n",
    "    new_dataset.to_csv(f\"data/ovrs_aco_ro_data_{n}_lasso.csv\")"
   ]
  },
  {
   "cell_type": "code",
   "execution_count": 89,
   "id": "d78d8365",
   "metadata": {},
   "outputs": [
    {
     "data": {
      "text/plain": [
       "{'1000': [0.2744897025171625,\n",
       "  0.6844380995641499,\n",
       "  0.6722804506634293,\n",
       "  0.6693419930901422,\n",
       "  0.6760755619320898,\n",
       "  0.6607989058668176,\n",
       "  0.6575187131708871,\n",
       "  0.6773868450390189],\n",
       " '1500': [0.2744897025171625,\n",
       "  0.6633677824982174,\n",
       "  0.6703114109801039,\n",
       "  0.68363098660971,\n",
       "  0.6719078259913106,\n",
       "  0.6586285186285187,\n",
       "  0.6737398894660689,\n",
       "  0.6580872400822588,\n",
       "  0.6597437353319707,\n",
       "  0.6583322598437805],\n",
       " '2000': [0.2744897025171625,\n",
       "  0.6651652628237994,\n",
       "  0.6693345164152618,\n",
       "  0.6707109557109557,\n",
       "  0.6804340955601461,\n",
       "  0.6757845701209546,\n",
       "  0.6763709785973886,\n",
       "  0.6808666761466313,\n",
       "  0.6895873015873015,\n",
       "  0.6817683351844843,\n",
       "  0.6723299738708473]}"
      ]
     },
     "execution_count": 89,
     "metadata": {},
     "output_type": "execute_result"
    }
   ],
   "source": [
    "histories"
   ]
  },
  {
   "cell_type": "markdown",
   "id": "ea2465dd",
   "metadata": {},
   "source": [
    "### Adasyn"
   ]
  },
  {
   "cell_type": "code",
   "execution_count": 9,
   "id": "f6549978",
   "metadata": {},
   "outputs": [
    {
     "name": "stdout",
     "output_type": "stream",
     "text": [
      "n =  1000\n",
      "f1 =  0.33333333333333337\n",
      "gm =  0.5062537962114355\n",
      "bas =  0.6216628527841342\n",
      "\n",
      "n =  1500\n",
      "f1 =  0.3684210526315789\n",
      "gm =  0.5461186812727502\n",
      "bas =  0.6421488503868367\n",
      "\n",
      "n =  2000\n",
      "f1 =  0.34146341463414637\n",
      "gm =  0.5440195626221882\n",
      "bas =  0.638389451890596\n",
      "\n"
     ]
    }
   ],
   "source": [
    "histories = {}\n",
    "for n in n_ovrs_target:\n",
    "    ovrs_aco = OVRS_ACO(random_state=random_state,kfold=3)\n",
    "    ovrs_aco.set_model(X_train, y_train,ovrs_target=ovrs_target,n_ovrs_target=n,\n",
    "                        model = GradientBoostingClassifier(random_state = random_state),\n",
    "                        oversampler =ADASYN(sampling_strategy={ovrs_target:n},random_state=random_state, n_jobs=-1))\n",
    "\n",
    "    new_X_train,new_y_train,fitness,fitness_history = ovrs_aco.construct_solution()\n",
    "    \n",
    "    histories[f\"{n}\"] = fitness_history\n",
    "    \n",
    "    pipeline_ovrs_aco = make_pipeline(GradientBoostingClassifier(random_state = random_state))\n",
    "    \n",
    "    pipeline_ovrs_aco.fit(new_X_train,new_y_train)\n",
    "    \n",
    "    print(\"n = \",n)\n",
    "    print(\"f1 = \", f1_score(y_test, pipeline_ovrs_aco.predict(X_test)))\n",
    "    print(\"gm = \", geometric_mean_score(y_test, pipeline_ovrs_aco.predict(X_test)))\n",
    "    print(\"bas = \", balanced_accuracy_score(y_test, pipeline_ovrs_aco.predict(X_test)))\n",
    "    \n",
    "    print(\"\")\n",
    "    \n",
    "    new_dataset = new_X_train.copy()\n",
    "    new_dataset['label'] = new_y_train\n",
    "    new_dataset.to_csv(f\"data/ovrs_aco_adasyn_data_{n}.csv\")"
   ]
  },
  {
   "cell_type": "code",
   "execution_count": 10,
   "id": "c9741aaf",
   "metadata": {},
   "outputs": [
    {
     "data": {
      "text/plain": [
       "{'1000': [0.2849431270483902,\n",
       "  0.6403663003663004,\n",
       "  0.635859264729251,\n",
       "  0.6424000276210334,\n",
       "  0.6551539738152313,\n",
       "  0.6325379639274162,\n",
       "  0.6767086834733893,\n",
       "  0.6441698936627943,\n",
       "  0.6535714285714287,\n",
       "  0.6594446989029205,\n",
       "  0.6481083300048818],\n",
       " '1500': [0.2849431270483902,\n",
       "  0.6369690335207576,\n",
       "  0.6424112692908087,\n",
       "  0.6710155744638503,\n",
       "  0.6439627805145046,\n",
       "  0.6386288885055489,\n",
       "  0.6479706252002266,\n",
       "  0.6451872903044936,\n",
       "  0.6617703533026112,\n",
       "  0.62805823209049],\n",
       " '2000': [0.2849431270483902,\n",
       "  0.6453970798553014,\n",
       "  0.6419157088122606,\n",
       "  0.630144326333074,\n",
       "  0.6512912261678865,\n",
       "  0.6757135612865837,\n",
       "  0.6479411764705882,\n",
       "  0.6273467432950193,\n",
       "  0.62938922695515,\n",
       "  0.6286678528057837,\n",
       "  0.6307677177454054]}"
      ]
     },
     "execution_count": 10,
     "metadata": {},
     "output_type": "execute_result"
    }
   ],
   "source": [
    "histories"
   ]
  },
  {
   "cell_type": "code",
   "execution_count": null,
   "id": "973cab54",
   "metadata": {},
   "outputs": [],
   "source": []
  },
  {
   "cell_type": "code",
   "execution_count": null,
   "id": "46e4331d",
   "metadata": {},
   "outputs": [],
   "source": []
  },
  {
   "cell_type": "code",
   "execution_count": null,
   "id": "33d9debd",
   "metadata": {},
   "outputs": [],
   "source": []
  }
 ],
 "metadata": {
  "kernelspec": {
   "display_name": "Python 3 (ipykernel)",
   "language": "python",
   "name": "python3"
  },
  "language_info": {
   "codemirror_mode": {
    "name": "ipython",
    "version": 3
   },
   "file_extension": ".py",
   "mimetype": "text/x-python",
   "name": "python",
   "nbconvert_exporter": "python",
   "pygments_lexer": "ipython3",
   "version": "3.11.3"
  }
 },
 "nbformat": 4,
 "nbformat_minor": 5
}
