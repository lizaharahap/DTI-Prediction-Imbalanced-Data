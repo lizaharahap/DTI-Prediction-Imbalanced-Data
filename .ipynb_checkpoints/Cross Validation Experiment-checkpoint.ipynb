{
 "cells": [
  {
   "cell_type": "code",
   "execution_count": 4,
   "id": "c289f5eb",
   "metadata": {},
   "outputs": [],
   "source": [
    "import random\n",
    "import math\n",
    "import copy\n",
    "import time\n",
    "import json\n",
    "import datetime\n",
    "import numpy as np\n",
    "import pandas as pd\n",
    "\n",
    "from sklearn.preprocessing import StandardScaler\n",
    "from sklearn.ensemble import RandomForestClassifier, GradientBoostingClassifier\n",
    "from sklearn.svm import SVC\n",
    "from sklearn.linear_model import LogisticRegression\n",
    "from sklearn.pipeline import make_pipeline\n",
    "\n",
    "from sklearn.model_selection import KFold, train_test_split\n",
    "from sklearn.metrics import f1_score,balanced_accuracy_score\n",
    "\n",
    "from imblearn.over_sampling import SMOTE,RandomOverSampler,ADASYN\n",
    "from imblearn.pipeline import make_pipeline as pipe_imblearn\n",
    "from imblearn.metrics import geometric_mean_score\n",
    "\n",
    "from smote_aco import SMOTE_ACO\n",
    "\n",
    "import warnings\n",
    "warnings.filterwarnings('ignore')"
   ]
  },
  {
   "cell_type": "markdown",
   "id": "ea35b53a",
   "metadata": {},
   "source": [
    "# Dataset"
   ]
  },
  {
   "cell_type": "code",
   "execution_count": 5,
   "id": "81f9df41",
   "metadata": {},
   "outputs": [],
   "source": [
    "df = pd.read_csv(\"data/NR_AB.csv\").drop('Unnamed: 0',axis=1)"
   ]
  },
  {
   "cell_type": "code",
   "execution_count": 6,
   "id": "8e14005b",
   "metadata": {},
   "outputs": [],
   "source": [
    "X = df.drop(['label','drug_no','protein_no'],axis=1)\n",
    "y = df['label']"
   ]
  },
  {
   "cell_type": "code",
   "execution_count": 7,
   "id": "f87cdb09",
   "metadata": {},
   "outputs": [
    {
     "data": {
      "text/html": [
       "<div>\n",
       "<style scoped>\n",
       "    .dataframe tbody tr th:only-of-type {\n",
       "        vertical-align: middle;\n",
       "    }\n",
       "\n",
       "    .dataframe tbody tr th {\n",
       "        vertical-align: top;\n",
       "    }\n",
       "\n",
       "    .dataframe thead th {\n",
       "        text-align: right;\n",
       "    }\n",
       "</style>\n",
       "<table border=\"1\" class=\"dataframe\">\n",
       "  <thead>\n",
       "    <tr style=\"text-align: right;\">\n",
       "      <th></th>\n",
       "      <th>fp2_0</th>\n",
       "      <th>fp2_1</th>\n",
       "      <th>fp2_2</th>\n",
       "      <th>fp2_3</th>\n",
       "      <th>fp2_4</th>\n",
       "      <th>fp2_5</th>\n",
       "      <th>fp2_6</th>\n",
       "      <th>fp2_7</th>\n",
       "      <th>fp2_8</th>\n",
       "      <th>fp2_9</th>\n",
       "      <th>...</th>\n",
       "      <th>DPC_390</th>\n",
       "      <th>DPC_391</th>\n",
       "      <th>DPC_392</th>\n",
       "      <th>DPC_393</th>\n",
       "      <th>DPC_394</th>\n",
       "      <th>DPC_395</th>\n",
       "      <th>DPC_396</th>\n",
       "      <th>DPC_397</th>\n",
       "      <th>DPC_398</th>\n",
       "      <th>DPC_399</th>\n",
       "    </tr>\n",
       "  </thead>\n",
       "  <tbody>\n",
       "    <tr>\n",
       "      <th>0</th>\n",
       "      <td>0.0</td>\n",
       "      <td>0.0</td>\n",
       "      <td>0.0</td>\n",
       "      <td>0.0</td>\n",
       "      <td>0.0</td>\n",
       "      <td>0.0</td>\n",
       "      <td>0.0</td>\n",
       "      <td>0.0</td>\n",
       "      <td>0.0</td>\n",
       "      <td>0.0</td>\n",
       "      <td>...</td>\n",
       "      <td>0.000000</td>\n",
       "      <td>0.487207</td>\n",
       "      <td>0.000000</td>\n",
       "      <td>0.0</td>\n",
       "      <td>1.000000</td>\n",
       "      <td>0.517058</td>\n",
       "      <td>0.000000</td>\n",
       "      <td>0.000000</td>\n",
       "      <td>0.0</td>\n",
       "      <td>0.0</td>\n",
       "    </tr>\n",
       "    <tr>\n",
       "      <th>1</th>\n",
       "      <td>0.0</td>\n",
       "      <td>0.0</td>\n",
       "      <td>0.0</td>\n",
       "      <td>0.0</td>\n",
       "      <td>0.0</td>\n",
       "      <td>0.0</td>\n",
       "      <td>0.0</td>\n",
       "      <td>0.0</td>\n",
       "      <td>0.0</td>\n",
       "      <td>0.0</td>\n",
       "      <td>...</td>\n",
       "      <td>0.364478</td>\n",
       "      <td>0.384680</td>\n",
       "      <td>0.382155</td>\n",
       "      <td>0.0</td>\n",
       "      <td>0.263187</td>\n",
       "      <td>0.408249</td>\n",
       "      <td>0.388047</td>\n",
       "      <td>0.000000</td>\n",
       "      <td>0.0</td>\n",
       "      <td>1.0</td>\n",
       "    </tr>\n",
       "    <tr>\n",
       "      <th>2</th>\n",
       "      <td>0.0</td>\n",
       "      <td>0.0</td>\n",
       "      <td>0.0</td>\n",
       "      <td>0.0</td>\n",
       "      <td>0.0</td>\n",
       "      <td>0.0</td>\n",
       "      <td>0.0</td>\n",
       "      <td>0.0</td>\n",
       "      <td>0.0</td>\n",
       "      <td>0.0</td>\n",
       "      <td>...</td>\n",
       "      <td>0.000000</td>\n",
       "      <td>0.431947</td>\n",
       "      <td>0.858223</td>\n",
       "      <td>0.0</td>\n",
       "      <td>0.295526</td>\n",
       "      <td>0.458412</td>\n",
       "      <td>0.000000</td>\n",
       "      <td>0.663516</td>\n",
       "      <td>0.0</td>\n",
       "      <td>0.0</td>\n",
       "    </tr>\n",
       "    <tr>\n",
       "      <th>3</th>\n",
       "      <td>0.0</td>\n",
       "      <td>0.0</td>\n",
       "      <td>0.0</td>\n",
       "      <td>0.0</td>\n",
       "      <td>0.0</td>\n",
       "      <td>0.0</td>\n",
       "      <td>0.0</td>\n",
       "      <td>0.0</td>\n",
       "      <td>0.0</td>\n",
       "      <td>0.0</td>\n",
       "      <td>...</td>\n",
       "      <td>0.000000</td>\n",
       "      <td>0.000000</td>\n",
       "      <td>0.000000</td>\n",
       "      <td>0.0</td>\n",
       "      <td>0.000000</td>\n",
       "      <td>0.287322</td>\n",
       "      <td>0.000000</td>\n",
       "      <td>0.831754</td>\n",
       "      <td>0.0</td>\n",
       "      <td>0.0</td>\n",
       "    </tr>\n",
       "    <tr>\n",
       "      <th>4</th>\n",
       "      <td>0.0</td>\n",
       "      <td>0.0</td>\n",
       "      <td>0.0</td>\n",
       "      <td>0.0</td>\n",
       "      <td>0.0</td>\n",
       "      <td>0.0</td>\n",
       "      <td>0.0</td>\n",
       "      <td>0.0</td>\n",
       "      <td>0.0</td>\n",
       "      <td>0.0</td>\n",
       "      <td>...</td>\n",
       "      <td>0.427022</td>\n",
       "      <td>0.000000</td>\n",
       "      <td>0.000000</td>\n",
       "      <td>0.0</td>\n",
       "      <td>0.616700</td>\n",
       "      <td>0.478304</td>\n",
       "      <td>0.000000</td>\n",
       "      <td>0.000000</td>\n",
       "      <td>0.0</td>\n",
       "      <td>0.0</td>\n",
       "    </tr>\n",
       "  </tbody>\n",
       "</table>\n",
       "<p>5 rows × 676 columns</p>\n",
       "</div>"
      ],
      "text/plain": [
       "   fp2_0  fp2_1  fp2_2  fp2_3  fp2_4  fp2_5  fp2_6  fp2_7  fp2_8  fp2_9  ...  \\\n",
       "0    0.0    0.0    0.0    0.0    0.0    0.0    0.0    0.0    0.0    0.0  ...   \n",
       "1    0.0    0.0    0.0    0.0    0.0    0.0    0.0    0.0    0.0    0.0  ...   \n",
       "2    0.0    0.0    0.0    0.0    0.0    0.0    0.0    0.0    0.0    0.0  ...   \n",
       "3    0.0    0.0    0.0    0.0    0.0    0.0    0.0    0.0    0.0    0.0  ...   \n",
       "4    0.0    0.0    0.0    0.0    0.0    0.0    0.0    0.0    0.0    0.0  ...   \n",
       "\n",
       "    DPC_390   DPC_391   DPC_392  DPC_393   DPC_394   DPC_395   DPC_396  \\\n",
       "0  0.000000  0.487207  0.000000      0.0  1.000000  0.517058  0.000000   \n",
       "1  0.364478  0.384680  0.382155      0.0  0.263187  0.408249  0.388047   \n",
       "2  0.000000  0.431947  0.858223      0.0  0.295526  0.458412  0.000000   \n",
       "3  0.000000  0.000000  0.000000      0.0  0.000000  0.287322  0.000000   \n",
       "4  0.427022  0.000000  0.000000      0.0  0.616700  0.478304  0.000000   \n",
       "\n",
       "    DPC_397  DPC_398  DPC_399  \n",
       "0  0.000000      0.0      0.0  \n",
       "1  0.000000      0.0      1.0  \n",
       "2  0.663516      0.0      0.0  \n",
       "3  0.831754      0.0      0.0  \n",
       "4  0.000000      0.0      0.0  \n",
       "\n",
       "[5 rows x 676 columns]"
      ]
     },
     "execution_count": 7,
     "metadata": {},
     "output_type": "execute_result"
    }
   ],
   "source": [
    "X.head()"
   ]
  },
  {
   "cell_type": "markdown",
   "id": "a04d9263",
   "metadata": {},
   "source": [
    "# Train Val Test Split"
   ]
  },
  {
   "cell_type": "code",
   "execution_count": 8,
   "id": "774a06b7",
   "metadata": {},
   "outputs": [],
   "source": [
    "random_state = 42"
   ]
  },
  {
   "cell_type": "code",
   "execution_count": 9,
   "id": "5d4b92d6",
   "metadata": {},
   "outputs": [],
   "source": [
    "X_train, X_test, y_train, y_test = train_test_split(X, y, test_size=20/100,random_state = random_state)\n",
    "X_train, X_val, y_train, y_val = train_test_split(X_train, y_train, test_size=10/80,random_state = random_state)"
   ]
  },
  {
   "cell_type": "markdown",
   "id": "3b7759ff",
   "metadata": {},
   "source": [
    "# Experimentation\n",
    "\n",
    "The experiments conducted here are as follows:\n",
    "- baseline (compare several classifier)\n",
    "- oversampling with standard oversampling (compare several oversampling method)\n",
    "- oversampling with smote until the minority class become majority\n",
    "- oversampling with smote aco\n",
    "- smote aco tuning\n",
    "\n",
    "All experiments are evaluated using cross validation with F1-score\n",
    "\n",
    "lets go!"
   ]
  },
  {
   "cell_type": "code",
   "execution_count": 7,
   "id": "bdd4b9e3",
   "metadata": {},
   "outputs": [],
   "source": [
    "n_ovrs_target = [1000,1500,2000]\n",
    "ovrs_target = 1"
   ]
  },
  {
   "cell_type": "code",
   "execution_count": 8,
   "id": "a7cf4959",
   "metadata": {},
   "outputs": [],
   "source": [
    "model_rf = RandomForestClassifier(n_estimators = 200, random_state = random_state)\n",
    "model_svm = SVC(random_state=random_state)\n",
    "model_gb = GradientBoostingClassifier(random_state = random_state)\n",
    "model_lr = LogisticRegression(random_state=random_state)\n",
    "\n",
    "pipeline_rf = make_pipeline(model_rf)\n",
    "pipeline_svm = make_pipeline(model_svm)\n",
    "pipeline_gb = make_pipeline(model_gb)\n",
    "pipeline_lr = make_pipeline(model_lr)\n",
    "\n",
    "smote = SMOTE(random_state=random_state,k_neighbors=11, n_jobs=-1)\n",
    "ro = RandomOverSampler(random_state=random_state)\n",
    "adasyn = ADASYN(random_state=random_state, n_jobs=-1)"
   ]
  },
  {
   "cell_type": "markdown",
   "id": "748f1770",
   "metadata": {},
   "source": [
    "## Baseline"
   ]
  },
  {
   "cell_type": "code",
   "execution_count": 16,
   "id": "603abd9f",
   "metadata": {},
   "outputs": [
    {
     "data": {
      "text/html": [
       "<style>#sk-container-id-2 {color: black;background-color: white;}#sk-container-id-2 pre{padding: 0;}#sk-container-id-2 div.sk-toggleable {background-color: white;}#sk-container-id-2 label.sk-toggleable__label {cursor: pointer;display: block;width: 100%;margin-bottom: 0;padding: 0.3em;box-sizing: border-box;text-align: center;}#sk-container-id-2 label.sk-toggleable__label-arrow:before {content: \"▸\";float: left;margin-right: 0.25em;color: #696969;}#sk-container-id-2 label.sk-toggleable__label-arrow:hover:before {color: black;}#sk-container-id-2 div.sk-estimator:hover label.sk-toggleable__label-arrow:before {color: black;}#sk-container-id-2 div.sk-toggleable__content {max-height: 0;max-width: 0;overflow: hidden;text-align: left;background-color: #f0f8ff;}#sk-container-id-2 div.sk-toggleable__content pre {margin: 0.2em;color: black;border-radius: 0.25em;background-color: #f0f8ff;}#sk-container-id-2 input.sk-toggleable__control:checked~div.sk-toggleable__content {max-height: 200px;max-width: 100%;overflow: auto;}#sk-container-id-2 input.sk-toggleable__control:checked~label.sk-toggleable__label-arrow:before {content: \"▾\";}#sk-container-id-2 div.sk-estimator input.sk-toggleable__control:checked~label.sk-toggleable__label {background-color: #d4ebff;}#sk-container-id-2 div.sk-label input.sk-toggleable__control:checked~label.sk-toggleable__label {background-color: #d4ebff;}#sk-container-id-2 input.sk-hidden--visually {border: 0;clip: rect(1px 1px 1px 1px);clip: rect(1px, 1px, 1px, 1px);height: 1px;margin: -1px;overflow: hidden;padding: 0;position: absolute;width: 1px;}#sk-container-id-2 div.sk-estimator {font-family: monospace;background-color: #f0f8ff;border: 1px dotted black;border-radius: 0.25em;box-sizing: border-box;margin-bottom: 0.5em;}#sk-container-id-2 div.sk-estimator:hover {background-color: #d4ebff;}#sk-container-id-2 div.sk-parallel-item::after {content: \"\";width: 100%;border-bottom: 1px solid gray;flex-grow: 1;}#sk-container-id-2 div.sk-label:hover label.sk-toggleable__label {background-color: #d4ebff;}#sk-container-id-2 div.sk-serial::before {content: \"\";position: absolute;border-left: 1px solid gray;box-sizing: border-box;top: 0;bottom: 0;left: 50%;z-index: 0;}#sk-container-id-2 div.sk-serial {display: flex;flex-direction: column;align-items: center;background-color: white;padding-right: 0.2em;padding-left: 0.2em;position: relative;}#sk-container-id-2 div.sk-item {position: relative;z-index: 1;}#sk-container-id-2 div.sk-parallel {display: flex;align-items: stretch;justify-content: center;background-color: white;position: relative;}#sk-container-id-2 div.sk-item::before, #sk-container-id-2 div.sk-parallel-item::before {content: \"\";position: absolute;border-left: 1px solid gray;box-sizing: border-box;top: 0;bottom: 0;left: 50%;z-index: -1;}#sk-container-id-2 div.sk-parallel-item {display: flex;flex-direction: column;z-index: 1;position: relative;background-color: white;}#sk-container-id-2 div.sk-parallel-item:first-child::after {align-self: flex-end;width: 50%;}#sk-container-id-2 div.sk-parallel-item:last-child::after {align-self: flex-start;width: 50%;}#sk-container-id-2 div.sk-parallel-item:only-child::after {width: 0;}#sk-container-id-2 div.sk-dashed-wrapped {border: 1px dashed gray;margin: 0 0.4em 0.5em 0.4em;box-sizing: border-box;padding-bottom: 0.4em;background-color: white;}#sk-container-id-2 div.sk-label label {font-family: monospace;font-weight: bold;display: inline-block;line-height: 1.2em;}#sk-container-id-2 div.sk-label-container {text-align: center;}#sk-container-id-2 div.sk-container {/* jupyter's `normalize.less` sets `[hidden] { display: none; }` but bootstrap.min.css set `[hidden] { display: none !important; }` so we also need the `!important` here to be able to override the default hidden behavior on the sphinx rendered scikit-learn.org. See: https://github.com/scikit-learn/scikit-learn/issues/21755 */display: inline-block !important;position: relative;}#sk-container-id-2 div.sk-text-repr-fallback {display: none;}</style><div id=\"sk-container-id-2\" class=\"sk-top-container\"><div class=\"sk-text-repr-fallback\"><pre>Pipeline(steps=[(&#x27;logisticregression&#x27;, LogisticRegression(random_state=42))])</pre><b>In a Jupyter environment, please rerun this cell to show the HTML representation or trust the notebook. <br />On GitHub, the HTML representation is unable to render, please try loading this page with nbviewer.org.</b></div><div class=\"sk-container\" hidden><div class=\"sk-item sk-dashed-wrapped\"><div class=\"sk-label-container\"><div class=\"sk-label sk-toggleable\"><input class=\"sk-toggleable__control sk-hidden--visually\" id=\"sk-estimator-id-4\" type=\"checkbox\" ><label for=\"sk-estimator-id-4\" class=\"sk-toggleable__label sk-toggleable__label-arrow\">Pipeline</label><div class=\"sk-toggleable__content\"><pre>Pipeline(steps=[(&#x27;logisticregression&#x27;, LogisticRegression(random_state=42))])</pre></div></div></div><div class=\"sk-serial\"><div class=\"sk-item\"><div class=\"sk-estimator sk-toggleable\"><input class=\"sk-toggleable__control sk-hidden--visually\" id=\"sk-estimator-id-5\" type=\"checkbox\" ><label for=\"sk-estimator-id-5\" class=\"sk-toggleable__label sk-toggleable__label-arrow\">LogisticRegression</label><div class=\"sk-toggleable__content\"><pre>LogisticRegression(random_state=42)</pre></div></div></div></div></div></div></div>"
      ],
      "text/plain": [
       "Pipeline(steps=[('logisticregression', LogisticRegression(random_state=42))])"
      ]
     },
     "execution_count": 16,
     "metadata": {},
     "output_type": "execute_result"
    }
   ],
   "source": [
    "pipeline_rf.fit(X_train,y_train)\n",
    "pipeline_svm.fit(X_train,y_train)\n",
    "pipeline_gb.fit(X_train,y_train)\n",
    "pipeline_lr.fit(X_train,y_train)"
   ]
  },
  {
   "cell_type": "code",
   "execution_count": 17,
   "id": "490f106b",
   "metadata": {},
   "outputs": [
    {
     "name": "stdout",
     "output_type": "stream",
     "text": [
      "rf\n",
      "f1 =  0.26086956521739124\n",
      "gm =  0.4297322553878807\n",
      "bas =  0.5862028301886792\n",
      "\n",
      "svm\n",
      "f1 =  0.0\n",
      "gm =  0.0\n",
      "bas =  0.5\n",
      "\n",
      "gb\n",
      "f1 =  0.19047619047619047\n",
      "gm =  0.3515464487950026\n",
      "bas =  0.5568396226415094\n",
      "\n",
      "lr\n",
      "f1 =  0.0\n",
      "gm =  0.0\n",
      "bas =  0.49056603773584906\n"
     ]
    }
   ],
   "source": [
    "print(\"rf\")\n",
    "print(\"f1 = \", f1_score(y_test, pipeline_rf.predict(X_test)))\n",
    "print(\"gm = \", geometric_mean_score(y_test, pipeline_rf.predict(X_test)))\n",
    "print(\"bas = \", balanced_accuracy_score(y_test, pipeline_rf.predict(X_test)))\n",
    "\n",
    "print(\"\")\n",
    "\n",
    "print(\"svm\")\n",
    "print(\"f1 = \", f1_score(y_test, pipeline_svm.predict(X_test)))\n",
    "print(\"gm = \", geometric_mean_score(y_test, pipeline_svm.predict(X_test)))\n",
    "print(\"bas = \", balanced_accuracy_score(y_test, pipeline_svm.predict(X_test)))\n",
    "\n",
    "print(\"\")\n",
    "\n",
    "print(\"gb\")\n",
    "print(\"f1 = \", f1_score(y_test, pipeline_gb.predict(X_test)))\n",
    "print(\"gm = \", geometric_mean_score(y_test, pipeline_gb.predict(X_test)))\n",
    "print(\"bas = \", balanced_accuracy_score(y_test, pipeline_gb.predict(X_test)))\n",
    "\n",
    "print(\"\")\n",
    "\n",
    "print(\"lr\")\n",
    "print(\"f1 = \", f1_score(y_test, pipeline_lr.predict(X_test)))\n",
    "print(\"gm = \", geometric_mean_score(y_test, pipeline_lr.predict(X_test)))\n",
    "print(\"bas = \", balanced_accuracy_score(y_test, pipeline_lr.predict(X_test)))"
   ]
  },
  {
   "cell_type": "markdown",
   "id": "cdf88f77",
   "metadata": {},
   "source": [
    "### Proceed to oversampling experiment with best baseline classifier"
   ]
  },
  {
   "cell_type": "code",
   "execution_count": 40,
   "id": "0b4c7eb3",
   "metadata": {},
   "outputs": [],
   "source": [
    "pipeline_smote = pipe_imblearn(smote,RandomForestClassifier(n_estimators = 200, random_state = random_state))\n",
    "pipeline_ro = pipe_imblearn(ro,RandomForestClassifier(n_estimators = 200, random_state = random_state))\n",
    "pipeline_adasyn = pipe_imblearn(adasyn,RandomForestClassifier(n_estimators = 200, random_state = random_state))\n",
    "\n",
    "#component inside pipeline will also be fitted, so careful when you use variabel for the model"
   ]
  },
  {
   "cell_type": "markdown",
   "id": "879f1e50",
   "metadata": {},
   "source": [
    "## standard Oversampling"
   ]
  },
  {
   "cell_type": "code",
   "execution_count": 41,
   "id": "839dfbd7",
   "metadata": {},
   "outputs": [
    {
     "data": {
      "text/html": [
       "<style>#sk-container-id-7 {color: black;background-color: white;}#sk-container-id-7 pre{padding: 0;}#sk-container-id-7 div.sk-toggleable {background-color: white;}#sk-container-id-7 label.sk-toggleable__label {cursor: pointer;display: block;width: 100%;margin-bottom: 0;padding: 0.3em;box-sizing: border-box;text-align: center;}#sk-container-id-7 label.sk-toggleable__label-arrow:before {content: \"▸\";float: left;margin-right: 0.25em;color: #696969;}#sk-container-id-7 label.sk-toggleable__label-arrow:hover:before {color: black;}#sk-container-id-7 div.sk-estimator:hover label.sk-toggleable__label-arrow:before {color: black;}#sk-container-id-7 div.sk-toggleable__content {max-height: 0;max-width: 0;overflow: hidden;text-align: left;background-color: #f0f8ff;}#sk-container-id-7 div.sk-toggleable__content pre {margin: 0.2em;color: black;border-radius: 0.25em;background-color: #f0f8ff;}#sk-container-id-7 input.sk-toggleable__control:checked~div.sk-toggleable__content {max-height: 200px;max-width: 100%;overflow: auto;}#sk-container-id-7 input.sk-toggleable__control:checked~label.sk-toggleable__label-arrow:before {content: \"▾\";}#sk-container-id-7 div.sk-estimator input.sk-toggleable__control:checked~label.sk-toggleable__label {background-color: #d4ebff;}#sk-container-id-7 div.sk-label input.sk-toggleable__control:checked~label.sk-toggleable__label {background-color: #d4ebff;}#sk-container-id-7 input.sk-hidden--visually {border: 0;clip: rect(1px 1px 1px 1px);clip: rect(1px, 1px, 1px, 1px);height: 1px;margin: -1px;overflow: hidden;padding: 0;position: absolute;width: 1px;}#sk-container-id-7 div.sk-estimator {font-family: monospace;background-color: #f0f8ff;border: 1px dotted black;border-radius: 0.25em;box-sizing: border-box;margin-bottom: 0.5em;}#sk-container-id-7 div.sk-estimator:hover {background-color: #d4ebff;}#sk-container-id-7 div.sk-parallel-item::after {content: \"\";width: 100%;border-bottom: 1px solid gray;flex-grow: 1;}#sk-container-id-7 div.sk-label:hover label.sk-toggleable__label {background-color: #d4ebff;}#sk-container-id-7 div.sk-serial::before {content: \"\";position: absolute;border-left: 1px solid gray;box-sizing: border-box;top: 0;bottom: 0;left: 50%;z-index: 0;}#sk-container-id-7 div.sk-serial {display: flex;flex-direction: column;align-items: center;background-color: white;padding-right: 0.2em;padding-left: 0.2em;position: relative;}#sk-container-id-7 div.sk-item {position: relative;z-index: 1;}#sk-container-id-7 div.sk-parallel {display: flex;align-items: stretch;justify-content: center;background-color: white;position: relative;}#sk-container-id-7 div.sk-item::before, #sk-container-id-7 div.sk-parallel-item::before {content: \"\";position: absolute;border-left: 1px solid gray;box-sizing: border-box;top: 0;bottom: 0;left: 50%;z-index: -1;}#sk-container-id-7 div.sk-parallel-item {display: flex;flex-direction: column;z-index: 1;position: relative;background-color: white;}#sk-container-id-7 div.sk-parallel-item:first-child::after {align-self: flex-end;width: 50%;}#sk-container-id-7 div.sk-parallel-item:last-child::after {align-self: flex-start;width: 50%;}#sk-container-id-7 div.sk-parallel-item:only-child::after {width: 0;}#sk-container-id-7 div.sk-dashed-wrapped {border: 1px dashed gray;margin: 0 0.4em 0.5em 0.4em;box-sizing: border-box;padding-bottom: 0.4em;background-color: white;}#sk-container-id-7 div.sk-label label {font-family: monospace;font-weight: bold;display: inline-block;line-height: 1.2em;}#sk-container-id-7 div.sk-label-container {text-align: center;}#sk-container-id-7 div.sk-container {/* jupyter's `normalize.less` sets `[hidden] { display: none; }` but bootstrap.min.css set `[hidden] { display: none !important; }` so we also need the `!important` here to be able to override the default hidden behavior on the sphinx rendered scikit-learn.org. See: https://github.com/scikit-learn/scikit-learn/issues/21755 */display: inline-block !important;position: relative;}#sk-container-id-7 div.sk-text-repr-fallback {display: none;}</style><div id=\"sk-container-id-7\" class=\"sk-top-container\"><div class=\"sk-text-repr-fallback\"><pre>Pipeline(steps=[(&#x27;adasyn&#x27;, ADASYN(n_jobs=-1, random_state=42)),\n",
       "                (&#x27;randomforestclassifier&#x27;,\n",
       "                 RandomForestClassifier(n_estimators=200, random_state=42))])</pre><b>In a Jupyter environment, please rerun this cell to show the HTML representation or trust the notebook. <br />On GitHub, the HTML representation is unable to render, please try loading this page with nbviewer.org.</b></div><div class=\"sk-container\" hidden><div class=\"sk-item sk-dashed-wrapped\"><div class=\"sk-label-container\"><div class=\"sk-label sk-toggleable\"><input class=\"sk-toggleable__control sk-hidden--visually\" id=\"sk-estimator-id-18\" type=\"checkbox\" ><label for=\"sk-estimator-id-18\" class=\"sk-toggleable__label sk-toggleable__label-arrow\">Pipeline</label><div class=\"sk-toggleable__content\"><pre>Pipeline(steps=[(&#x27;adasyn&#x27;, ADASYN(n_jobs=-1, random_state=42)),\n",
       "                (&#x27;randomforestclassifier&#x27;,\n",
       "                 RandomForestClassifier(n_estimators=200, random_state=42))])</pre></div></div></div><div class=\"sk-serial\"><div class=\"sk-item\"><div class=\"sk-estimator sk-toggleable\"><input class=\"sk-toggleable__control sk-hidden--visually\" id=\"sk-estimator-id-19\" type=\"checkbox\" ><label for=\"sk-estimator-id-19\" class=\"sk-toggleable__label sk-toggleable__label-arrow\">ADASYN</label><div class=\"sk-toggleable__content\"><pre>ADASYN(n_jobs=-1, random_state=42)</pre></div></div></div><div class=\"sk-item\"><div class=\"sk-estimator sk-toggleable\"><input class=\"sk-toggleable__control sk-hidden--visually\" id=\"sk-estimator-id-20\" type=\"checkbox\" ><label for=\"sk-estimator-id-20\" class=\"sk-toggleable__label sk-toggleable__label-arrow\">RandomForestClassifier</label><div class=\"sk-toggleable__content\"><pre>RandomForestClassifier(n_estimators=200, random_state=42)</pre></div></div></div></div></div></div></div>"
      ],
      "text/plain": [
       "Pipeline(steps=[('adasyn', ADASYN(n_jobs=-1, random_state=42)),\n",
       "                ('randomforestclassifier',\n",
       "                 RandomForestClassifier(n_estimators=200, random_state=42))])"
      ]
     },
     "execution_count": 41,
     "metadata": {},
     "output_type": "execute_result"
    }
   ],
   "source": [
    "pipeline_smote.fit(X_train,y_train)\n",
    "pipeline_ro.fit(X_train,y_train)\n",
    "pipeline_adasyn.fit(X_train,y_train)"
   ]
  },
  {
   "cell_type": "code",
   "execution_count": 42,
   "id": "d13e7088",
   "metadata": {},
   "outputs": [
    {
     "name": "stdout",
     "output_type": "stream",
     "text": [
      "smote\n",
      "f1 =  0.34782608695652173\n",
      "gm =  0.49716175568999144\n",
      "bas =  0.6193396226415094\n",
      "\n",
      "random oversampler\n",
      "f1 =  0.3333333333333333\n",
      "gm =  0.49621206665531586\n",
      "bas =  0.6174528301886792\n",
      "\n",
      "adasyn\n",
      "f1 =  0.25\n",
      "gm =  0.4289082234592191\n",
      "bas =  0.5843160377358491\n"
     ]
    }
   ],
   "source": [
    "print(\"smote\")\n",
    "print(\"f1 = \", f1_score(y_test, pipeline_smote.predict(X_test)))\n",
    "print(\"gm = \", geometric_mean_score(y_test, pipeline_smote.predict(X_test)))\n",
    "print(\"bas = \", balanced_accuracy_score(y_test, pipeline_smote.predict(X_test)))\n",
    "\n",
    "print(\"\")\n",
    "\n",
    "print(\"random oversampler\")\n",
    "print(\"f1 = \", f1_score(y_test, pipeline_ro.predict(X_test)))\n",
    "print(\"gm = \", geometric_mean_score(y_test, pipeline_ro.predict(X_test)))\n",
    "print(\"bas = \", balanced_accuracy_score(y_test, pipeline_ro.predict(X_test)))\n",
    "\n",
    "print(\"\")\n",
    "\n",
    "print(\"adasyn\")\n",
    "print(\"f1 = \", f1_score(y_test, pipeline_adasyn.predict(X_test)))\n",
    "print(\"gm = \", geometric_mean_score(y_test, pipeline_adasyn.predict(X_test)))\n",
    "print(\"bas = \", balanced_accuracy_score(y_test, pipeline_adasyn.predict(X_test)))\n"
   ]
  },
  {
   "cell_type": "markdown",
   "id": "c6025b10",
   "metadata": {},
   "source": [
    "### Proceed to oversampling with best oversampler until the minority class become majority experiment"
   ]
  },
  {
   "cell_type": "markdown",
   "id": "31fd265c",
   "metadata": {},
   "source": [
    "## oversampling until the minority class become majority"
   ]
  },
  {
   "cell_type": "code",
   "execution_count": 13,
   "id": "3dc42bc4",
   "metadata": {},
   "outputs": [
    {
     "name": "stdout",
     "output_type": "stream",
     "text": [
      "n =  1000\n",
      "f1 =  0.3333333333333333\n",
      "gm =  0.49621206665531586\n",
      "bas =  0.6174528301886792\n",
      "\n",
      "n =  1500\n",
      "f1 =  0.3333333333333333\n",
      "gm =  0.49621206665531586\n",
      "bas =  0.6174528301886792\n",
      "\n",
      "n =  2000\n",
      "f1 =  0.38461538461538464\n",
      "gm =  0.5537181355029883\n",
      "bas =  0.6468160377358491\n",
      "\n"
     ]
    }
   ],
   "source": [
    "for n in n_ovrs_target:\n",
    "    pipeline_smote_2 = pipe_imblearn(SMOTE(sampling_strategy={ovrs_target:n},k_neighbors = 11,random_state=random_state,\n",
    "                                          n_jobs=-1),\n",
    "                                     RandomForestClassifier(n_estimators = 200, random_state = random_state))\n",
    "    \n",
    "    pipeline_smote_2.fit(X_train,y_train)\n",
    "    \n",
    "    print(\"n = \",n)\n",
    "    print(\"f1 = \", f1_score(y_test, pipeline_smote_2.predict(X_test),pos_label=1))\n",
    "    print(\"gm = \", geometric_mean_score(y_test, pipeline_smote_2.predict(X_test)))\n",
    "    print(\"bas = \", balanced_accuracy_score(y_test, pipeline_smote_2.predict(X_test)))\n",
    "    \n",
    "    print(\"\")"
   ]
  },
  {
   "cell_type": "markdown",
   "id": "7f877a2a",
   "metadata": {},
   "source": [
    "## oversampling with smote aco"
   ]
  },
  {
   "cell_type": "code",
   "execution_count": 9,
   "id": "f6549978",
   "metadata": {},
   "outputs": [
    {
     "name": "stdout",
     "output_type": "stream",
     "text": [
      "0    917\n",
      "1    917\n",
      "Name: label, dtype: int64\n",
      "n =  2000\n",
      "f1 =  0.39999999999999997\n",
      "gm =  0.5547819561484715\n",
      "bas =  0.6487028301886792\n",
      "\n"
     ]
    }
   ],
   "source": [
    "histories = {}\n",
    "for n in n_ovrs_target[-1:]:\n",
    "    smote_aco = SMOTE_ACO(random_state=random_state,max_iter=1)\n",
    "    smote_aco.set_model(X_train, y_train, X_test, y_test,ovrs_target=ovrs_target,n_ovrs_target=n,\n",
    "                        model = RandomForestClassifier(n_estimators=200,random_state = random_state))\n",
    "    \n",
    "    new_X_train,new_y_train,fitness,fitness_history = smote_aco.construct_solution()\n",
    "    \n",
    "    histories[f\"{n}\"] = fitness_history\n",
    "    \n",
    "    pipeline_smote_aco = make_pipeline(RandomForestClassifier(n_estimators=200,random_state = random_state))\n",
    "    \n",
    "    pipeline_smote_aco.fit(new_X_train,new_y_train)\n",
    "    \n",
    "    print(\"n = \",n)\n",
    "    print(\"f1 = \", f1_score(y_test, pipeline_smote_aco.predict(X_test)))\n",
    "    print(\"gm = \", geometric_mean_score(y_test, pipeline_smote_aco.predict(X_test)))\n",
    "    print(\"bas = \", balanced_accuracy_score(y_test, pipeline_smote_aco.predict(X_test)))\n",
    "    \n",
    "    print(\"\")"
   ]
  },
  {
   "cell_type": "code",
   "execution_count": 44,
   "id": "d419b48f",
   "metadata": {},
   "outputs": [
    {
     "data": {
      "text/plain": [
       "[2000]"
      ]
     },
     "execution_count": 44,
     "metadata": {},
     "output_type": "execute_result"
    }
   ],
   "source": [
    "n_ovrs_target[-1:]"
   ]
  },
  {
   "cell_type": "code",
   "execution_count": 9,
   "id": "2f66bc62",
   "metadata": {},
   "outputs": [
    {
     "data": {
      "text/plain": [
       "1"
      ]
     },
     "execution_count": 9,
     "metadata": {},
     "output_type": "execute_result"
    }
   ],
   "source": [
    "ovrs_target"
   ]
  },
  {
   "cell_type": "code",
   "execution_count": 19,
   "id": "cd1c73e4",
   "metadata": {},
   "outputs": [
    {
     "data": {
      "text/plain": [
       "{'2000': [0.12, 0.42857142857142855]}"
      ]
     },
     "execution_count": 19,
     "metadata": {},
     "output_type": "execute_result"
    }
   ],
   "source": [
    "histories"
   ]
  },
  {
   "cell_type": "code",
   "execution_count": 10,
   "id": "f2e8eebb",
   "metadata": {},
   "outputs": [
    {
     "data": {
      "text/plain": [
       "{'2000': [0.26086956521739124, 0.39999999999999997]}"
      ]
     },
     "execution_count": 10,
     "metadata": {},
     "output_type": "execute_result"
    }
   ],
   "source": [
    "histories"
   ]
  },
  {
   "cell_type": "code",
   "execution_count": 18,
   "id": "d583b1b2",
   "metadata": {},
   "outputs": [
    {
     "data": {
      "text/plain": [
       "0    917\n",
       "1    917\n",
       "Name: label, dtype: int64"
      ]
     },
     "execution_count": 18,
     "metadata": {},
     "output_type": "execute_result"
    }
   ],
   "source": [
    "new_y_train.value_counts()"
   ]
  },
  {
   "cell_type": "code",
   "execution_count": null,
   "id": "5f6c6cd8",
   "metadata": {},
   "outputs": [],
   "source": []
  },
  {
   "cell_type": "code",
   "execution_count": null,
   "id": "4b6821a3",
   "metadata": {},
   "outputs": [],
   "source": []
  },
  {
   "cell_type": "code",
   "execution_count": null,
   "id": "a5715640",
   "metadata": {},
   "outputs": [],
   "source": []
  },
  {
   "cell_type": "code",
   "execution_count": 31,
   "id": "071307ad",
   "metadata": {},
   "outputs": [],
   "source": [
    "import random\n",
    "import math\n",
    "import copy\n",
    "import time\n",
    "import json\n",
    "import datetime\n",
    "import numpy as np\n",
    "from sklearn.preprocessing import StandardScaler\n",
    "from imblearn.over_sampling import SMOTE\n",
    "from sklearn.ensemble import RandomForestClassifier\n",
    "from sklearn.model_selection import train_test_split,KFold\n",
    "from sklearn.pipeline import make_pipeline\n",
    "from sklearn.metrics import f1_score\n",
    "import pandas as pd\n",
    "\n",
    "\n",
    "class OVRS_ACO_2(object):\n",
    "    def __init__(self,init_pheromone = 0.3,rho = 0.8,num_ant = 20,max_iter = 50 ,max_idem=20,kfold=5,random_state=None):        \n",
    "        #parameter setting\n",
    "        self.init_pheromone = init_pheromone #initial pheromone on all edges\n",
    "        self.rho = rho #evaporation rate pheromone update\n",
    "        self.num_ant = num_ant #number of ants\n",
    "        self.max_iter = max_iter #max iteration ACO\n",
    "        self.max_idem = max_idem\n",
    "        self.kfold = 5\n",
    "        \n",
    "        #set random seed\n",
    "        if random_state != None:\n",
    "            self.random_state = random_state\n",
    "            random.seed(random_state)\n",
    "    \n",
    "    def set_model(self,X_train, y_train, ovrs_target = 0, n_ovrs_target = 59, model = None, oversampler = None):\n",
    "        #initiate model\n",
    "        self.X_train = X_train.copy().reset_index(drop=True)\n",
    "        self.y_train = y_train.copy().reset_index(drop=True)\n",
    "        self.X_test = X_test.copy().reset_index(drop=True)\n",
    "        self.y_test = y_test.copy().reset_index(drop=True)\n",
    "        \n",
    "        self.ovrs_target = ovrs_target\n",
    "        self.n_ovrs_target = n_ovrs_target\n",
    "        \n",
    "        #set model\n",
    "        if model != None:\n",
    "            self.model = model\n",
    "        else:\n",
    "            self.model = RandomForestClassifier(random_state = self.random_state)\n",
    "        \n",
    "        #set oversampler\n",
    "        if oversampler != None:\n",
    "            self.oversampler = oversampler\n",
    "        else:\n",
    "            self.oversampler = SMOTE(sampling_strategy={target:n_target},\n",
    "                                    random_state=self.random_state,\n",
    "                                    k_neighbors=11,\n",
    "                                    n_jobs=-1)\n",
    "        \n",
    "        #oversampling\n",
    "        self.X_smote,self.y_smote = self.oversampling(self.X_train,self.y_train,target=ovrs_target,n_target=n_ovrs_target)\n",
    "        \n",
    "        #set pheromone matrix\n",
    "        smote_ids = self.X_smote.index.values\n",
    "        self.pheromone_matrix = pd.DataFrame()\n",
    "        self.pheromone_matrix['smote_id'] = smote_ids\n",
    "        self.pheromone_matrix['pheromone'] = self.init_pheromone\n",
    "        self.pheromone_matrix = self.pheromone_matrix.set_index('smote_id')\n",
    "    \n",
    "    def oversampling(self,X_train,y_train,target,n_target):\n",
    "        oversampled = self.oversampler\n",
    "        X_smote, y_smote = oversampled.fit_resample(X_train.reset_index(drop=True), y_train.reset_index(drop=True))\n",
    "\n",
    "        len_real_data = X_train.shape[0]\n",
    "        return (X_smote[len_real_data:], y_smote[len_real_data:])\n",
    "    \n",
    "    def generate_solution(self,probability):\n",
    "        smote_ids = self.X_smote.index.values\n",
    "        \n",
    "        num_minority = self.y_train.value_counts()[self.ovrs_target]\n",
    "        num_majority = self.y_train.value_counts()[np.abs(self.ovrs_target-1)]\n",
    "        num_chosen = int(num_majority-num_minority)\n",
    "        \n",
    "        chosen_ids = random.choices(smote_ids,probability,k=num_chosen)\n",
    "        return chosen_ids\n",
    "    \n",
    "    def pheromone_update(self,pheromone_matrix):\n",
    "        pheromone_matrix['pheromone'] = (1-self.rho*pheromone_matrix['pheromone'])+pheromone_matrix['delta']\n",
    "        self.pheromone_matrix['pheromone'] = pheromone_matrix['pheromone'].values\n",
    "    \n",
    "    def init_delta_to_pheromone_matrix(self,pheromone_matrix):\n",
    "        pheromone_matrix['delta'] = 0\n",
    "        return pheromone_matrix\n",
    "    \n",
    "    def add_delta_to_pheromone_matrix(self,solution,pheromone_matrix,fitness):\n",
    "        ids = copy.deepcopy(solution)\n",
    "        for i in ids:\n",
    "            pheromone_matrix.loc[i,\"delta\"] = pheromone_matrix.loc[i]['delta']+fitness \n",
    "\n",
    "        return pheromone_matrix\n",
    "    \n",
    "    def add_probability_to_pheromone_matrix(self,pheromone_matrix):\n",
    "        sum_pheromone = pheromone_matrix['pheromone'].sum()\n",
    "        pheromone_matrix['probability'] = pheromone_matrix['pheromone']/sum_pheromone\n",
    "        return pheromone_matrix\n",
    "    \n",
    "    def construct_solution(self):\n",
    "        best_y_train = self.y_train.copy()\n",
    "        best_X_train = self.X_train.copy()\n",
    "                \n",
    "        kf = KFold(n_splits=self.kfold,random_state=self.random_state,shuffle=True)\n",
    "        kf.get_n_splits(best_X_train)\n",
    "        fold_results = []\n",
    "        for train_index,test_index in kf.split(best_X_train):\n",
    "            kf_X_train, kf_X_test = best_X_train.loc[train_index], best_X_train.loc[test_index]\n",
    "            kf_y_train, kf_y_test = best_y_train.loc[train_index], best_y_train.loc[test_index]\n",
    "\n",
    "            pipeline = make_pipeline(self.model)\n",
    "            pipeline.fit(kf_X_train,kf_y_train)\n",
    "            best_fitness = f1_score(kf_y_test,pipeline.predict(kf_X_test),pos_label=1)\n",
    "\n",
    "            fold_results.append(best_fitness)\n",
    "\n",
    "        best_fitness = np.mean(fold_results)\n",
    "        \n",
    "        fitness_history = [best_fitness]\n",
    "        \n",
    "        idem_counter = 0\n",
    "        for i in range(self.max_iter): #iteration\n",
    "            best_found_X_train = None\n",
    "            best_found_y_train = None\n",
    "            best_found_fitness = 0\n",
    "            local_pheromone_matrix = self.pheromone_matrix.copy()\n",
    "            local_pheromone_matrix = self.init_delta_to_pheromone_matrix(local_pheromone_matrix)\n",
    "            local_pheromone_matrix = self.add_probability_to_pheromone_matrix(local_pheromone_matrix)\n",
    "            for ant in range(self.num_ant): #step\n",
    "                #initiate solution (population)\n",
    "                chosen_ids = self.generate_solution(local_pheromone_matrix['probability'].values)\n",
    "                chosen_X_smote = self.X_smote.copy().loc[chosen_ids]\n",
    "                chosen_y_smote = self.y_smote.copy().loc[chosen_ids]\n",
    "                \n",
    "                #classification\n",
    "                kf = KFold(n_splits=self.kfold,random_state=self.random_state,shuffle=True)\n",
    "                kf.get_n_splits(self.X_train.copy())\n",
    "                fold_results = []\n",
    "                for train_index,test_index in kf.split(self.X_train.copy()):\n",
    "                    kf_X_train, kf_X_test = self.X_train.copy().loc[train_index], self.X_train.copy().loc[test_index]\n",
    "                    kf_y_train, kf_y_test = self.y_train.copy().loc[train_index], self.y_train.copy().loc[test_index]\n",
    "                    \n",
    "                    kf_new_X_train = pd.concat([kf_X_train.copy(),chosen_X_smote])\n",
    "                    kf_new_y_train = pd.concat([kf_y_train.copy(),chosen_y_smote])\n",
    "\n",
    "                    pipeline = make_pipeline(self.model)\n",
    "                    pipeline.fit(kf_new_X_train,kf_new_y_train)\n",
    "                    fitness = f1_score(kf_y_test,pipeline.predict(kf_X_test),pos_label=1)\n",
    "                    \n",
    "                    fold_results.append(fitness)\n",
    "                \n",
    "                fitness = np.mean(fold_results)\n",
    "                \n",
    "                if fitness > best_found_fitness:\n",
    "                    best_found_fitness = fitness\n",
    "                    \n",
    "                    best_found_X_train = pd.concat([self.X_train.copy(),chosen_X_smote])\n",
    "                    best_found_X_train = best_found_X_train.reset_index(drop=True)\n",
    "                    best_found_y_train = pd.concat([self.y_train.copy(),chosen_y_smote])\n",
    "                    best_found_y_train = best_found_y_train.reset_index(drop=True)\n",
    "                    \n",
    "                \n",
    "                local_pheromone_matrix = self.add_delta_to_pheromone_matrix(chosen_ids,local_pheromone_matrix,fitness)\n",
    "            \n",
    "            #pheromone update\n",
    "            self.pheromone_update(local_pheromone_matrix)\n",
    "            \n",
    "            fitness_history.append(best_found_fitness)\n",
    "                        \n",
    "            #checking best vs best found\n",
    "            if best_found_fitness > best_fitness:\n",
    "                best_fitness = best_found_fitness\n",
    "                best_X_train = best_found_X_train.copy()\n",
    "                best_y_train = best_found_y_train.copy()\n",
    "                idem_counter = 0\n",
    "            else:\n",
    "                idem_counter += 1\n",
    "                if idem_counter > self.max_idem:\n",
    "                    return best_X_train,best_y_train,best_fitness,fitness_history\n",
    "        \n",
    "        return best_X_train,best_y_train,best_fitness,fitness_history"
   ]
  },
  {
   "cell_type": "code",
   "execution_count": 32,
   "id": "29c7eaa6",
   "metadata": {},
   "outputs": [
    {
     "name": "stdout",
     "output_type": "stream",
     "text": [
      "[0.4761904761904762, 0.64, 0.6666666666666665, 0.6956521739130435, 0.8275862068965517]\n",
      "[0.5217391304347826, 0.6923076923076923, 0.6153846153846153, 0.6666666666666666, 0.8000000000000002]\n",
      "[0.5454545454545454, 0.6153846153846154, 0.7407407407407408, 0.6666666666666666, 0.896551724137931]\n",
      "[0.4, 0.6666666666666666, 0.56, 0.75, 0.896551724137931]\n",
      "[0.5454545454545454, 0.6666666666666666, 0.7200000000000001, 0.75, 0.8571428571428571]\n",
      "[0.45454545454545453, 0.64, 0.6153846153846153, 0.6956521739130435, 0.8275862068965517]\n",
      "[0.4, 0.6666666666666666, 0.5833333333333334, 0.7199999999999999, 0.8000000000000002]\n",
      "[0.380952380952381, 0.6666666666666666, 0.6923076923076923, 0.6666666666666666, 0.8275862068965517]\n",
      "[0.45454545454545453, 0.6666666666666666, 0.6923076923076923, 0.7199999999999999, 0.896551724137931]\n",
      "[0.45454545454545453, 0.5925925925925927, 0.64, 0.6666666666666666, 0.8000000000000002]\n",
      "[0.4761904761904762, 0.64, 0.6666666666666665, 0.6666666666666666, 0.8387096774193548]\n",
      "[0.2222222222222222, 0.6666666666666666, 0.6666666666666667, 0.6086956521739131, 0.8571428571428571]\n",
      "[0.4, 0.6666666666666666, 0.5833333333333334, 0.6086956521739131, 0.8275862068965517]\n",
      "[0.4, 0.6666666666666666, 0.5833333333333334, 0.6956521739130435, 0.8387096774193548]\n",
      "[0.45454545454545453, 0.64, 0.6666666666666665, 0.7199999999999999, 0.8571428571428571]\n",
      "[0.380952380952381, 0.6666666666666666, 0.6666666666666665, 0.6666666666666666, 0.8571428571428571]\n",
      "[0.3, 0.6666666666666666, 0.6923076923076923, 0.6666666666666666, 0.8666666666666666]\n",
      "[0.3, 0.6666666666666667, 0.6153846153846153, 0.7692307692307692, 0.8387096774193548]\n",
      "[0.3, 0.64, 0.56, 0.75, 0.8387096774193548]\n",
      "[0.3, 0.5833333333333334, 0.6666666666666667, 0.7199999999999999, 0.8571428571428571]\n",
      "0    917\n",
      "1    917\n",
      "Name: label, dtype: int64\n"
     ]
    }
   ],
   "source": [
    "smote_aco = SMOTE_ACO_2(random_state=random_state,max_iter=1)\n",
    "smote_aco.set_model(X_train, y_train,ovrs_target=1,n_ovrs_target=2000,\n",
    "                    model = RandomForestClassifier(n_estimators=200,random_state = random_state),\n",
    "                    oversampler =SMOTE(sampling_strategy={1:2000},\n",
    "                                    random_state=random_state,\n",
    "                                    k_neighbors=11,\n",
    "                                    n_jobs=-1) )\n",
    "\n",
    "new_X_train,new_y_train,fitness,fitness_history = smote_aco.construct_solution()"
   ]
  },
  {
   "cell_type": "code",
   "execution_count": 33,
   "id": "974cd01a",
   "metadata": {},
   "outputs": [
    {
     "data": {
      "text/plain": [
       "0    917\n",
       "1    917\n",
       "Name: label, dtype: int64"
      ]
     },
     "execution_count": 33,
     "metadata": {},
     "output_type": "execute_result"
    }
   ],
   "source": [
    "new_y_train.value_counts()"
   ]
  },
  {
   "cell_type": "code",
   "execution_count": 34,
   "id": "49744301",
   "metadata": {},
   "outputs": [
    {
     "name": "stdout",
     "output_type": "stream",
     "text": [
      "f1 =  0.34782608695652173\n",
      "gm =  0.49716175568999144\n",
      "bas =  0.6193396226415094\n"
     ]
    }
   ],
   "source": [
    "pipeline_smote_aco = make_pipeline(RandomForestClassifier(n_estimators=200,random_state = random_state))\n",
    "    \n",
    "pipeline_smote_aco.fit(new_X_train,new_y_train)\n",
    "\n",
    "# print(\"n = \",n)\n",
    "print(\"f1 = \", f1_score(y_test, pipeline_smote_aco.predict(X_test)))\n",
    "print(\"gm = \", geometric_mean_score(y_test, pipeline_smote_aco.predict(X_test)))\n",
    "print(\"bas = \", balanced_accuracy_score(y_test, pipeline_smote_aco.predict(X_test)))"
   ]
  },
  {
   "cell_type": "code",
   "execution_count": 25,
   "id": "db738fb1",
   "metadata": {},
   "outputs": [
    {
     "data": {
      "text/plain": [
       "0.9757667674273559"
      ]
     },
     "execution_count": 25,
     "metadata": {},
     "output_type": "execute_result"
    }
   ],
   "source": [
    "fitness"
   ]
  },
  {
   "cell_type": "code",
   "execution_count": 26,
   "id": "72eab45e",
   "metadata": {},
   "outputs": [
    {
     "data": {
      "text/plain": [
       "[0.30392156862745096, 0.9757667674273559]"
      ]
     },
     "execution_count": 26,
     "metadata": {},
     "output_type": "execute_result"
    }
   ],
   "source": [
    "fitness_history"
   ]
  },
  {
   "cell_type": "code",
   "execution_count": null,
   "id": "5c0e1f79",
   "metadata": {},
   "outputs": [],
   "source": []
  }
 ],
 "metadata": {
  "kernelspec": {
   "display_name": "Python 3 (ipykernel)",
   "language": "python",
   "name": "python3"
  },
  "language_info": {
   "codemirror_mode": {
    "name": "ipython",
    "version": 3
   },
   "file_extension": ".py",
   "mimetype": "text/x-python",
   "name": "python",
   "nbconvert_exporter": "python",
   "pygments_lexer": "ipython3",
   "version": "3.11.3"
  }
 },
 "nbformat": 4,
 "nbformat_minor": 5
}
