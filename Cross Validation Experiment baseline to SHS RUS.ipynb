{
 "cells": [
  {
   "cell_type": "code",
   "execution_count": 2,
   "id": "c289f5eb",
   "metadata": {},
   "outputs": [],
   "source": [
    "import random\n",
    "import math\n",
    "import copy\n",
    "import time\n",
    "import json\n",
    "import datetime\n",
    "import numpy as np\n",
    "import pandas as pd\n",
    "\n",
    "from sklearn.preprocessing import StandardScaler\n",
    "from sklearn.ensemble import RandomForestClassifier, GradientBoostingClassifier\n",
    "from sklearn.svm import SVC\n",
    "from sklearn.linear_model import LogisticRegression\n",
    "from sklearn.pipeline import make_pipeline\n",
    "\n",
    "from sklearn.model_selection import KFold, train_test_split\n",
    "from sklearn.metrics import f1_score,balanced_accuracy_score, confusion_matrix\n",
    "\n",
    "from imblearn.over_sampling import SMOTE,RandomOverSampler,ADASYN\n",
    "from imblearn.under_sampling import RandomUnderSampler,RepeatedEditedNearestNeighbours,AllKNN,CondensedNearestNeighbour,EditedNearestNeighbours,TomekLinks\n",
    "from imblearn.combine import SMOTEENN,SMOTETomek\n",
    "from imblearn.pipeline import make_pipeline as pipe_imblearn\n",
    "from imblearn.metrics import geometric_mean_score\n",
    "\n",
    "from oversampling_aco import OVRS_ACO\n",
    "\n",
    "import warnings\n",
    "warnings.filterwarnings('ignore')"
   ]
  },
  {
   "cell_type": "code",
   "execution_count": null,
   "id": "35c51b38-e787-4767-87b3-48b0774fbc51",
   "metadata": {},
   "outputs": [],
   "source": []
  },
  {
   "cell_type": "code",
   "execution_count": null,
   "id": "53f401be-aa4a-4c5a-8a9b-804debf30664",
   "metadata": {},
   "outputs": [],
   "source": []
  },
  {
   "cell_type": "markdown",
   "id": "ea35b53a",
   "metadata": {},
   "source": [
    "# Dataset"
   ]
  },
  {
   "cell_type": "code",
   "execution_count": 3,
   "id": "81f9df41",
   "metadata": {},
   "outputs": [],
   "source": [
    "df = pd.read_csv(\"data/NR_AB.csv\").drop('Unnamed: 0',axis=1)"
   ]
  },
  {
   "cell_type": "code",
   "execution_count": 4,
   "id": "8e14005b",
   "metadata": {},
   "outputs": [],
   "source": [
    "X = df.drop(['label','drug_no','protein_no'],axis=1)\n",
    "y = df['label']"
   ]
  },
  {
   "cell_type": "code",
   "execution_count": 5,
   "id": "4325d4ca",
   "metadata": {},
   "outputs": [
    {
     "data": {
      "text/html": [
       "<div>\n",
       "<style scoped>\n",
       "    .dataframe tbody tr th:only-of-type {\n",
       "        vertical-align: middle;\n",
       "    }\n",
       "\n",
       "    .dataframe tbody tr th {\n",
       "        vertical-align: top;\n",
       "    }\n",
       "\n",
       "    .dataframe thead th {\n",
       "        text-align: right;\n",
       "    }\n",
       "</style>\n",
       "<table border=\"1\" class=\"dataframe\">\n",
       "  <thead>\n",
       "    <tr style=\"text-align: right;\">\n",
       "      <th></th>\n",
       "      <th>fp2_0</th>\n",
       "      <th>fp2_1</th>\n",
       "      <th>fp2_2</th>\n",
       "      <th>fp2_3</th>\n",
       "      <th>fp2_4</th>\n",
       "      <th>fp2_5</th>\n",
       "      <th>fp2_6</th>\n",
       "      <th>fp2_7</th>\n",
       "      <th>fp2_8</th>\n",
       "      <th>fp2_9</th>\n",
       "      <th>...</th>\n",
       "      <th>DPC_390</th>\n",
       "      <th>DPC_391</th>\n",
       "      <th>DPC_392</th>\n",
       "      <th>DPC_393</th>\n",
       "      <th>DPC_394</th>\n",
       "      <th>DPC_395</th>\n",
       "      <th>DPC_396</th>\n",
       "      <th>DPC_397</th>\n",
       "      <th>DPC_398</th>\n",
       "      <th>DPC_399</th>\n",
       "    </tr>\n",
       "  </thead>\n",
       "  <tbody>\n",
       "    <tr>\n",
       "      <th>0</th>\n",
       "      <td>0.0</td>\n",
       "      <td>0.0</td>\n",
       "      <td>0.0</td>\n",
       "      <td>0.0</td>\n",
       "      <td>0.0</td>\n",
       "      <td>0.0</td>\n",
       "      <td>0.0</td>\n",
       "      <td>0.0</td>\n",
       "      <td>0.0</td>\n",
       "      <td>0.0</td>\n",
       "      <td>...</td>\n",
       "      <td>0.000000</td>\n",
       "      <td>0.487207</td>\n",
       "      <td>0.000000</td>\n",
       "      <td>0.0</td>\n",
       "      <td>1.000000</td>\n",
       "      <td>0.517058</td>\n",
       "      <td>0.000000</td>\n",
       "      <td>0.000000</td>\n",
       "      <td>0.0</td>\n",
       "      <td>0.0</td>\n",
       "    </tr>\n",
       "    <tr>\n",
       "      <th>1</th>\n",
       "      <td>0.0</td>\n",
       "      <td>0.0</td>\n",
       "      <td>0.0</td>\n",
       "      <td>0.0</td>\n",
       "      <td>0.0</td>\n",
       "      <td>0.0</td>\n",
       "      <td>0.0</td>\n",
       "      <td>0.0</td>\n",
       "      <td>0.0</td>\n",
       "      <td>0.0</td>\n",
       "      <td>...</td>\n",
       "      <td>0.364478</td>\n",
       "      <td>0.384680</td>\n",
       "      <td>0.382155</td>\n",
       "      <td>0.0</td>\n",
       "      <td>0.263187</td>\n",
       "      <td>0.408249</td>\n",
       "      <td>0.388047</td>\n",
       "      <td>0.000000</td>\n",
       "      <td>0.0</td>\n",
       "      <td>1.0</td>\n",
       "    </tr>\n",
       "    <tr>\n",
       "      <th>2</th>\n",
       "      <td>0.0</td>\n",
       "      <td>0.0</td>\n",
       "      <td>0.0</td>\n",
       "      <td>0.0</td>\n",
       "      <td>0.0</td>\n",
       "      <td>0.0</td>\n",
       "      <td>0.0</td>\n",
       "      <td>0.0</td>\n",
       "      <td>0.0</td>\n",
       "      <td>0.0</td>\n",
       "      <td>...</td>\n",
       "      <td>0.000000</td>\n",
       "      <td>0.431947</td>\n",
       "      <td>0.858223</td>\n",
       "      <td>0.0</td>\n",
       "      <td>0.295526</td>\n",
       "      <td>0.458412</td>\n",
       "      <td>0.000000</td>\n",
       "      <td>0.663516</td>\n",
       "      <td>0.0</td>\n",
       "      <td>0.0</td>\n",
       "    </tr>\n",
       "    <tr>\n",
       "      <th>3</th>\n",
       "      <td>0.0</td>\n",
       "      <td>0.0</td>\n",
       "      <td>0.0</td>\n",
       "      <td>0.0</td>\n",
       "      <td>0.0</td>\n",
       "      <td>0.0</td>\n",
       "      <td>0.0</td>\n",
       "      <td>0.0</td>\n",
       "      <td>0.0</td>\n",
       "      <td>0.0</td>\n",
       "      <td>...</td>\n",
       "      <td>0.000000</td>\n",
       "      <td>0.000000</td>\n",
       "      <td>0.000000</td>\n",
       "      <td>0.0</td>\n",
       "      <td>0.000000</td>\n",
       "      <td>0.287322</td>\n",
       "      <td>0.000000</td>\n",
       "      <td>0.831754</td>\n",
       "      <td>0.0</td>\n",
       "      <td>0.0</td>\n",
       "    </tr>\n",
       "    <tr>\n",
       "      <th>4</th>\n",
       "      <td>0.0</td>\n",
       "      <td>0.0</td>\n",
       "      <td>0.0</td>\n",
       "      <td>0.0</td>\n",
       "      <td>0.0</td>\n",
       "      <td>0.0</td>\n",
       "      <td>0.0</td>\n",
       "      <td>0.0</td>\n",
       "      <td>0.0</td>\n",
       "      <td>0.0</td>\n",
       "      <td>...</td>\n",
       "      <td>0.427022</td>\n",
       "      <td>0.000000</td>\n",
       "      <td>0.000000</td>\n",
       "      <td>0.0</td>\n",
       "      <td>0.616700</td>\n",
       "      <td>0.478304</td>\n",
       "      <td>0.000000</td>\n",
       "      <td>0.000000</td>\n",
       "      <td>0.0</td>\n",
       "      <td>0.0</td>\n",
       "    </tr>\n",
       "  </tbody>\n",
       "</table>\n",
       "<p>5 rows × 676 columns</p>\n",
       "</div>"
      ],
      "text/plain": [
       "   fp2_0  fp2_1  fp2_2  fp2_3  fp2_4  fp2_5  fp2_6  fp2_7  fp2_8  fp2_9  ...  \\\n",
       "0    0.0    0.0    0.0    0.0    0.0    0.0    0.0    0.0    0.0    0.0  ...   \n",
       "1    0.0    0.0    0.0    0.0    0.0    0.0    0.0    0.0    0.0    0.0  ...   \n",
       "2    0.0    0.0    0.0    0.0    0.0    0.0    0.0    0.0    0.0    0.0  ...   \n",
       "3    0.0    0.0    0.0    0.0    0.0    0.0    0.0    0.0    0.0    0.0  ...   \n",
       "4    0.0    0.0    0.0    0.0    0.0    0.0    0.0    0.0    0.0    0.0  ...   \n",
       "\n",
       "    DPC_390   DPC_391   DPC_392  DPC_393   DPC_394   DPC_395   DPC_396  \\\n",
       "0  0.000000  0.487207  0.000000      0.0  1.000000  0.517058  0.000000   \n",
       "1  0.364478  0.384680  0.382155      0.0  0.263187  0.408249  0.388047   \n",
       "2  0.000000  0.431947  0.858223      0.0  0.295526  0.458412  0.000000   \n",
       "3  0.000000  0.000000  0.000000      0.0  0.000000  0.287322  0.000000   \n",
       "4  0.427022  0.000000  0.000000      0.0  0.616700  0.478304  0.000000   \n",
       "\n",
       "    DPC_397  DPC_398  DPC_399  \n",
       "0  0.000000      0.0      0.0  \n",
       "1  0.000000      0.0      1.0  \n",
       "2  0.663516      0.0      0.0  \n",
       "3  0.831754      0.0      0.0  \n",
       "4  0.000000      0.0      0.0  \n",
       "\n",
       "[5 rows x 676 columns]"
      ]
     },
     "execution_count": 5,
     "metadata": {},
     "output_type": "execute_result"
    }
   ],
   "source": [
    "X.head()"
   ]
  },
  {
   "cell_type": "markdown",
   "id": "a04d9263",
   "metadata": {},
   "source": [
    "# Train Test Split"
   ]
  },
  {
   "cell_type": "code",
   "execution_count": 6,
   "id": "774a06b7",
   "metadata": {},
   "outputs": [],
   "source": [
    "random_state = 42"
   ]
  },
  {
   "cell_type": "code",
   "execution_count": 7,
   "id": "5d4b92d6",
   "metadata": {},
   "outputs": [],
   "source": [
    "X_train, X_test, y_train, y_test = train_test_split(X, y, test_size=0.3,random_state = random_state)"
   ]
  },
  {
   "cell_type": "markdown",
   "id": "3b7759ff",
   "metadata": {},
   "source": [
    "# Experimentation\n",
    "\n",
    "The experiments conducted here are as follows:\n",
    "- baseline (compare several classifier)\n",
    "- oversampling with standard oversampling (compare several oversampling method)\n",
    "- oversampling with smote until the minority class become majority\n",
    "- oversampling with smote aco\n",
    "- smote aco tuning\n",
    "\n",
    "All experiments are evaluated using cross validation with F1-score\n",
    "\n",
    "lets go!"
   ]
  },
  {
   "cell_type": "code",
   "execution_count": 8,
   "id": "bdd4b9e3",
   "metadata": {},
   "outputs": [],
   "source": [
    "n_ovrs_target = [1000,1500,2000]\n",
    "ovrs_target = 1"
   ]
  },
  {
   "cell_type": "code",
   "execution_count": 9,
   "id": "a7cf4959",
   "metadata": {},
   "outputs": [],
   "source": [
    "model_rf = RandomForestClassifier(random_state = random_state)\n",
    "model_svm = SVC(random_state=random_state)\n",
    "model_gb = GradientBoostingClassifier(random_state = random_state)\n",
    "model_lr = LogisticRegression(random_state=random_state)\n",
    "\n",
    "pipeline_rf = make_pipeline(model_rf)\n",
    "pipeline_svm = make_pipeline(model_svm)\n",
    "pipeline_gb = make_pipeline(model_gb)\n",
    "pipeline_lr = make_pipeline(model_lr)\n",
    "\n",
    "smote = SMOTE(random_state=random_state,k_neighbors=11, n_jobs=-1)\n",
    "ro = RandomOverSampler(random_state=random_state)\n",
    "adasyn = ADASYN(random_state=random_state, n_jobs=-1)"
   ]
  },
  {
   "cell_type": "markdown",
   "id": "748f1770",
   "metadata": {},
   "source": [
    "## Baseline"
   ]
  },
  {
   "cell_type": "code",
   "execution_count": 9,
   "id": "603abd9f",
   "metadata": {},
   "outputs": [
    {
     "data": {
      "text/html": [
       "<style>#sk-container-id-1 {color: black;}#sk-container-id-1 pre{padding: 0;}#sk-container-id-1 div.sk-toggleable {background-color: white;}#sk-container-id-1 label.sk-toggleable__label {cursor: pointer;display: block;width: 100%;margin-bottom: 0;padding: 0.3em;box-sizing: border-box;text-align: center;}#sk-container-id-1 label.sk-toggleable__label-arrow:before {content: \"▸\";float: left;margin-right: 0.25em;color: #696969;}#sk-container-id-1 label.sk-toggleable__label-arrow:hover:before {color: black;}#sk-container-id-1 div.sk-estimator:hover label.sk-toggleable__label-arrow:before {color: black;}#sk-container-id-1 div.sk-toggleable__content {max-height: 0;max-width: 0;overflow: hidden;text-align: left;background-color: #f0f8ff;}#sk-container-id-1 div.sk-toggleable__content pre {margin: 0.2em;color: black;border-radius: 0.25em;background-color: #f0f8ff;}#sk-container-id-1 input.sk-toggleable__control:checked~div.sk-toggleable__content {max-height: 200px;max-width: 100%;overflow: auto;}#sk-container-id-1 input.sk-toggleable__control:checked~label.sk-toggleable__label-arrow:before {content: \"▾\";}#sk-container-id-1 div.sk-estimator input.sk-toggleable__control:checked~label.sk-toggleable__label {background-color: #d4ebff;}#sk-container-id-1 div.sk-label input.sk-toggleable__control:checked~label.sk-toggleable__label {background-color: #d4ebff;}#sk-container-id-1 input.sk-hidden--visually {border: 0;clip: rect(1px 1px 1px 1px);clip: rect(1px, 1px, 1px, 1px);height: 1px;margin: -1px;overflow: hidden;padding: 0;position: absolute;width: 1px;}#sk-container-id-1 div.sk-estimator {font-family: monospace;background-color: #f0f8ff;border: 1px dotted black;border-radius: 0.25em;box-sizing: border-box;margin-bottom: 0.5em;}#sk-container-id-1 div.sk-estimator:hover {background-color: #d4ebff;}#sk-container-id-1 div.sk-parallel-item::after {content: \"\";width: 100%;border-bottom: 1px solid gray;flex-grow: 1;}#sk-container-id-1 div.sk-label:hover label.sk-toggleable__label {background-color: #d4ebff;}#sk-container-id-1 div.sk-serial::before {content: \"\";position: absolute;border-left: 1px solid gray;box-sizing: border-box;top: 0;bottom: 0;left: 50%;z-index: 0;}#sk-container-id-1 div.sk-serial {display: flex;flex-direction: column;align-items: center;background-color: white;padding-right: 0.2em;padding-left: 0.2em;position: relative;}#sk-container-id-1 div.sk-item {position: relative;z-index: 1;}#sk-container-id-1 div.sk-parallel {display: flex;align-items: stretch;justify-content: center;background-color: white;position: relative;}#sk-container-id-1 div.sk-item::before, #sk-container-id-1 div.sk-parallel-item::before {content: \"\";position: absolute;border-left: 1px solid gray;box-sizing: border-box;top: 0;bottom: 0;left: 50%;z-index: -1;}#sk-container-id-1 div.sk-parallel-item {display: flex;flex-direction: column;z-index: 1;position: relative;background-color: white;}#sk-container-id-1 div.sk-parallel-item:first-child::after {align-self: flex-end;width: 50%;}#sk-container-id-1 div.sk-parallel-item:last-child::after {align-self: flex-start;width: 50%;}#sk-container-id-1 div.sk-parallel-item:only-child::after {width: 0;}#sk-container-id-1 div.sk-dashed-wrapped {border: 1px dashed gray;margin: 0 0.4em 0.5em 0.4em;box-sizing: border-box;padding-bottom: 0.4em;background-color: white;}#sk-container-id-1 div.sk-label label {font-family: monospace;font-weight: bold;display: inline-block;line-height: 1.2em;}#sk-container-id-1 div.sk-label-container {text-align: center;}#sk-container-id-1 div.sk-container {/* jupyter's `normalize.less` sets `[hidden] { display: none; }` but bootstrap.min.css set `[hidden] { display: none !important; }` so we also need the `!important` here to be able to override the default hidden behavior on the sphinx rendered scikit-learn.org. See: https://github.com/scikit-learn/scikit-learn/issues/21755 */display: inline-block !important;position: relative;}#sk-container-id-1 div.sk-text-repr-fallback {display: none;}</style><div id=\"sk-container-id-1\" class=\"sk-top-container\"><div class=\"sk-text-repr-fallback\"><pre>Pipeline(steps=[(&#x27;logisticregression&#x27;, LogisticRegression(random_state=42))])</pre><b>In a Jupyter environment, please rerun this cell to show the HTML representation or trust the notebook. <br />On GitHub, the HTML representation is unable to render, please try loading this page with nbviewer.org.</b></div><div class=\"sk-container\" hidden><div class=\"sk-item sk-dashed-wrapped\"><div class=\"sk-label-container\"><div class=\"sk-label sk-toggleable\"><input class=\"sk-toggleable__control sk-hidden--visually\" id=\"sk-estimator-id-1\" type=\"checkbox\" ><label for=\"sk-estimator-id-1\" class=\"sk-toggleable__label sk-toggleable__label-arrow\">Pipeline</label><div class=\"sk-toggleable__content\"><pre>Pipeline(steps=[(&#x27;logisticregression&#x27;, LogisticRegression(random_state=42))])</pre></div></div></div><div class=\"sk-serial\"><div class=\"sk-item\"><div class=\"sk-estimator sk-toggleable\"><input class=\"sk-toggleable__control sk-hidden--visually\" id=\"sk-estimator-id-2\" type=\"checkbox\" ><label for=\"sk-estimator-id-2\" class=\"sk-toggleable__label sk-toggleable__label-arrow\">LogisticRegression</label><div class=\"sk-toggleable__content\"><pre>LogisticRegression(random_state=42)</pre></div></div></div></div></div></div></div>"
      ],
      "text/plain": [
       "Pipeline(steps=[('logisticregression', LogisticRegression(random_state=42))])"
      ]
     },
     "execution_count": 9,
     "metadata": {},
     "output_type": "execute_result"
    }
   ],
   "source": [
    "pipeline_rf.fit(X_train,y_train)\n",
    "pipeline_svm.fit(X_train,y_train)\n",
    "pipeline_gb.fit(X_train,y_train)\n",
    "pipeline_lr.fit(X_train,y_train)"
   ]
  },
  {
   "cell_type": "code",
   "execution_count": 11,
   "id": "490f106b",
   "metadata": {},
   "outputs": [
    {
     "name": "stdout",
     "output_type": "stream",
     "text": [
      "rf\n",
      "f1 =  0.29411764705882354\n",
      "gm =  0.4627334677513418\n",
      "bas =  0.6011768551814318\n",
      "confusion matrix =  [[393   6]\n",
      " [ 18   5]]\n",
      "\n",
      "svm\n",
      "f1 =  0.0\n",
      "gm =  0.0\n",
      "bas =  0.5\n",
      "confusion matrix =  [[399   0]\n",
      " [ 23   0]]\n",
      "\n",
      "gb\n",
      "f1 =  0.30303030303030304\n",
      "gm =  0.46332181314822213\n",
      "bas =  0.602429988013512\n",
      "confusion matrix =  [[394   5]\n",
      " [ 18   5]]\n",
      "\n",
      "lr\n",
      "f1 =  0.0\n",
      "gm =  0.0\n",
      "bas =  0.49122807017543857\n",
      "confusion matrix =  [[392   7]\n",
      " [ 23   0]]\n"
     ]
    }
   ],
   "source": [
    "print(\"rf\")\n",
    "print(\"f1 = \", f1_score(y_test, pipeline_rf.predict(X_test)))\n",
    "print(\"gm = \", geometric_mean_score(y_test, pipeline_rf.predict(X_test)))\n",
    "print(\"bas = \", balanced_accuracy_score(y_test, pipeline_rf.predict(X_test)))\n",
    "print(\"confusion matrix = \", confusion_matrix(y_test, pipeline_rf.predict(X_test)))\n",
    "\n",
    "print(\"\")\n",
    "\n",
    "print(\"svm\")\n",
    "print(\"f1 = \", f1_score(y_test, pipeline_svm.predict(X_test)))\n",
    "print(\"gm = \", geometric_mean_score(y_test, pipeline_svm.predict(X_test)))\n",
    "print(\"bas = \", balanced_accuracy_score(y_test, pipeline_svm.predict(X_test)))\n",
    "print(\"confusion matrix = \", confusion_matrix(y_test, pipeline_svm.predict(X_test)))\n",
    "\n",
    "print(\"\")\n",
    "\n",
    "print(\"gb\")\n",
    "print(\"f1 = \", f1_score(y_test, pipeline_gb.predict(X_test)))\n",
    "print(\"gm = \", geometric_mean_score(y_test, pipeline_gb.predict(X_test)))\n",
    "print(\"bas = \", balanced_accuracy_score(y_test, pipeline_gb.predict(X_test)))\n",
    "print(\"confusion matrix = \", confusion_matrix(y_test, pipeline_gb.predict(X_test)))\n",
    "\n",
    "print(\"\")\n",
    "\n",
    "print(\"lr\")\n",
    "print(\"f1 = \", f1_score(y_test, pipeline_lr.predict(X_test)))\n",
    "print(\"gm = \", geometric_mean_score(y_test, pipeline_lr.predict(X_test)))\n",
    "print(\"bas = \", balanced_accuracy_score(y_test, pipeline_lr.predict(X_test)))\n",
    "print(\"confusion matrix = \", confusion_matrix(y_test, pipeline_lr.predict(X_test)))"
   ]
  },
  {
   "cell_type": "markdown",
   "id": "cdf88f77",
   "metadata": {},
   "source": [
    "### Proceed to oversampling experiment with best baseline classifier"
   ]
  },
  {
   "cell_type": "code",
   "execution_count": 11,
   "id": "0b4c7eb3",
   "metadata": {},
   "outputs": [],
   "source": [
    "pipeline_smote = pipe_imblearn(smote,SVC(random_state=random_state))\n",
    "pipeline_ro = pipe_imblearn(ro,SVC(random_state=random_state))\n",
    "pipeline_adasyn = pipe_imblearn(adasyn,SVC(random_state=random_state))\n",
    "\n",
    "#component inside pipeline will also be fitted, so careful when you use variabel for the model"
   ]
  },
  {
   "cell_type": "markdown",
   "id": "879f1e50",
   "metadata": {
    "jp-MarkdownHeadingCollapsed": true
   },
   "source": [
    "## standard Oversampling"
   ]
  },
  {
   "cell_type": "code",
   "execution_count": 46,
   "id": "839dfbd7",
   "metadata": {},
   "outputs": [
    {
     "data": {
      "text/html": [
       "<style>#sk-container-id-11 {color: black;background-color: white;}#sk-container-id-11 pre{padding: 0;}#sk-container-id-11 div.sk-toggleable {background-color: white;}#sk-container-id-11 label.sk-toggleable__label {cursor: pointer;display: block;width: 100%;margin-bottom: 0;padding: 0.3em;box-sizing: border-box;text-align: center;}#sk-container-id-11 label.sk-toggleable__label-arrow:before {content: \"▸\";float: left;margin-right: 0.25em;color: #696969;}#sk-container-id-11 label.sk-toggleable__label-arrow:hover:before {color: black;}#sk-container-id-11 div.sk-estimator:hover label.sk-toggleable__label-arrow:before {color: black;}#sk-container-id-11 div.sk-toggleable__content {max-height: 0;max-width: 0;overflow: hidden;text-align: left;background-color: #f0f8ff;}#sk-container-id-11 div.sk-toggleable__content pre {margin: 0.2em;color: black;border-radius: 0.25em;background-color: #f0f8ff;}#sk-container-id-11 input.sk-toggleable__control:checked~div.sk-toggleable__content {max-height: 200px;max-width: 100%;overflow: auto;}#sk-container-id-11 input.sk-toggleable__control:checked~label.sk-toggleable__label-arrow:before {content: \"▾\";}#sk-container-id-11 div.sk-estimator input.sk-toggleable__control:checked~label.sk-toggleable__label {background-color: #d4ebff;}#sk-container-id-11 div.sk-label input.sk-toggleable__control:checked~label.sk-toggleable__label {background-color: #d4ebff;}#sk-container-id-11 input.sk-hidden--visually {border: 0;clip: rect(1px 1px 1px 1px);clip: rect(1px, 1px, 1px, 1px);height: 1px;margin: -1px;overflow: hidden;padding: 0;position: absolute;width: 1px;}#sk-container-id-11 div.sk-estimator {font-family: monospace;background-color: #f0f8ff;border: 1px dotted black;border-radius: 0.25em;box-sizing: border-box;margin-bottom: 0.5em;}#sk-container-id-11 div.sk-estimator:hover {background-color: #d4ebff;}#sk-container-id-11 div.sk-parallel-item::after {content: \"\";width: 100%;border-bottom: 1px solid gray;flex-grow: 1;}#sk-container-id-11 div.sk-label:hover label.sk-toggleable__label {background-color: #d4ebff;}#sk-container-id-11 div.sk-serial::before {content: \"\";position: absolute;border-left: 1px solid gray;box-sizing: border-box;top: 0;bottom: 0;left: 50%;z-index: 0;}#sk-container-id-11 div.sk-serial {display: flex;flex-direction: column;align-items: center;background-color: white;padding-right: 0.2em;padding-left: 0.2em;position: relative;}#sk-container-id-11 div.sk-item {position: relative;z-index: 1;}#sk-container-id-11 div.sk-parallel {display: flex;align-items: stretch;justify-content: center;background-color: white;position: relative;}#sk-container-id-11 div.sk-item::before, #sk-container-id-11 div.sk-parallel-item::before {content: \"\";position: absolute;border-left: 1px solid gray;box-sizing: border-box;top: 0;bottom: 0;left: 50%;z-index: -1;}#sk-container-id-11 div.sk-parallel-item {display: flex;flex-direction: column;z-index: 1;position: relative;background-color: white;}#sk-container-id-11 div.sk-parallel-item:first-child::after {align-self: flex-end;width: 50%;}#sk-container-id-11 div.sk-parallel-item:last-child::after {align-self: flex-start;width: 50%;}#sk-container-id-11 div.sk-parallel-item:only-child::after {width: 0;}#sk-container-id-11 div.sk-dashed-wrapped {border: 1px dashed gray;margin: 0 0.4em 0.5em 0.4em;box-sizing: border-box;padding-bottom: 0.4em;background-color: white;}#sk-container-id-11 div.sk-label label {font-family: monospace;font-weight: bold;display: inline-block;line-height: 1.2em;}#sk-container-id-11 div.sk-label-container {text-align: center;}#sk-container-id-11 div.sk-container {/* jupyter's `normalize.less` sets `[hidden] { display: none; }` but bootstrap.min.css set `[hidden] { display: none !important; }` so we also need the `!important` here to be able to override the default hidden behavior on the sphinx rendered scikit-learn.org. See: https://github.com/scikit-learn/scikit-learn/issues/21755 */display: inline-block !important;position: relative;}#sk-container-id-11 div.sk-text-repr-fallback {display: none;}</style><div id=\"sk-container-id-11\" class=\"sk-top-container\"><div class=\"sk-text-repr-fallback\"><pre>Pipeline(steps=[(&#x27;adasyn&#x27;, ADASYN(n_jobs=-1, random_state=42)),\n",
       "                (&#x27;gradientboostingclassifier&#x27;,\n",
       "                 GradientBoostingClassifier(random_state=42))])</pre><b>In a Jupyter environment, please rerun this cell to show the HTML representation or trust the notebook. <br />On GitHub, the HTML representation is unable to render, please try loading this page with nbviewer.org.</b></div><div class=\"sk-container\" hidden><div class=\"sk-item sk-dashed-wrapped\"><div class=\"sk-label-container\"><div class=\"sk-label sk-toggleable\"><input class=\"sk-toggleable__control sk-hidden--visually\" id=\"sk-estimator-id-26\" type=\"checkbox\" ><label for=\"sk-estimator-id-26\" class=\"sk-toggleable__label sk-toggleable__label-arrow\">Pipeline</label><div class=\"sk-toggleable__content\"><pre>Pipeline(steps=[(&#x27;adasyn&#x27;, ADASYN(n_jobs=-1, random_state=42)),\n",
       "                (&#x27;gradientboostingclassifier&#x27;,\n",
       "                 GradientBoostingClassifier(random_state=42))])</pre></div></div></div><div class=\"sk-serial\"><div class=\"sk-item\"><div class=\"sk-estimator sk-toggleable\"><input class=\"sk-toggleable__control sk-hidden--visually\" id=\"sk-estimator-id-27\" type=\"checkbox\" ><label for=\"sk-estimator-id-27\" class=\"sk-toggleable__label sk-toggleable__label-arrow\">ADASYN</label><div class=\"sk-toggleable__content\"><pre>ADASYN(n_jobs=-1, random_state=42)</pre></div></div></div><div class=\"sk-item\"><div class=\"sk-estimator sk-toggleable\"><input class=\"sk-toggleable__control sk-hidden--visually\" id=\"sk-estimator-id-28\" type=\"checkbox\" ><label for=\"sk-estimator-id-28\" class=\"sk-toggleable__label sk-toggleable__label-arrow\">GradientBoostingClassifier</label><div class=\"sk-toggleable__content\"><pre>GradientBoostingClassifier(random_state=42)</pre></div></div></div></div></div></div></div>"
      ],
      "text/plain": [
       "Pipeline(steps=[('adasyn', ADASYN(n_jobs=-1, random_state=42)),\n",
       "                ('gradientboostingclassifier',\n",
       "                 GradientBoostingClassifier(random_state=42))])"
      ]
     },
     "execution_count": 46,
     "metadata": {},
     "output_type": "execute_result"
    }
   ],
   "source": [
    "pipeline_smote.fit(X_train,y_train)\n",
    "pipeline_ro.fit(X_train,y_train)\n",
    "pipeline_adasyn.fit(X_train,y_train)"
   ]
  },
  {
   "cell_type": "code",
   "execution_count": 47,
   "id": "d13e7088",
   "metadata": {},
   "outputs": [
    {
     "name": "stdout",
     "output_type": "stream",
     "text": [
      "smote\n",
      "f1 =  0.3783783783783784\n",
      "gm =  0.5468165968051549\n",
      "bas =  0.6434019832189168\n",
      "\n",
      "random oversampler\n",
      "f1 =  0.2950819672131147\n",
      "gm =  0.602381673809458\n",
      "bas =  0.6593113217827177\n",
      "\n",
      "adasyn\n",
      "f1 =  0.3888888888888889\n",
      "gm =  0.5475136227054583\n",
      "bas =  0.644655116050997\n"
     ]
    }
   ],
   "source": [
    "print(\"smote\")\n",
    "print(\"f1 = \", f1_score(y_test, pipeline_smote.predict(X_test)))\n",
    "print(\"gm = \", geometric_mean_score(y_test, pipeline_smote.predict(X_test)))\n",
    "print(\"bas = \", balanced_accuracy_score(y_test, pipeline_smote.predict(X_test)))\n",
    "\n",
    "print(\"\")\n",
    "\n",
    "print(\"random oversampler\")\n",
    "print(\"f1 = \", f1_score(y_test, pipeline_ro.predict(X_test)))\n",
    "print(\"gm = \", geometric_mean_score(y_test, pipeline_ro.predict(X_test)))\n",
    "print(\"bas = \", balanced_accuracy_score(y_test, pipeline_ro.predict(X_test)))\n",
    "\n",
    "print(\"\")\n",
    "\n",
    "print(\"adasyn\")\n",
    "print(\"f1 = \", f1_score(y_test, pipeline_adasyn.predict(X_test)))\n",
    "print(\"gm = \", geometric_mean_score(y_test, pipeline_adasyn.predict(X_test)))\n",
    "print(\"bas = \", balanced_accuracy_score(y_test, pipeline_adasyn.predict(X_test)))\n"
   ]
  },
  {
   "cell_type": "markdown",
   "id": "c6025b10",
   "metadata": {},
   "source": [
    "### Proceed to oversampling with best oversampler until the minority class become majority experiment"
   ]
  },
  {
   "cell_type": "markdown",
   "id": "31fd265c",
   "metadata": {
    "jp-MarkdownHeadingCollapsed": true
   },
   "source": [
    "## oversampling until the minority class become majority"
   ]
  },
  {
   "cell_type": "markdown",
   "id": "2c005aed",
   "metadata": {},
   "source": [
    "### SMOTE"
   ]
  },
  {
   "cell_type": "code",
   "execution_count": 12,
   "id": "89f60143",
   "metadata": {},
   "outputs": [
    {
     "name": "stdout",
     "output_type": "stream",
     "text": [
      "n =  1000\n",
      "f1 =  0.3783783783783784\n",
      "gm =  0.5468165968051549\n",
      "bas =  0.6434019832189168\n",
      "\n",
      "n =  1500\n",
      "f1 =  0.4210526315789474\n",
      "gm =  0.5845715310418845\n",
      "bas =  0.6651411136536994\n",
      "\n",
      "n =  2000\n",
      "f1 =  0.3902439024390244\n",
      "gm =  0.5823303539814302\n",
      "bas =  0.6613817151574588\n",
      "\n"
     ]
    }
   ],
   "source": [
    "for n in n_ovrs_target:\n",
    "    pipeline_smote_2 = pipe_imblearn(SMOTE(sampling_strategy={ovrs_target:n},k_neighbors = 11,random_state=random_state,\n",
    "                                          n_jobs=-1),\n",
    "                                     GradientBoostingClassifier(random_state = random_state))\n",
    "    \n",
    "    pipeline_smote_2.fit(X_train,y_train)\n",
    "    \n",
    "    print(\"n = \",n)\n",
    "    print(\"f1 = \", f1_score(y_test, pipeline_smote_2.predict(X_test),pos_label=1))\n",
    "    print(\"gm = \", geometric_mean_score(y_test, pipeline_smote_2.predict(X_test)))\n",
    "    print(\"bas = \", balanced_accuracy_score(y_test, pipeline_smote_2.predict(X_test)))\n",
    "    \n",
    "    print(\"\")"
   ]
  },
  {
   "cell_type": "markdown",
   "id": "6547b97c",
   "metadata": {},
   "source": [
    "### Random Oversampler"
   ]
  },
  {
   "cell_type": "code",
   "execution_count": 14,
   "id": "77e101df",
   "metadata": {},
   "outputs": [
    {
     "name": "stdout",
     "output_type": "stream",
     "text": [
      "n =  1000\n",
      "f1 =  0.3272727272727273\n",
      "gm =  0.6072462077680217\n",
      "bas =  0.6668301187751988\n",
      "\n",
      "n =  1500\n",
      "f1 =  0.28125\n",
      "gm =  0.5999346155939866\n",
      "bas =  0.655551923286477\n",
      "\n",
      "n =  2000\n",
      "f1 =  0.25352112676056343\n",
      "gm =  0.5941856228734856\n",
      "bas =  0.6467799934619156\n",
      "\n"
     ]
    }
   ],
   "source": [
    "for n in n_ovrs_target:\n",
    "    pipeline_ro_2 = pipe_imblearn(RandomOverSampler(sampling_strategy={ovrs_target:n},random_state=random_state),\n",
    "                                  GradientBoostingClassifier(random_state = random_state))\n",
    "    \n",
    "    pipeline_ro_2.fit(X_train,y_train)\n",
    "    \n",
    "    print(\"n = \",n)\n",
    "    print(\"f1 = \", f1_score(y_test, pipeline_ro_2.predict(X_test),pos_label=1))\n",
    "    print(\"gm = \", geometric_mean_score(y_test, pipeline_ro_2.predict(X_test)))\n",
    "    print(\"bas = \", balanced_accuracy_score(y_test, pipeline_ro_2.predict(X_test)))\n",
    "    \n",
    "    print(\"\")"
   ]
  },
  {
   "cell_type": "markdown",
   "id": "e966a853",
   "metadata": {},
   "source": [
    "### Adasyn"
   ]
  },
  {
   "cell_type": "code",
   "execution_count": 48,
   "id": "3dc42bc4",
   "metadata": {},
   "outputs": [
    {
     "name": "stdout",
     "output_type": "stream",
     "text": [
      "n =  1000\n",
      "f1 =  0.3783783783783784\n",
      "gm =  0.5468165968051549\n",
      "bas =  0.6434019832189168\n",
      "\n",
      "n =  1500\n",
      "f1 =  0.30434782608695654\n",
      "gm =  0.540502915795298\n",
      "bas =  0.6321237877301951\n",
      "\n",
      "n =  2000\n",
      "f1 =  0.2978723404255319\n",
      "gm =  0.5397968372237237\n",
      "bas =  0.6308706548981149\n",
      "\n"
     ]
    }
   ],
   "source": [
    "for n in n_ovrs_target:\n",
    "    pipeline_adasyn_2 = pipe_imblearn(ADASYN(sampling_strategy={ovrs_target:n},random_state=random_state, n_jobs=-1),\n",
    "                                     GradientBoostingClassifier(random_state = random_state))\n",
    "    \n",
    "    pipeline_adasyn_2.fit(X_train,y_train)\n",
    "    \n",
    "    print(\"n = \",n)\n",
    "    print(\"f1 = \", f1_score(y_test, pipeline_adasyn_2.predict(X_test),pos_label=1))\n",
    "    print(\"gm = \", geometric_mean_score(y_test, pipeline_adasyn_2.predict(X_test)))\n",
    "    print(\"bas = \", balanced_accuracy_score(y_test, pipeline_adasyn_2.predict(X_test)))\n",
    "    \n",
    "    print(\"\")"
   ]
  },
  {
   "cell_type": "markdown",
   "id": "a0aab606",
   "metadata": {
    "jp-MarkdownHeadingCollapsed": true
   },
   "source": [
    "## oversampling + undersampling (1)"
   ]
  },
  {
   "cell_type": "markdown",
   "id": "8c5dafa7",
   "metadata": {},
   "source": [
    "### Random Undersampling"
   ]
  },
  {
   "cell_type": "code",
   "execution_count": 15,
   "id": "b0aa29e9",
   "metadata": {},
   "outputs": [
    {
     "name": "stdout",
     "output_type": "stream",
     "text": [
      "n =  1000\n",
      "f1 =  0.39999999999999997\n",
      "gm =  0.5830783701587431\n",
      "bas =  0.662634847989539\n",
      "\n",
      "n =  1500\n",
      "f1 =  0.2352941176470588\n",
      "gm =  0.41335449368831884\n",
      "bas =  0.578184591914569\n",
      "\n",
      "n =  2000\n",
      "f1 =  0.29411764705882354\n",
      "gm =  0.4627334677513418\n",
      "bas =  0.6011768551814318\n",
      "\n"
     ]
    }
   ],
   "source": [
    "for n in n_ovrs_target:\n",
    "    pipeline_smote_3 = pipe_imblearn(SMOTE(sampling_strategy={ovrs_target:n},k_neighbors = 11,random_state=random_state,\n",
    "                                          n_jobs=-1),\n",
    "                                      RandomUnderSampler(random_state=random_state),\n",
    "                                     GradientBoostingClassifier(random_state = random_state))\n",
    "    \n",
    "    pipeline_smote_3.fit(X_train,y_train)\n",
    "    \n",
    "    print(\"n = \",n)\n",
    "    print(\"f1 = \", f1_score(y_test, pipeline_smote_3.predict(X_test),pos_label=1))\n",
    "    print(\"gm = \", geometric_mean_score(y_test, pipeline_smote_3.predict(X_test)))\n",
    "    print(\"bas = \", balanced_accuracy_score(y_test, pipeline_smote_3.predict(X_test)))\n",
    "    \n",
    "    print(\"\")"
   ]
  },
  {
   "cell_type": "code",
   "execution_count": 16,
   "id": "91663e0b",
   "metadata": {},
   "outputs": [
    {
     "name": "stdout",
     "output_type": "stream",
     "text": [
      "n =  1000\n",
      "f1 =  0.28571428571428575\n",
      "gm =  0.5709925327756588\n",
      "bas =  0.6425847226762558\n",
      "\n",
      "n =  1500\n",
      "f1 =  0.38461538461538464\n",
      "gm =  0.6434894520877869\n",
      "bas =  0.6935817805383022\n",
      "\n",
      "n =  2000\n",
      "f1 =  0.3829787234042554\n",
      "gm =  0.6136722725186375\n",
      "bas =  0.6768551814318404\n",
      "\n"
     ]
    }
   ],
   "source": [
    "for n in n_ovrs_target:\n",
    "    pipeline_ro_3 = pipe_imblearn(RandomOverSampler(sampling_strategy={ovrs_target:n},random_state=random_state),\n",
    "                                      RandomUnderSampler(random_state=random_state),\n",
    "                                     GradientBoostingClassifier(random_state = random_state))\n",
    "    \n",
    "    pipeline_ro_3.fit(X_train,y_train)\n",
    "    \n",
    "    print(\"n = \",n)\n",
    "    print(\"f1 = \", f1_score(y_test, pipeline_ro_3.predict(X_test),pos_label=1))\n",
    "    print(\"gm = \", geometric_mean_score(y_test, pipeline_ro_3.predict(X_test)))\n",
    "    print(\"bas = \", balanced_accuracy_score(y_test, pipeline_ro_3.predict(X_test)))\n",
    "    \n",
    "    print(\"\")"
   ]
  },
  {
   "cell_type": "code",
   "execution_count": 12,
   "id": "214e7ef2",
   "metadata": {},
   "outputs": [
    {
     "name": "stdout",
     "output_type": "stream",
     "text": [
      "n =  1000\n",
      "f1 =  0.358974358974359\n",
      "gm =  0.5454198726931428\n",
      "bas =  0.6408957175547565\n",
      "\n",
      "n =  1500\n",
      "f1 =  0.2857142857142857\n",
      "gm =  0.46214437334604436\n",
      "bas =  0.5999237223493517\n",
      "\n",
      "n =  2000\n",
      "f1 =  0.33333333333333337\n",
      "gm =  0.5062537962114355\n",
      "bas =  0.6216628527841342\n",
      "\n"
     ]
    }
   ],
   "source": [
    "for n in n_ovrs_target:\n",
    "    pipeline_adasyn_3 = pipe_imblearn(ADASYN(sampling_strategy={ovrs_target:n},random_state=random_state, n_jobs=-1),\n",
    "                                      RandomUnderSampler(random_state=random_state),\n",
    "                                     GradientBoostingClassifier(random_state = random_state))\n",
    "    \n",
    "    pipeline_adasyn_3.fit(X_train,y_train)\n",
    "    \n",
    "    print(\"n = \",n)\n",
    "    print(\"f1 = \", f1_score(y_test, pipeline_adasyn_3.predict(X_test),pos_label=1))\n",
    "    print(\"gm = \", geometric_mean_score(y_test, pipeline_adasyn_3.predict(X_test)))\n",
    "    print(\"bas = \", balanced_accuracy_score(y_test, pipeline_adasyn_3.predict(X_test)))\n",
    "    \n",
    "    print(\"\")"
   ]
  }
 ],
 "metadata": {
  "kernelspec": {
   "display_name": "Python 3 (ipykernel)",
   "language": "python",
   "name": "python3"
  },
  "language_info": {
   "codemirror_mode": {
    "name": "ipython",
    "version": 3
   },
   "file_extension": ".py",
   "mimetype": "text/x-python",
   "name": "python",
   "nbconvert_exporter": "python",
   "pygments_lexer": "ipython3",
   "version": "3.11.3"
  }
 },
 "nbformat": 4,
 "nbformat_minor": 5
}
