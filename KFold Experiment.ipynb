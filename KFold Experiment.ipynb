{
 "cells": [
  {
   "cell_type": "code",
   "execution_count": 1,
   "id": "c289f5eb",
   "metadata": {},
   "outputs": [],
   "source": [
    "import random\n",
    "import math\n",
    "import copy\n",
    "import time\n",
    "import json\n",
    "import datetime\n",
    "import numpy as np\n",
    "import pandas as pd\n",
    "\n",
    "from sklearn.preprocessing import StandardScaler\n",
    "from imblearn.over_sampling import SMOTE\n",
    "from sklearn.ensemble import RandomForestClassifier\n",
    "from sklearn.model_selection import KFold\n",
    "from sklearn.pipeline import make_pipeline\n",
    "from sklearn.metrics import f1_score\n",
    "\n",
    "from imblearn.pipeline import make_pipeline as pipe_imblearn\n",
    "\n",
    "from smote_aco import SMOTE_ACO\n",
    "\n",
    "import warnings\n",
    "warnings.filterwarnings('ignore')"
   ]
  },
  {
   "cell_type": "markdown",
   "id": "ea35b53a",
   "metadata": {},
   "source": [
    "# Dataset"
   ]
  },
  {
   "cell_type": "code",
   "execution_count": 2,
   "id": "81f9df41",
   "metadata": {},
   "outputs": [],
   "source": [
    "df = pd.read_csv(\"NR_AB.csv\").drop('Unnamed: 0',axis=1)"
   ]
  },
  {
   "cell_type": "code",
   "execution_count": 3,
   "id": "8e14005b",
   "metadata": {},
   "outputs": [],
   "source": [
    "X = df.drop(['label','drug_no','protein_no'],axis=1)\n",
    "y = df['label']"
   ]
  },
  {
   "cell_type": "code",
   "execution_count": 4,
   "id": "eb6ec826-4d78-4b33-8397-8fce0da10209",
   "metadata": {},
   "outputs": [
    {
     "data": {
      "text/plain": [
       "0"
      ]
     },
     "execution_count": 4,
     "metadata": {},
     "output_type": "execute_result"
    }
   ],
   "source": [
    "y.isnull().sum()"
   ]
  },
  {
   "cell_type": "markdown",
   "id": "3b7759ff",
   "metadata": {},
   "source": [
    "# Experimentation\n",
    "\n",
    "The experiments conducted here are as follows:\n",
    "- baseline\n",
    "- oversampling with standard smote\n",
    "- oversampling with smote until the minority class become majority\n",
    "- oversampling with smote aco\n",
    "\n",
    "All experiments are evaluated using K-Fold cross validation with F1-score\n",
    "\n",
    "lets go!"
   ]
  },
  {
   "cell_type": "code",
   "execution_count": 5,
   "id": "bdd4b9e3",
   "metadata": {},
   "outputs": [],
   "source": [
    "k = 5 # how many folds we want\n",
    "random_state = 42\n",
    "\n",
    "n_ovrs_target = 1000\n",
    "ovrs_target = 1"
   ]
  },
  {
   "cell_type": "code",
   "execution_count": 6,
   "id": "a7cf4959",
   "metadata": {},
   "outputs": [],
   "source": [
    "model = RandomForestClassifier(random_state = random_state)\n",
    "smote = SMOTE(random_state=random_state, n_jobs=-1)\n",
    "smote_2 = SMOTE(sampling_strategy={ovrs_target:n_ovrs_target},random_state=random_state,n_jobs=-1)\n",
    "\n",
    "pipeline = make_pipeline(StandardScaler(),model)\n",
    "pipeline_smote = pipe_imblearn(StandardScaler(),smote,model)\n",
    "pipeline_smote_2 = pipe_imblearn(StandardScaler(),smote_2,model)"
   ]
  },
  {
   "cell_type": "markdown",
   "id": "748f1770",
   "metadata": {},
   "source": [
    "## Baseline"
   ]
  },
  {
   "cell_type": "code",
   "execution_count": 6,
   "id": "038e1bd7",
   "metadata": {},
   "outputs": [
    {
     "name": "stdout",
     "output_type": "stream",
     "text": [
      "fold results =  [0.09523809523809523, 0.38095238095238093, 0.29411764705882354, 0.3333333333333333, 0.31578947368421056]\n",
      "mean results =  0.2838861860533687\n"
     ]
    }
   ],
   "source": [
    "kf = KFold(n_splits=5, random_state=random_state,shuffle=True)\n",
    "kf.get_n_splits(X)\n",
    "\n",
    "fold_results = []\n",
    "for train_index, test_index in kf.split(X):\n",
    "    X_train, X_test = X.loc[train_index], X.loc[test_index]\n",
    "    y_train, y_test = y.loc[train_index], y.loc[test_index]\n",
    "    \n",
    "#     smote_aco = SMOTE_ACO(random_state=random_state)\n",
    "#     smote_aco.set_model(X_train, y_train, X_test, y_test,ovrs_target=1,n_ovrs_target=1000)\n",
    "    \n",
    "#     new_X_train,new_y_train,fitness,fitness = smote_aco.construct_solution()\n",
    "    \n",
    "    pipeline.fit(X_train,y_train)\n",
    "    score = f1_score(y_test, pipeline.predict(X_test))\n",
    "    fold_results.append(score)\n",
    "\n",
    "print(\"fold results = \",fold_results)\n",
    "print(\"mean results = \", np.array(fold_results).mean())"
   ]
  },
  {
   "cell_type": "markdown",
   "id": "879f1e50",
   "metadata": {},
   "source": [
    "## Oversampling with standard SMOTE"
   ]
  },
  {
   "cell_type": "code",
   "execution_count": 7,
   "id": "f6c8fc17",
   "metadata": {},
   "outputs": [
    {
     "name": "stdout",
     "output_type": "stream",
     "text": [
      "fold results =  [0.24000000000000005, 0.3478260869565218, 0.3529411764705882, 0.4666666666666667, 0.5217391304347827]\n",
      "mean results =  0.3858346121057119\n"
     ]
    }
   ],
   "source": [
    "kf = KFold(n_splits=5, random_state=random_state,shuffle=True)\n",
    "kf.get_n_splits(X)\n",
    "\n",
    "fold_results = []\n",
    "for train_index, test_index in kf.split(X):\n",
    "    X_train, X_test = X.loc[train_index], X.loc[test_index]\n",
    "    y_train, y_test = y.loc[train_index], y.loc[test_index]\n",
    "    \n",
    "#     smote_aco = SMOTE_ACO(random_state=random_state)\n",
    "#     smote_aco.set_model(X_train, y_train, X_test, y_test,ovrs_target=1,n_ovrs_target=1000)\n",
    "    \n",
    "#     new_X_train,new_y_train,fitness,fitness = smote_aco.construct_solution()\n",
    "    \n",
    "    pipeline_smote.fit(X_train,y_train)\n",
    "    score = f1_score(y_test, pipeline_smote.predict(X_test))\n",
    "    fold_results.append(score)\n",
    "\n",
    "print(\"fold results = \",fold_results)\n",
    "print(\"mean results = \", np.array(fold_results).mean())"
   ]
  },
  {
   "cell_type": "markdown",
   "id": "31fd265c",
   "metadata": {},
   "source": [
    "## oversampling with smote until the minority class become majority"
   ]
  },
  {
   "cell_type": "code",
   "execution_count": 8,
   "id": "089f0a83",
   "metadata": {},
   "outputs": [
    {
     "name": "stdout",
     "output_type": "stream",
     "text": [
      "fold results =  [0.24000000000000005, 0.3636363636363636, 0.3888888888888889, 0.5517241379310345, 0.5]\n",
      "mean results =  0.4088498780912574\n"
     ]
    }
   ],
   "source": [
    "kf = KFold(n_splits=5, random_state=random_state,shuffle=True)\n",
    "kf.get_n_splits(X)\n",
    "\n",
    "fold_results = []\n",
    "for train_index, test_index in kf.split(X):\n",
    "    X_train, X_test = X.loc[train_index], X.loc[test_index]\n",
    "    y_train, y_test = y.loc[train_index], y.loc[test_index]\n",
    "    \n",
    "#     smote_aco = SMOTE_ACO(random_state=random_state)\n",
    "#     smote_aco.set_model(X_train, y_train, X_test, y_test,ovrs_target=1,n_ovrs_target=1000)\n",
    "    \n",
    "#     new_X_train,new_y_train,fitness,fitness = smote_aco.construct_solution()\n",
    "    \n",
    "    pipeline_smote_2.fit(X_train,y_train)\n",
    "    score = f1_score(y_test, pipeline_smote_2.predict(X_test))\n",
    "    fold_results.append(score)\n",
    "\n",
    "print(\"fold results = \",fold_results)\n",
    "print(\"mean results = \", np.array(fold_results).mean())"
   ]
  },
  {
   "cell_type": "markdown",
   "id": "7f877a2a",
   "metadata": {},
   "source": [
    "## oversampling with smote aco"
   ]
  },
  {
   "cell_type": "code",
   "execution_count": null,
   "id": "19a83915",
   "metadata": {},
   "outputs": [],
   "source": [
    "kf = KFold(n_splits=5, random_state=random_state,shuffle=True)\n",
    "kf.get_n_splits(X)\n",
    "\n",
    "fold_results = []\n",
    "fold_fitness_history = []\n",
    "for train_index, test_index in kf.split(X):\n",
    "    X_train, X_test = X.loc[train_index], X.loc[test_index]\n",
    "    y_train, y_test = y.loc[train_index], y.loc[test_index]\n",
    "    \n",
    "    smote_aco = SMOTE_ACO(random_state=random_state)\n",
    "    smote_aco.set_model(X_train, y_train, X_test, y_test,ovrs_target=ovrs_target,n_ovrs_target=n_ovrs_target)\n",
    "    \n",
    "    new_X_train,new_y_train,fitness,fitness_history = smote_aco.construct_solution()\n",
    "    \n",
    "    fold_results.append(fitness)\n",
    "    fold_fitness_history.append(fitness_history)\n",
    "\n",
    "print(\"fold results = \",fold_results)\n",
    "print(\"mean results = \", np.array(fold_results).mean())"
   ]
  },
  {
   "cell_type": "code",
   "execution_count": null,
   "id": "03e9ca89",
   "metadata": {},
   "outputs": [],
   "source": [
    "print(\"fold results = \",fold_results)\n",
    "print(\"mean results = \", np.array(fold_results).mean())"
   ]
  },
  {
   "cell_type": "code",
   "execution_count": null,
   "id": "6f5720e7",
   "metadata": {},
   "outputs": [],
   "source": [
    "fold_fitness_history"
   ]
  },
  {
   "cell_type": "code",
   "execution_count": null,
   "id": "d419b48f",
   "metadata": {},
   "outputs": [],
   "source": []
  }
 ],
 "metadata": {
  "kernelspec": {
   "display_name": "Python 3 (ipykernel)",
   "language": "python",
   "name": "python3"
  },
  "language_info": {
   "codemirror_mode": {
    "name": "ipython",
    "version": 3
   },
   "file_extension": ".py",
   "mimetype": "text/x-python",
   "name": "python",
   "nbconvert_exporter": "python",
   "pygments_lexer": "ipython3",
   "version": "3.12.1"
  }
 },
 "nbformat": 4,
 "nbformat_minor": 5
}
